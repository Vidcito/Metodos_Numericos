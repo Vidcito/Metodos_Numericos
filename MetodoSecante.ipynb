{
  "nbformat": 4,
  "nbformat_minor": 0,
  "metadata": {
    "colab": {
      "provenance": [],
      "authorship_tag": "ABX9TyOWZDoglWUygF6KAVYPV9sG",
      "include_colab_link": true
    },
    "kernelspec": {
      "name": "python3",
      "display_name": "Python 3"
    },
    "language_info": {
      "name": "python"
    }
  },
  "cells": [
    {
      "cell_type": "markdown",
      "metadata": {
        "id": "view-in-github",
        "colab_type": "text"
      },
      "source": [
        "<a href=\"https://colab.research.google.com/github/Vidcito/Metodos_Numericos/blob/main/MetodoSecante.ipynb\" target=\"_parent\"><img src=\"https://colab.research.google.com/assets/colab-badge.svg\" alt=\"Open In Colab\"/></a>"
      ]
    },
    {
      "cell_type": "code",
      "execution_count": 1,
      "metadata": {
        "id": "yxDwyp501X4U"
      },
      "outputs": [],
      "source": [
        "def secant_method(f, x0, x1, tol=1e-6, max_iter=100):\n",
        "    x_prev = x0\n",
        "    x_curr = x1\n",
        "    f_prev = f(x_prev)  # Pre-calculate f(x_prev)\n",
        "    f_curr = f(x_curr)  # Pre-calculate f(x_curr)\n",
        "    iter_count = 0\n",
        "    while abs(f_curr) > tol and iter_count < max_iter:\n",
        "        # Calculate the next approximation using the secant method formula\n",
        "        x_next = x_curr - f_curr * (x_curr - x_prev) / (f_curr - f_prev)\n",
        "\n",
        "        # Update variables for the next iteration\n",
        "        x_prev = x_curr\n",
        "        f_prev = f_curr # Update the pre-calculated values\n",
        "        x_curr = x_next\n",
        "        f_curr = f(x_curr) # Calculate f(x_curr) only once per iteration.\n",
        "        iter_count += 1\n",
        "    return x_curr, iter_count"
      ]
    },
    {
      "cell_type": "code",
      "source": [
        "i = 0\n",
        "\n",
        "\n",
        "def func(x):\n",
        "    global i\n",
        "    i += 1\n",
        "    y = x**3 - 3 * x**2 + x - 1\n",
        "    print(f\"Llamada i={i}\\t x={x:.5f}\\t y={y:.2f}\")\n",
        "    return y\n",
        "\n",
        "\n",
        "secant_method(func, x0=2, x1=3)"
      ],
      "metadata": {
        "colab": {
          "base_uri": "https://localhost:8080/"
        },
        "id": "GKcq-5Qh1k5s",
        "outputId": "352ca608-03f3-4cfc-f655-5ff7d3403bca"
      },
      "execution_count": 4,
      "outputs": [
        {
          "output_type": "stream",
          "name": "stdout",
          "text": [
            "Llamada i=1\t x=2.00000\t y=-3.00\n",
            "Llamada i=2\t x=3.00000\t y=2.00\n",
            "Llamada i=3\t x=2.60000\t y=-1.10\n",
            "Llamada i=4\t x=2.74227\t y=-0.20\n",
            "Llamada i=5\t x=2.77296\t y=0.03\n",
            "Llamada i=6\t x=2.76922\t y=-0.00\n",
            "Llamada i=7\t x=2.76929\t y=-0.00\n",
            "Llamada i=8\t x=2.76929\t y=0.00\n"
          ]
        },
        {
          "output_type": "execute_result",
          "data": {
            "text/plain": [
              "(2.7692923542484045, 6)"
            ]
          },
          "metadata": {},
          "execution_count": 4
        }
      ]
    },
    {
      "cell_type": "code",
      "source": [
        "i = 0\n",
        "import math\n",
        "\n",
        "\n",
        "def func(x):\n",
        "    global i\n",
        "    i += 1\n",
        "    y = math.sin(x) + 0.5\n",
        "    print(f\"Llamada i={i}\\t x={x:.5f}\\t y={y:.2f}\")\n",
        "    return y\n",
        "\n",
        "\n",
        "secant_method(func, x0=2, x1=3)"
      ],
      "metadata": {
        "colab": {
          "base_uri": "https://localhost:8080/"
        },
        "id": "xwt434dy1lCs",
        "outputId": "6e10e3ce-e481-4a53-e35c-e281d2904990"
      },
      "execution_count": 5,
      "outputs": [
        {
          "output_type": "stream",
          "name": "stdout",
          "text": [
            "Llamada i=1\t x=2.00000\t y=1.41\n",
            "Llamada i=2\t x=3.00000\t y=0.64\n",
            "Llamada i=3\t x=3.83460\t y=-0.14\n",
            "Llamada i=4\t x=3.68602\t y=-0.02\n",
            "Llamada i=5\t x=3.66399\t y=0.00\n",
            "Llamada i=6\t x=3.66520\t y=-0.00\n",
            "Llamada i=7\t x=3.66519\t y=-0.00\n"
          ]
        },
        {
          "output_type": "execute_result",
          "data": {
            "text/plain": [
              "(3.66519143172732, 5)"
            ]
          },
          "metadata": {},
          "execution_count": 5
        }
      ]
    }
  ]
}