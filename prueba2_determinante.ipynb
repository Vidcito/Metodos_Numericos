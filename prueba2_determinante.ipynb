{
  "nbformat": 4,
  "nbformat_minor": 0,
  "metadata": {
    "colab": {
      "provenance": [],
      "authorship_tag": "ABX9TyPQaP1lEkB0R6j6wcxUM+Fd",
      "include_colab_link": true
    },
    "kernelspec": {
      "name": "python3",
      "display_name": "Python 3"
    },
    "language_info": {
      "name": "python"
    }
  },
  "cells": [
    {
      "cell_type": "markdown",
      "metadata": {
        "id": "view-in-github",
        "colab_type": "text"
      },
      "source": [
        "<a href=\"https://colab.research.google.com/github/Vidcito/Metodos_Numericos/blob/main/prueba2_determinante.ipynb\" target=\"_parent\"><img src=\"https://colab.research.google.com/assets/colab-badge.svg\" alt=\"Open In Colab\"/></a>"
      ]
    },
    {
      "cell_type": "code",
      "execution_count": null,
      "metadata": {
        "id": "HzbWaHdCW_pt"
      },
      "outputs": [],
      "source": [
        "%load_ext autoreload"
      ]
    },
    {
      "cell_type": "code",
      "source": [
        "%autoreload 2\n",
        "from src import (\n",
        "    eliminacion_gaussiana,\n",
        "    descomposicion_LU,\n",
        "    resolver_LU,\n",
        "    matriz_aumentada,\n",
        "    separar_m_aumentada,\n",
        ")"
      ],
      "metadata": {
        "id": "P72p9_bXXOMc"
      },
      "execution_count": null,
      "outputs": []
    },
    {
      "cell_type": "code",
      "source": [
        "def calc_determinante(A: list[list[float]]) -> float:\n",
        "    \"\"\"Función que calcula el determinante usando el método...\n",
        "    [Descomposición LU, eliminación gaussiana, Gauss-Jordan, Gauss-Jacobi o Gauss-Seidel]\n",
        "    ## Parameters\n",
        "    ``A``: Matriz cuadrada de tamaño n x n\n",
        "    ## Return\n",
        "    ``detA``: Determinante de la matriz A\n",
        "    \"\"\"\n",
        "    # Usando descomposición LU\n",
        "    try:\n",
        "        n = len(A)\n",
        "        L, U = descomposicion_LU(A)\n",
        "\n",
        "        detA = 1.0\n",
        "        for i in range(n):\n",
        "            detA *= U[i][i]\n",
        "        return detA\n",
        "    except ValueError as e:\n",
        "        print(f\"Error al calcular el determinante: {e}\")\n",
        "        return None"
      ],
      "metadata": {
        "id": "tawNGTxcXQP7"
      },
      "execution_count": null,
      "outputs": []
    },
    {
      "cell_type": "code",
      "source": [
        "A1 = [\n",
        "    [-4, 2, -4, -4, 1, 2, 5, 3, 5, 1],\n",
        "    [1, 0, 4, 3, 0, -2, 3, 0, 1, 5],\n",
        "    [5, 5, -4, 5, -4, 2, 2, 2, 4, 4],\n",
        "    [-1, 3, 4, -1, -4, 0, 5, 0, 0, 5],\n",
        "    [4, 1, 4, 2, 0, 0, 3, -1, 0, 2],\n",
        "    [2, -2, 1, -1, -2, -3, 2, -2, 4, -1],\n",
        "    [3, -2, -3, -2, -1, -3, 5, -1, 5, 0],\n",
        "    [3, 4, -3, 3, -2, 2, -4, -4, 1, 5],\n",
        "    [-4, 0, 3, 3, -3, -2, -2, 0, 5, -4],\n",
        "    [-2, 4, 4, -2, -1, 1, 5, -1, 3, -3],\n",
        "]\n",
        "calc_determinante(A1)"
      ],
      "metadata": {
        "colab": {
          "base_uri": "https://localhost:8080/"
        },
        "id": "jf0a4o6-XUIK",
        "outputId": "7b0896e3-cc80-43d4-dc7a-35d8bfb92452"
      },
      "execution_count": null,
      "outputs": [
        {
          "output_type": "execute_result",
          "data": {
            "text/plain": [
              "9912776.000000015"
            ]
          },
          "metadata": {},
          "execution_count": 11
        }
      ]
    },
    {
      "cell_type": "code",
      "source": [
        "A2 = [\n",
        "    [2, 2, 4, 5, -2, -3, 2, -2],\n",
        "    [-1, -1, 3, 2, 1, 1, -4, 4],\n",
        "    [2, 5, -3, -3, -2, 2, 5, 3],\n",
        "    [-2, -4, 0, 1, -1, 5, -4, -1],\n",
        "    [1, -2, -1, 5, 5, 2, 1, -2],\n",
        "    [5, 4, 0, 3, 4, -1, -3, -2],\n",
        "    [4, -4, 1, 2, 3, 3, -1, 3],\n",
        "    [-2, 1, -3, 0, 5, 4, 4, -4],\n",
        "]\n",
        "calc_determinante(A2)"
      ],
      "metadata": {
        "colab": {
          "base_uri": "https://localhost:8080/"
        },
        "id": "mQFXIeeFXdT7",
        "outputId": "cd5215d3-aa98-4ccb-f2cf-657c41261e3d"
      },
      "execution_count": null,
      "outputs": [
        {
          "output_type": "stream",
          "name": "stdout",
          "text": [
            "Error al calcular el determinante: No existe solución única.\n"
          ]
        }
      ]
    }
  ]
}