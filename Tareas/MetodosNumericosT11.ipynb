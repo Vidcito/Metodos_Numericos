{
 "cells": [
  {
   "cell_type": "markdown",
   "id": "009cfbb1-19e9-447a-bee6-562415d66e41",
   "metadata": {},
   "source": [
    "# ESCUELA POLITÉCNICA NACIONAL\n",
    "\n",
    "## MÉTODOS NUMÉRICOS\n",
    "\n",
    "### TAREA 11"
   ]
  },
  {
   "cell_type": "markdown",
   "id": "cc453dee-8271-49d3-abcb-cd6364ea65eb",
   "metadata": {},
   "source": [
    "David Alejandro Puga Novoa - GR1CC - 05/02/2025"
   ]
  },
  {
   "cell_type": "markdown",
   "id": "0f75019c-1fc2-431e-ac3e-50812ef872e6",
   "metadata": {},
   "source": [
    "Primero desarrollaremos funciones para la resolución de estos ejercicios las cuales seran:"
   ]
  },
  {
   "cell_type": "markdown",
   "id": "39fabe21-e706-4248-9012-caed83ca4940",
   "metadata": {},
   "source": [
    "- MÉTODO DE GAUSS-JACOBI"
   ]
  },
  {
   "cell_type": "code",
   "execution_count": 70,
   "id": "4c74c821-4c5b-459d-ba59-1d3da7c1582f",
   "metadata": {},
   "outputs": [],
   "source": [
    "import numpy as np\n",
    "\n",
    "def gauss_jacobi(\n",
    "    A: np.array, b: np.array, x0: np.array, tol: float, max_iter: int\n",
    ") -> np.array:\n",
    "    if not isinstance(A, np.ndarray):\n",
    "        A = np.array(A, dtype=float)\n",
    "    assert A.shape[0] == A.shape[1], \"La matriz A debe ser de tamaño n-by-(n).\"\n",
    "\n",
    "    if not isinstance(b, np.ndarray):\n",
    "        b = np.array(b, dtype=float)\n",
    "    assert b.shape[0] == A.shape[0], \"El vector b debe ser de tamaño n.\"\n",
    "\n",
    "    if not isinstance(x0, np.ndarray):\n",
    "        x0 = np.array(x0, dtype=float)\n",
    "    assert x0.shape[0] == A.shape[0], \"El vector x0 debe ser de tamaño n.\"\n",
    "\n",
    "    n = A.shape[0]\n",
    "    x = x0.copy()\n",
    "    for k in range(1, max_iter):\n",
    "        x_new = np.zeros((n, 1))  # prealloc\n",
    "        for i in range(n):\n",
    "            suma = sum([A[i, j] * x[j] for j in range(n) if j != i])\n",
    "            x_new[i] = (b[i] - suma) / A[i, i]\n",
    "\n",
    "        if np.linalg.norm(x_new - x) < tol:\n",
    "            return x_new\n",
    "\n",
    "        x = x_new.copy()\n",
    "\n",
    "    return x"
   ]
  },
  {
   "cell_type": "markdown",
   "id": "0853541a-8b21-4fb2-b152-d2d984bfc79b",
   "metadata": {},
   "source": [
    "- MÉTODO DE GAUSS-SEIDEL"
   ]
  },
  {
   "cell_type": "code",
   "execution_count": 69,
   "id": "c1430f8e-fdd0-4d36-ab5d-02fbdd986d11",
   "metadata": {},
   "outputs": [],
   "source": [
    "def gauss_seidel(\n",
    "    A: np.array, b: np.array, x0: np.array, tol: float, max_iter: int\n",
    ") -> np.array:\n",
    "    if not isinstance(A, np.ndarray):\n",
    "        A = np.array(A, dtype=float)\n",
    "    assert A.shape[0] == A.shape[1], \"La matriz A debe ser de tamaño n-by-(n).\"\n",
    "\n",
    "    if not isinstance(b, np.ndarray):\n",
    "        b = np.array(b, dtype=float)\n",
    "    assert b.shape[0] == A.shape[0], \"El vector b debe ser de tamaño n.\"\n",
    "\n",
    "    if not isinstance(x0, np.ndarray):\n",
    "        x0 = np.array(x0, dtype=float)\n",
    "    assert x0.shape[0] == A.shape[0], \"El vector x0 debe ser de tamaño n.\"\n",
    "\n",
    "    n = A.shape[0]\n",
    "    x = x0.copy()\n",
    "\n",
    "    for k in range(1, max_iter):\n",
    "        x_new = np.zeros((n, 1))  # prealloc\n",
    "        for i in range(n):\n",
    "            suma = sum([A[i, j] * x_new[j] for j in range(i) if j != i]) + sum(\n",
    "                [A[i, j] * x[j] for j in range(i, n) if j != i]\n",
    "            )\n",
    "            x_new[i] = (b[i] - suma) / A[i, i]\n",
    "\n",
    "        if np.linalg.norm(x_new - x) < tol:\n",
    "            return x_new\n",
    "\n",
    "        x = x_new.copy()\n",
    "\n",
    "    return x"
   ]
  },
  {
   "cell_type": "markdown",
   "id": "ac0a61db-406d-4e1c-abbe-17d7ea1b97ca",
   "metadata": {},
   "source": [
    "### Encuentre las primeras dos iteraciones del método de Jacobi para los siguientes sistemas lineales, por medio de $x(0) = 0$:"
   ]
  },
  {
   "cell_type": "markdown",
   "id": "e443f768-6c76-4284-b427-a330bda9c064",
   "metadata": {},
   "source": [
    "#### a)"
   ]
  },
  {
   "cell_type": "code",
   "execution_count": 71,
   "id": "94b6c664-7f7b-4cbe-9446-e4ff43d1e6db",
   "metadata": {},
   "outputs": [
    {
     "name": "stdout",
     "output_type": "stream",
     "text": [
      "[[ 0.0350863 ]\n",
      " [-0.23685698]\n",
      " [ 0.65787809]]\n"
     ]
    }
   ],
   "source": [
    "A = [\n",
    "    [3, -1, 1],\n",
    "    [3, 6, 2],\n",
    "    [3, 3, 7]\n",
    "]\n",
    "\n",
    "b = [1, 0, 4]\n",
    "\n",
    "x = gauss_jacobi(A, b, [0, 0, 0], 10e-5, 100)\n",
    "print(x)"
   ]
  },
  {
   "cell_type": "markdown",
   "id": "9038726d-c6be-4c93-9c4a-42474b38b7be",
   "metadata": {},
   "source": [
    "#### b)"
   ]
  },
  {
   "cell_type": "code",
   "execution_count": 5,
   "id": "3bf7110a-0df6-4dbe-b98d-eba862044bbb",
   "metadata": {},
   "outputs": [
    {
     "name": "stdout",
     "output_type": "stream",
     "text": [
      "[[ 0.0350863 ]\n",
      " [-0.23685698]\n",
      " [ 0.65787809]]\n"
     ]
    }
   ],
   "source": [
    "A = [\n",
    "    [3, -1, 1],\n",
    "    [3, 6, 2],\n",
    "    [3, 3, 7]\n",
    "]\n",
    "\n",
    "b = [1, 0, 4]\n",
    "\n",
    "x = gauss_jacobi(A, b, [0, 0, 0], 10e-5, 100)\n",
    "print(x)"
   ]
  },
  {
   "cell_type": "markdown",
   "id": "dc6719a1-d901-4368-b6ce-548e646836e9",
   "metadata": {},
   "source": [
    "#### c)"
   ]
  },
  {
   "cell_type": "code",
   "execution_count": 11,
   "id": "3aac1d99-9a17-415e-821c-f8de62166ad0",
   "metadata": {},
   "outputs": [
    {
     "name": "stdout",
     "output_type": "stream",
     "text": [
      "[[0.9159701]\n",
      " [0.9495603]\n",
      " [0.7899054]]\n"
     ]
    }
   ],
   "source": [
    "A = [\n",
    "    [10, -1, 1],\n",
    "    [-1, 10, -2],\n",
    "    [0, -2, 10]\n",
    "]\n",
    "\n",
    "b = [9, 7, 6]\n",
    "\n",
    "x = gauss_jacobi(A, b, [0, 0, 0], 10e-5, 100)\n",
    "print(x)"
   ]
  },
  {
   "cell_type": "markdown",
   "id": "43d460de-a02d-4175-b926-969144d74148",
   "metadata": {},
   "source": [
    "#### d)"
   ]
  },
  {
   "cell_type": "code",
   "execution_count": 12,
   "id": "df7fbf79-5ab7-4f63-9d24-2e64d8caa08b",
   "metadata": {},
   "outputs": [
    {
     "name": "stdout",
     "output_type": "stream",
     "text": [
      "[[ 0.78661584]\n",
      " [-1.00257369]\n",
      " [ 1.86634212]\n",
      " [ 1.91259293]\n",
      " [ 1.98974776]]\n"
     ]
    }
   ],
   "source": [
    "A = [\n",
    "    [4, 1, 1, 0, 1],\n",
    "    [-1, -3, 1, 1, 0],\n",
    "    [2, 1, 5, -1, -1],\n",
    "    [-1, -1, -1, 4, 0],\n",
    "    [0, 2, -1, 1, 4]\n",
    "]\n",
    "\n",
    "b = [6, 6, 6, 6, 6]\n",
    "\n",
    "x = gauss_jacobi(A, b, [0, 0, 0, 0, 0], 10e-5, 100)\n",
    "print(x)"
   ]
  },
  {
   "cell_type": "markdown",
   "id": "fac6ba86-f0d5-4f9a-8a6f-3e7ad1ced530",
   "metadata": {},
   "source": [
    "### Repita el ejercicio 1 usando el método de Gauss-Siedel."
   ]
  },
  {
   "cell_type": "markdown",
   "id": "93be60bc-9821-4753-9eb8-7acc504491ba",
   "metadata": {},
   "source": [
    "#### a)"
   ]
  },
  {
   "cell_type": "code",
   "execution_count": null,
   "id": "92a6680c-bffa-4016-bcd3-f15b59722a47",
   "metadata": {},
   "outputs": [],
   "source": [
    "A = [\n",
    "    [3, -1, 1],\n",
    "    [3, 6, 2],\n",
    "    [3, 3, 7]\n",
    "]\n",
    "\n",
    "b = [1, 0, 4]\n",
    "\n",
    "x = gauss_seidel(A, b, [0, 0, 0], 10e-5, 100)\n",
    "print(x)"
   ]
  },
  {
   "cell_type": "markdown",
   "id": "afcebd5c-713a-49d6-b1a6-1dd25523b278",
   "metadata": {},
   "source": [
    "#### b)"
   ]
  },
  {
   "cell_type": "code",
   "execution_count": 13,
   "id": "ebac0a76-cc40-4a4e-9703-d8a7be058e93",
   "metadata": {},
   "outputs": [
    {
     "name": "stdout",
     "output_type": "stream",
     "text": [
      "[[0.91596497]\n",
      " [0.94957898]\n",
      " [0.7899158 ]]\n"
     ]
    }
   ],
   "source": [
    "A = [\n",
    "    [10, -1, 1],\n",
    "    [-1, 10, -2],\n",
    "    [0, -2, 10]\n",
    "]\n",
    "\n",
    "b = [9, 7, 6]\n",
    "\n",
    "x = gauss_seidel(A, b, [0, 0, 0], 10e-5, 100)\n",
    "print(x)"
   ]
  },
  {
   "cell_type": "markdown",
   "id": "618045e5-79d6-4360-8c08-76c72206fb2a",
   "metadata": {},
   "source": [
    "#### c)"
   ]
  },
  {
   "cell_type": "code",
   "execution_count": 19,
   "id": "28e97439-9fac-4f16-a419-ba3263ca3d68",
   "metadata": {},
   "outputs": [
    {
     "name": "stdout",
     "output_type": "stream",
     "text": [
      "[[-0.78791707]\n",
      " [ 2.77583885]\n",
      " [-0.29530191]\n",
      " [-2.25906038]]\n"
     ]
    }
   ],
   "source": [
    "A = [\n",
    "    [10, 5, 0, 0],\n",
    "    [5, 10, -4, 0],\n",
    "    [0, -4, -8, 1],\n",
    "    [0, 0, -1, 5]\n",
    "]\n",
    "\n",
    "b = [6, 25, -11, -11]\n",
    "\n",
    "x = gauss_seidel(A, b, [0, 0, 0, 0], 10e-5, 100)\n",
    "print(x)"
   ]
  },
  {
   "cell_type": "markdown",
   "id": "5d6047f3-18e7-4a9b-a924-df2933f5e550",
   "metadata": {},
   "source": [
    "#### d)"
   ]
  },
  {
   "cell_type": "code",
   "execution_count": 21,
   "id": "d8c4ae0d-4365-45ae-84ca-c715b5792e35",
   "metadata": {},
   "outputs": [
    {
     "name": "stdout",
     "output_type": "stream",
     "text": [
      "[[ 0.78663577]\n",
      " [-1.00257108]\n",
      " [ 1.86632614]\n",
      " [ 1.91259771]\n",
      " [ 1.98971765]]\n"
     ]
    }
   ],
   "source": [
    "A = [\n",
    "    [4, 1, 1, 0, 1],\n",
    "    [-1, -3, 1, 1, 0],\n",
    "    [2, 1, 5, -1, -1],\n",
    "    [-1, -1, -1, 4, 0],\n",
    "    [0, 2, -1, 1, 4]\n",
    "]\n",
    "\n",
    "b = [6, 6, 6, 6, 6]\n",
    "\n",
    "x = gauss_seidel(A, b, [0, 0, 0, 0, 0], 10e-5, 100)\n",
    "print(x)"
   ]
  },
  {
   "cell_type": "markdown",
   "id": "cb2298ae-9fd0-48b0-8b46-e496e953a6a2",
   "metadata": {},
   "source": [
    "### Utilice el método de Jacobi para resolver los sistemas lineales en el ejercicio 1, con $TOL = 10^{-3}$."
   ]
  },
  {
   "cell_type": "markdown",
   "id": "53b25ecf-c794-4cf0-88d5-4ca8f7859e83",
   "metadata": {},
   "source": [
    "#### a)"
   ]
  },
  {
   "cell_type": "code",
   "execution_count": 22,
   "id": "0a37a15f-13e2-43be-aea7-50faf1aa1983",
   "metadata": {},
   "outputs": [
    {
     "name": "stdout",
     "output_type": "stream",
     "text": [
      "[[ 0.03516089]\n",
      " [-0.23570619]\n",
      " [ 0.65922185]]\n"
     ]
    }
   ],
   "source": [
    "A = [\n",
    "    [3, -1, 1],\n",
    "    [3, 6, 2],\n",
    "    [3, 3, 7]\n",
    "]\n",
    "\n",
    "b = [1, 0, 4]\n",
    "\n",
    "x = gauss_jacobi(A, b, [0, 0, 0], 10e-3, 100)\n",
    "print(x)"
   ]
  },
  {
   "cell_type": "markdown",
   "id": "42c42a02-646c-40b7-9eda-2d0e7828f949",
   "metadata": {},
   "source": [
    "#### b)"
   ]
  },
  {
   "cell_type": "code",
   "execution_count": 23,
   "id": "25d232ac-7636-49a8-8541-5008310174d1",
   "metadata": {},
   "outputs": [
    {
     "name": "stdout",
     "output_type": "stream",
     "text": [
      "[[0.91603]\n",
      " [0.94913]\n",
      " [0.78962]]\n"
     ]
    }
   ],
   "source": [
    "A = [\n",
    "    [10, -1, 1],\n",
    "    [-1, 10, -2],\n",
    "    [0, -2, 10]\n",
    "]\n",
    "\n",
    "b = [9, 7, 6]\n",
    "\n",
    "x = gauss_jacobi(A, b, [0, 0, 0], 10e-3, 100)\n",
    "print(x)"
   ]
  },
  {
   "cell_type": "markdown",
   "id": "b05e2fd8-124e-4172-8b8b-451096dcffaa",
   "metadata": {},
   "source": [
    "#### c)"
   ]
  },
  {
   "cell_type": "code",
   "execution_count": 24,
   "id": "3ccc4c87-80a4-48d2-9931-371ae4c30664",
   "metadata": {},
   "outputs": [
    {
     "name": "stdout",
     "output_type": "stream",
     "text": [
      "[[-0.788375  ]\n",
      " [ 2.77715625]\n",
      " [-0.29553125]\n",
      " [-2.26032813]]\n"
     ]
    }
   ],
   "source": [
    "A = [\n",
    "    [10, 5, 0, 0],\n",
    "    [5, 10, -4, 0],\n",
    "    [0, -4, -8, 1],\n",
    "    [0, 0, -1, 5]\n",
    "]\n",
    "\n",
    "b = [6, 25, -11, -11]\n",
    "\n",
    "x = gauss_jacobi(A, b, [0, 0, 0, 0], 10e-3, 100)\n",
    "print(x)"
   ]
  },
  {
   "cell_type": "markdown",
   "id": "56247334-803b-4ebe-8e06-f496eab4dd48",
   "metadata": {},
   "source": [
    "#### d)"
   ]
  },
  {
   "cell_type": "code",
   "execution_count": 30,
   "id": "1ff58daa-87ee-4447-bfb5-4c20ae812081",
   "metadata": {},
   "outputs": [
    {
     "name": "stdout",
     "output_type": "stream",
     "text": [
      "[[ 0.78718101]\n",
      " [-1.00174151]\n",
      " [ 1.8658388 ]\n",
      " [ 1.91274157]\n",
      " [ 1.98672138]]\n"
     ]
    }
   ],
   "source": [
    "A = [\n",
    "    [4, 1, 1, 0, 1],\n",
    "    [-1, -3, 1, 1, 0],\n",
    "    [2, 1, 5, -1, -1],\n",
    "    [-1, -1, -1, 4, 0],\n",
    "    [0, 2, -1, 1, 4]\n",
    "]\n",
    "\n",
    "b = [6, 6, 6, 6, 6]\n",
    "\n",
    "x = gauss_jacobi(A, b, [0, 0, 0, 0, 0], 10e-3, 100)\n",
    "print(x)"
   ]
  },
  {
   "cell_type": "markdown",
   "id": "ecdcb5b2-fd22-4812-8719-ec6598e31220",
   "metadata": {},
   "source": [
    "### Utilice el método de Gauss-Siedel para resolver los sistemas lineales en el ejercicio 1, con $TOL = 10^{-3}$."
   ]
  },
  {
   "cell_type": "markdown",
   "id": "d8fd4a13-8180-40f0-9db9-f0040b94c726",
   "metadata": {},
   "source": [
    "#### a)"
   ]
  },
  {
   "cell_type": "code",
   "execution_count": 31,
   "id": "1149e898-bf52-40e3-95c2-51f2df789347",
   "metadata": {},
   "outputs": [
    {
     "name": "stdout",
     "output_type": "stream",
     "text": [
      "[[ 0.0361492 ]\n",
      " [-0.23660752]\n",
      " [ 0.65733928]]\n"
     ]
    }
   ],
   "source": [
    "A = [\n",
    "    [3, -1, 1],\n",
    "    [3, 6, 2],\n",
    "    [3, 3, 7]\n",
    "]\n",
    "\n",
    "b = [1, 0, 4]\n",
    "\n",
    "x = gauss_seidel(A, b, [0, 0, 0], 10e-3, 100)\n",
    "print(x)"
   ]
  },
  {
   "cell_type": "markdown",
   "id": "f9d088c4-a37a-4f98-ba6d-628cfc7e1e93",
   "metadata": {},
   "source": [
    "#### b)"
   ]
  },
  {
   "cell_type": "code",
   "execution_count": 36,
   "id": "3746aed6-7155-420f-bbc2-1a053f1f907a",
   "metadata": {},
   "outputs": [
    {
     "name": "stdout",
     "output_type": "stream",
     "text": [
      "[[0.91593697]\n",
      " [0.94956218]\n",
      " [0.78991244]]\n"
     ]
    }
   ],
   "source": [
    "A = [\n",
    "    [10, -1, 1],\n",
    "    [-1, 10, -2],\n",
    "    [0, -2, 10]\n",
    "]\n",
    "\n",
    "b = [9, 7, 6]\n",
    "\n",
    "x = gauss_seidel(A, b, [0, 0, 0], 10e-3, 100)\n",
    "print(x)"
   ]
  },
  {
   "cell_type": "markdown",
   "id": "05375325-3c2d-4734-8255-b75aada3c658",
   "metadata": {},
   "source": [
    "#### c)"
   ]
  },
  {
   "cell_type": "code",
   "execution_count": 37,
   "id": "3028c7bc-b32a-4abf-9878-7043783004bd",
   "metadata": {},
   "outputs": [
    {
     "name": "stdout",
     "output_type": "stream",
     "text": [
      "[[-0.78802812]\n",
      " [ 2.77579328]\n",
      " [-0.29528544]\n",
      " [-2.25905709]]\n"
     ]
    }
   ],
   "source": [
    "A = [\n",
    "    [10, 5, 0, 0],\n",
    "    [5, 10, -4, 0],\n",
    "    [0, -4, -8, 1],\n",
    "    [0, 0, -1, 5]\n",
    "]\n",
    "\n",
    "b = [6, 25, -11, -11]\n",
    "\n",
    "x = gauss_seidel(A, b, [0, 0, 0, 0], 10e-3, 100)\n",
    "print(x)"
   ]
  },
  {
   "cell_type": "markdown",
   "id": "19b40fd0-21a3-441b-acf8-4ad8eb88dad6",
   "metadata": {},
   "source": [
    "#### d)"
   ]
  },
  {
   "cell_type": "code",
   "execution_count": 40,
   "id": "5fd11cb5-1fb9-4c1a-8180-dff7e08f6296",
   "metadata": {},
   "outputs": [
    {
     "name": "stdout",
     "output_type": "stream",
     "text": [
      "[[ 0.78616258]\n",
      " [-1.00240703]\n",
      " [ 1.86606999]\n",
      " [ 1.91245638]\n",
      " [ 1.98960692]]\n"
     ]
    }
   ],
   "source": [
    "A = [\n",
    "    [4, 1, 1, 0, 1],\n",
    "    [-1, -3, 1, 1, 0],\n",
    "    [2, 1, 5, -1, -1],\n",
    "    [-1, -1, -1, 4, 0],\n",
    "    [0, 2, -1, 1, 4]\n",
    "]\n",
    "\n",
    "b = [6, 6, 6, 6, 6]\n",
    "\n",
    "x = gauss_seidel(A, b, [0, 0, 0, 0, 0], 10e-3, 100)\n",
    "print(x)"
   ]
  },
  {
   "cell_type": "markdown",
   "id": "9368bbb5-8d43-450e-bdd3-5854f3de77c1",
   "metadata": {},
   "source": [
    "### El sistema lineal \n",
    "\n",
    "$$2x_1 - x_2 + x_3 = -1$$\n",
    "\n",
    "$$2x_1 + 2x_2 + 2x_3 = 4$$\n",
    "\n",
    "$$- x_1 - x_2 + 2x_3 = -5$$\n",
    "\n",
    "tiene las soluciones 1, 2 y -1."
   ]
  },
  {
   "cell_type": "markdown",
   "id": "0ae746f9-5e9c-48ff-9d46-4a068eb59fcf",
   "metadata": {},
   "source": [
    "#### a) Muestre que el método de Jacobi con x(0) = 0 falla al proporcionar una buena aproximación después de 25 iteraciones. "
   ]
  },
  {
   "cell_type": "code",
   "execution_count": 44,
   "id": "a14ca0e8-639a-435f-85ca-05b36b842794",
   "metadata": {},
   "outputs": [
    {
     "name": "stdout",
     "output_type": "stream",
     "text": [
      "[[ -7.73114914]\n",
      " [-32.92459655]\n",
      " [  7.73114914]]\n"
     ]
    }
   ],
   "source": [
    "A = [\n",
    "    [2, -1, 1],\n",
    "    [2, 2, 2],\n",
    "    [-1, -1, 2]\n",
    "]\n",
    "\n",
    "b = [-1, 4, -5]\n",
    "\n",
    "x = gauss_jacobi(A, b, [0, 0, 0], 10e-5, 25)\n",
    "print(x)"
   ]
  },
  {
   "cell_type": "markdown",
   "id": "253d8bb1-9eb9-49fa-ad4b-ba7b2c31a923",
   "metadata": {},
   "source": [
    "#### b) Utilice el método de Gauss-Siedel con $x(0) = 0$ para aproximar la solución para el sistema lineal dentro de $10^{−5}$."
   ]
  },
  {
   "cell_type": "code",
   "execution_count": 47,
   "id": "55193b0a-ec80-4df0-b8a8-10380977f763",
   "metadata": {},
   "outputs": [
    {
     "name": "stdout",
     "output_type": "stream",
     "text": [
      "[[ 0.99998474]\n",
      " [ 2.00001717]\n",
      " [-0.99999905]]\n"
     ]
    }
   ],
   "source": [
    "A = [\n",
    "    [2, -1, 1],\n",
    "    [2, 2, 2],\n",
    "    [-1, -1, 2]\n",
    "]\n",
    "\n",
    "b = [-1, 4, -5]\n",
    "\n",
    "x = gauss_seidel(A, b, [0, 0, 0], 10e-5, 25)\n",
    "print(x)"
   ]
  },
  {
   "cell_type": "markdown",
   "id": "5a4b7e4d-fdef-4f94-a573-ba6182585d52",
   "metadata": {},
   "source": [
    "### El sistema lineal\n",
    "\n",
    "$$x_1 - x_3 = 0.2$$\n",
    "\n",
    "$$- \\frac{1}{2}x_1 + x_2 - \\frac{1}{4}x_3 = -1.425$$\n",
    "\n",
    "$$x_1 - \\frac{1}{2}x_2 + x_3 = 2$$\n",
    "\n",
    "tiene las soluciones 0.9, -0.8, 0.7."
   ]
  },
  {
   "cell_type": "markdown",
   "id": "24081ae4-1fcf-4695-8f61-c1f97dc2d07c",
   "metadata": {},
   "source": [
    "#### a) ¿La matriz de coeficientes tiene diagonal estrictamente dominante?\n",
    "\n",
    "Si, en la primera fila, segunda y tercera, la sumatoria de los elementos menos los de la diagonal es menor que los elementos de la misma diagonal."
   ]
  },
  {
   "cell_type": "markdown",
   "id": "263c0c3f-f2bf-4b0e-927b-513b8aa67d9f",
   "metadata": {},
   "source": [
    "#### b) Utilice el método iterativo de Gauss-Siedel para aproximar la solución para el sistema lineal con una tolerancia de $10^{-22}$ y un máximo de 300 iteraciones."
   ]
  },
  {
   "cell_type": "code",
   "execution_count": 52,
   "id": "8273117b-9a1d-4e7e-b8dc-ebba489757a5",
   "metadata": {},
   "outputs": [
    {
     "name": "stdout",
     "output_type": "stream",
     "text": [
      "[[nan]\n",
      " [nan]\n",
      " [nan]]\n"
     ]
    },
    {
     "name": "stderr",
     "output_type": "stream",
     "text": [
      "/tmp/ipykernel_2647/938744849.py:27: RuntimeWarning: divide by zero encountered in divide\n",
      "  x_new[i] = (b[i] - suma) / A[i, i]\n",
      "/tmp/ipykernel_2647/938744849.py:25: RuntimeWarning: invalid value encountered in multiply\n",
      "  [A[i, j] * x[j] for j in range(i, n) if j != i]\n"
     ]
    }
   ],
   "source": [
    "A = [\n",
    "    [1, 0, -1],\n",
    "    [-0.5, 0, -0.25],\n",
    "    [1, -0.5, 1]\n",
    "]\n",
    "\n",
    "b = [0.2, -1.425, 2]\n",
    "\n",
    "x = gauss_seidel(A, b, [0, 0, 0], 10e-22, 300)\n",
    "print(x)"
   ]
  },
  {
   "cell_type": "markdown",
   "id": "afc7a3b2-55a6-4e05-a7a2-ed5800662ee2",
   "metadata": {},
   "source": [
    "#### c) ¿Qué pasa en la parte b) cuando el sistema cambia por el siguiente?\n",
    "\n",
    "$$x_1 - 2x_3 = 0.2$$\n",
    "\n",
    "$$- \\frac{1}{2}x_1 + x_2 - \\frac{1}{4} = -1.425$$\n",
    "\n",
    "$$x_1 - \\frac{1}{2}x_2 + x_3 = 2$$"
   ]
  },
  {
   "cell_type": "code",
   "execution_count": 60,
   "id": "22582c19-9ce0-420d-8b7e-127529176504",
   "metadata": {},
   "outputs": [
    {
     "name": "stdout",
     "output_type": "stream",
     "text": [
      "[[nan]\n",
      " [nan]\n",
      " [nan]]\n"
     ]
    },
    {
     "name": "stderr",
     "output_type": "stream",
     "text": [
      "/tmp/ipykernel_2647/938744849.py:27: RuntimeWarning: divide by zero encountered in divide\n",
      "  x_new[i] = (b[i] - suma) / A[i, i]\n",
      "/tmp/ipykernel_2647/938744849.py:25: RuntimeWarning: invalid value encountered in multiply\n",
      "  [A[i, j] * x[j] for j in range(i, n) if j != i]\n"
     ]
    }
   ],
   "source": [
    "A = [\n",
    "    [1, 0, -2],\n",
    "    [-0.5, 0, -0.25],\n",
    "    [1, -0.5, 1]\n",
    "]\n",
    "\n",
    "b = [0.2, -1.425, 2]\n",
    "\n",
    "x = gauss_seidel(A, b, [0, 0, 0], 10e-22, 300)\n",
    "print(x)"
   ]
  },
  {
   "cell_type": "markdown",
   "id": "d8a64df0-1114-41cd-963d-6b18279e2e85",
   "metadata": {},
   "source": [
    "División por cero en los dos casos, podría ser el hecho de tender a cero."
   ]
  },
  {
   "cell_type": "markdown",
   "id": "90db6b44-430e-4147-ac13-2035102eb237",
   "metadata": {},
   "source": [
    "### Un cable coaxial está formado por un conductor interno de 0.1 pulgadas cuadradas y un conductor externo de 0.5 pulgadas cuadradas. El potencial en un punto en la sección transversal del cable se describe mediante la ecuación de Laplace. Suponga que el conductor interno se mantiene en 0 volts y el conductor externo se mantiene en 110 volts. Aproximar el potencial entre los dos conductores requiere resolver el siguiente sistema lineal.\n"
   ]
  },
  {
   "cell_type": "code",
   "execution_count": 64,
   "id": "9594cb1c-5594-4dfb-8a24-1ed4c33d6e98",
   "metadata": {},
   "outputs": [],
   "source": [
    "A7 = [\n",
    "    [4, -1, 0, 0, -1, 0, 0, 0, 0, 0, 0, 0],\n",
    "    [-1, 4, -1, 0, 0, 0, 0, 0, 0, 0, 0, 0],\n",
    "    [0, -1, 4, -1, 0, 0, 0, 0, 0, 0, 0, 0],\n",
    "    [0, 0, -1, 4, 0, -1, 0, 0, 0, 0, 0, 0],\n",
    "    [-1, 0, 0, 0, 4, 0, -1, 0, 0, 0, 0, 0],\n",
    "    [0, 0, 0, -1, 0, 4, 0, -1, 0, 0, 0, 0],\n",
    "    [0, 0, 0, 0, -1, 0, 4, 0, -1, 0, 0, 0],\n",
    "    [0, 0, 0, 0, 0, -1, 0, 4, 0 ,0, 0, -1],\n",
    "    [0, 0, 0, 0, 0, 0, -1, 0, 4, -1, 0, 0],\n",
    "    [0, 0, 0, 0, 0, 0, 0, 0, -1, 4, -1, 0],\n",
    "    [0, 0, 0, 0, 0, 0, 0, 0, 0, -1, 4, -1],\n",
    "    [0, 0, 0, 0, 0, -1, 0, 0, 0, 0, -1, 4]\n",
    "]\n",
    "\n",
    "b7 = [220, 110, 110, 220, 110, 110, 110, 110, 220, 110, 110, 220]"
   ]
  },
  {
   "cell_type": "markdown",
   "id": "5ff32474-5b03-4845-961e-0a540e435ce8",
   "metadata": {},
   "source": [
    "#### a) ¿La matriz es estrictamente diagonalmente dominante?"
   ]
  },
  {
   "cell_type": "markdown",
   "id": "18027bce-5723-4850-b16c-27083f52a08e",
   "metadata": {},
   "source": [
    "Si, la diagonal está compuesta solo de 4."
   ]
  },
  {
   "cell_type": "markdown",
   "id": "6d3aa834-98a1-4b6f-a46b-993e32fdad99",
   "metadata": {},
   "source": [
    "#### b) Resuelva el sistema lineal usando el método de Jacobi con $x(0) = 0$ y $TOL = 10^{-2}$."
   ]
  },
  {
   "cell_type": "code",
   "execution_count": 65,
   "id": "98c97f4c-18cc-4ba3-8dfd-89bbb4ad91ec",
   "metadata": {},
   "outputs": [
    {
     "name": "stdout",
     "output_type": "stream",
     "text": [
      "[[87.98209548]\n",
      " [65.98209679]\n",
      " [65.98209679]\n",
      " [87.98209548]\n",
      " [65.98209679]\n",
      " [65.98209679]\n",
      " [65.98209679]\n",
      " [65.98209679]\n",
      " [87.98209548]\n",
      " [65.98209679]\n",
      " [65.98209679]\n",
      " [87.98209548]]\n"
     ]
    }
   ],
   "source": [
    "x = gauss_jacobi(A7, b7, [0]*len(b7), 10e-2, 300)\n",
    "print(x)"
   ]
  },
  {
   "cell_type": "markdown",
   "id": "f3d413db-bb7d-4c88-a050-fd8ae1a56cd9",
   "metadata": {},
   "source": [
    "#### c) Repita la parte b) mediante el método de Gauss-Siedel."
   ]
  },
  {
   "cell_type": "code",
   "execution_count": 66,
   "id": "3763bcec-0166-4e40-b929-58196baf8138",
   "metadata": {},
   "outputs": [
    {
     "name": "stdout",
     "output_type": "stream",
     "text": [
      "[[87.98217949]\n",
      " [65.98985217]\n",
      " [65.99375664]\n",
      " [87.99604191]\n",
      " [65.98985217]\n",
      " [65.9974727 ]\n",
      " [65.99375664]\n",
      " [65.99838442]\n",
      " [87.99604191]\n",
      " [65.9974727 ]\n",
      " [65.99838442]\n",
      " [87.99896428]]\n"
     ]
    }
   ],
   "source": [
    "x = gauss_seidel(A7, b7, [0]*len(b7), 10e-2, 300)\n",
    "print(x)"
   ]
  }
 ],
 "metadata": {
  "kernelspec": {
   "display_name": "Python 3 (ipykernel)",
   "language": "python",
   "name": "python3"
  },
  "language_info": {
   "codemirror_mode": {
    "name": "ipython",
    "version": 3
   },
   "file_extension": ".py",
   "mimetype": "text/x-python",
   "name": "python",
   "nbconvert_exporter": "python",
   "pygments_lexer": "ipython3",
   "version": "3.11.9"
  }
 },
 "nbformat": 4,
 "nbformat_minor": 5
}
