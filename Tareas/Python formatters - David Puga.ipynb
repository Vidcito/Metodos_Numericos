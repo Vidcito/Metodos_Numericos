{
  "nbformat": 4,
  "nbformat_minor": 0,
  "metadata": {
    "colab": {
      "provenance": []
    },
    "kernelspec": {
      "name": "python3",
      "display_name": "Python 3"
    },
    "language_info": {
      "name": "python"
    }
  },
  "cells": [
    {
      "cell_type": "markdown",
      "source": [
        "Python formatters by David Alejandro Puga Novoa\n",
        "\n",
        "Métodos numéricos"
      ],
      "metadata": {
        "id": "J2mhiHPS8pPN"
      }
    },
    {
      "cell_type": "code",
      "execution_count": 45,
      "metadata": {
        "colab": {
          "base_uri": "https://localhost:8080/"
        },
        "id": "ShLsjYND6Rn4",
        "outputId": "28867ccd-3a27-45b6-e077-aed3a651c8c1"
      },
      "outputs": [
        {
          "output_type": "stream",
          "name": "stdout",
          "text": [
            "Requirement already satisfied: black in /usr/local/lib/python3.10/dist-packages (24.10.0)\n",
            "Requirement already satisfied: autopep8 in /usr/local/lib/python3.10/dist-packages (2.3.1)\n",
            "Requirement already satisfied: yapf in /usr/local/lib/python3.10/dist-packages (0.43.0)\n",
            "Requirement already satisfied: isort in /usr/local/lib/python3.10/dist-packages (5.13.2)\n",
            "Requirement already satisfied: click>=8.0.0 in /usr/local/lib/python3.10/dist-packages (from black) (8.1.7)\n",
            "Requirement already satisfied: mypy-extensions>=0.4.3 in /usr/local/lib/python3.10/dist-packages (from black) (1.0.0)\n",
            "Requirement already satisfied: packaging>=22.0 in /usr/local/lib/python3.10/dist-packages (from black) (24.2)\n",
            "Requirement already satisfied: pathspec>=0.9.0 in /usr/local/lib/python3.10/dist-packages (from black) (0.12.1)\n",
            "Requirement already satisfied: platformdirs>=2 in /usr/local/lib/python3.10/dist-packages (from black) (4.3.6)\n",
            "Requirement already satisfied: tomli>=1.1.0 in /usr/local/lib/python3.10/dist-packages (from black) (2.1.0)\n",
            "Requirement already satisfied: typing-extensions>=4.0.1 in /usr/local/lib/python3.10/dist-packages (from black) (4.12.2)\n",
            "Requirement already satisfied: pycodestyle>=2.12.0 in /usr/local/lib/python3.10/dist-packages (from autopep8) (2.12.1)\n"
          ]
        }
      ],
      "source": [
        "## Installar formatters\n",
        "!pip install black autopep8 yapf isort"
      ]
    },
    {
      "cell_type": "code",
      "source": [
        "## Archivo python sin formato\n",
        "code = \"\"\"\n",
        "def example_function(x,y): return x+y\n",
        "class ExampleClass:\n",
        "  def __init__(self,a,b): self.a,self.b=a,b\n",
        "  def method(self):\n",
        "   return self.a*self.b\n",
        "\"\"\"\n",
        "\n",
        "with open(\"example.py\", \"w\") as f:\n",
        "    f.write(code)"
      ],
      "metadata": {
        "id": "AgtbstVP6lDd"
      },
      "execution_count": 42,
      "outputs": []
    },
    {
      "cell_type": "code",
      "source": [
        "## Black\n",
        "!black example.py"
      ],
      "metadata": {
        "colab": {
          "base_uri": "https://localhost:8080/"
        },
        "id": "IiJtRFzV69Zb",
        "outputId": "6492994b-2502-452f-a41e-f764c6185d3f"
      },
      "execution_count": 33,
      "outputs": [
        {
          "output_type": "stream",
          "name": "stdout",
          "text": [
            "\u001b[1mreformatted example.py\u001b[0m\n",
            "\n",
            "\u001b[1mAll done! ✨ 🍰 ✨\u001b[0m\n",
            "\u001b[34m\u001b[1m1 file \u001b[0m\u001b[1mreformatted\u001b[0m.\n"
          ]
        }
      ]
    },
    {
      "cell_type": "code",
      "source": [
        "with open(\"example.py\", \"r\") as f:\n",
        "    print(f.read())"
      ],
      "metadata": {
        "colab": {
          "base_uri": "https://localhost:8080/"
        },
        "id": "kcRyRrFx7c-L",
        "outputId": "5ec4664c-6754-4da5-da64-e27cf4bde5ae"
      },
      "execution_count": 35,
      "outputs": [
        {
          "output_type": "stream",
          "name": "stdout",
          "text": [
            "def example_function(x, y):\n",
            "    return x + y\n",
            "\n",
            "\n",
            "class ExampleClass:\n",
            "    def __init__(self, a, b):\n",
            "        self.a, self.b = a, b\n",
            "\n",
            "    def method(self):\n",
            "        return self.a * self.b\n",
            "\n"
          ]
        }
      ]
    },
    {
      "cell_type": "code",
      "source": [
        "## autopep8\n",
        "!autopep8 --in-place --aggressive --aggressive example.py"
      ],
      "metadata": {
        "id": "pxTR_C5j7B2J"
      },
      "execution_count": 37,
      "outputs": []
    },
    {
      "cell_type": "code",
      "source": [
        "with open(\"example.py\", \"r\") as f:\n",
        "    print(f.read())"
      ],
      "metadata": {
        "colab": {
          "base_uri": "https://localhost:8080/"
        },
        "id": "7lyzj8aM7gU7",
        "outputId": "c32bb9c2-03f0-413a-bdae-1ed3469af898"
      },
      "execution_count": 38,
      "outputs": [
        {
          "output_type": "stream",
          "name": "stdout",
          "text": [
            "\n",
            "def example_function(x, y): return x + y\n",
            "\n",
            "\n",
            "class ExampleClass:\n",
            "    def __init__(self, a, b): self.a, self.b = a, b\n",
            "\n",
            "    def method(self):\n",
            "        return self.a * self.b\n",
            "\n"
          ]
        }
      ]
    },
    {
      "cell_type": "code",
      "source": [
        "## YAPF\n",
        "!yapf -i example.py"
      ],
      "metadata": {
        "id": "U3Fzje7G7GkH"
      },
      "execution_count": 40,
      "outputs": []
    },
    {
      "cell_type": "code",
      "source": [
        "with open(\"example.py\", \"r\") as f:\n",
        "    print(f.read())"
      ],
      "metadata": {
        "colab": {
          "base_uri": "https://localhost:8080/"
        },
        "id": "sfHmMEks7iwS",
        "outputId": "6e3a7edd-7a7d-4396-a1b4-c985ba724d8a"
      },
      "execution_count": 41,
      "outputs": [
        {
          "output_type": "stream",
          "name": "stdout",
          "text": [
            "def example_function(x, y):\n",
            "    return x + y\n",
            "\n",
            "\n",
            "class ExampleClass:\n",
            "\n",
            "    def __init__(self, a, b):\n",
            "        self.a, self.b = a, b\n",
            "\n",
            "    def method(self):\n",
            "        return self.a * self.b\n",
            "\n"
          ]
        }
      ]
    },
    {
      "cell_type": "code",
      "source": [
        "## isort\n",
        "!isort example.py"
      ],
      "metadata": {
        "id": "oOTxPqhb7NHo"
      },
      "execution_count": 43,
      "outputs": []
    },
    {
      "cell_type": "code",
      "source": [
        "with open(\"example.py\", \"r\") as f:\n",
        "    print(f.read())"
      ],
      "metadata": {
        "colab": {
          "base_uri": "https://localhost:8080/"
        },
        "id": "lpytLpzp7vGw",
        "outputId": "ec2fafcd-3fa4-45f3-d631-c65ea67ede90"
      },
      "execution_count": 44,
      "outputs": [
        {
          "output_type": "stream",
          "name": "stdout",
          "text": [
            "\n",
            "def example_function(x,y): return x+y\n",
            "class ExampleClass:\n",
            "  def __init__(self,a,b): self.a,self.b=a,b\n",
            "  def method(self):\n",
            "   return self.a*self.b\n",
            "\n"
          ]
        }
      ]
    }
  ]
}