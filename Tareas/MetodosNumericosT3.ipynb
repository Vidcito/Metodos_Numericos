{
 "cells": [
  {
   "cell_type": "markdown",
   "id": "c6cec0db-6432-4c30-b566-53855d8aa914",
   "metadata": {},
   "source": [
    "# ESCUELA POLITÉCNICA NACIONAL\n",
    "\n",
    "## MÉTODOS NUMÉRICOS\n",
    "\n",
    "### TAREA 3"
   ]
  },
  {
   "cell_type": "markdown",
   "id": "5b736513-243e-4844-b6a7-dbca6c2a29f4",
   "metadata": {},
   "source": [
    "David Alejandro Puga Novoa - GR1CC - 31/10/2024"
   ]
  },
  {
   "cell_type": "markdown",
   "id": "1cd56379-cb19-400a-9f98-cad8716675a6",
   "metadata": {},
   "source": [
    "## 1. Conjunto de Ejercicios"
   ]
  },
  {
   "cell_type": "markdown",
   "id": "dea9456d-d5d8-4aec-a5c7-427078a047ea",
   "metadata": {},
   "source": [
    "### 1.2. La serie de Maclaurin para la función arcotangente converge para $-1 < x \\leq 1$ y está dada por:\n",
    "$$\\arctan{x} = \\lim_{n\\rightarrow\\infty}P_n(x) = \\lim_{n\\rightarrow\\infty}\\sum_{i=1}^{n}(-1)^{i+1}\\frac{x^{2i-1}}{2i-1}$$\n",
    "\n",
    "#### a) Utilice el hecho de que $\\tan{\\frac{\\pi}{4}} = 1$ para determinar el número $n$ de términos de la serie que se necesita sumar para garantizar que $|4P_n(1) - \\pi|< 10^{-3}$\n",
    "\n",
    "Entonces, dado que $\\arctan{1} = \\frac{\\pi}{4}$ con $x = 1$, reemplazando:\n",
    "$$\\frac{\\pi}{4} = \\sum_{i=1}^{n}(-1)^{i+1}\\frac{1^{2i-1}}{2i-1}$$"
   ]
  },
  {
   "cell_type": "code",
   "execution_count": 4,
   "id": "ad1190fd-6f61-45af-ad76-ab08883cb7c6",
   "metadata": {
    "tags": []
   },
   "outputs": [
    {
     "name": "stdout",
     "output_type": "stream",
     "text": [
      "0.7853981633974483\n"
     ]
    }
   ],
   "source": [
    "import math\n",
    "x = math.pi / 4\n",
    "print(x)"
   ]
  },
  {
   "cell_type": "markdown",
   "id": "61f82ef4-2408-4b2e-a0ce-9d8485f02f51",
   "metadata": {},
   "source": [
    "El código que calcula la sumatoria para cierto número $n$:"
   ]
  },
  {
   "cell_type": "code",
   "execution_count": 5,
   "id": "f361a8e8-fa91-48d8-93a7-29f39d8f8c93",
   "metadata": {
    "tags": []
   },
   "outputs": [
    {
     "name": "stdout",
     "output_type": "stream",
     "text": [
      "0.7851481634599485\n"
     ]
    }
   ],
   "source": [
    "sum = 0\n",
    "n = 1000\n",
    "for i in range(1, n + 1):\n",
    "    sum += ((-1) ** (i + 1)) * (1 ** (2*i - 1)/(2*i - 1))\n",
    "print(sum)"
   ]
  },
  {
   "cell_type": "markdown",
   "id": "4c18e6ad-1dcc-45ad-bc75-4498b449e2b2",
   "metadata": {},
   "source": [
    "Se encontró el valor $n = 1000$ para el cual, la función se acerca al valor $\\frac{\\pi}{4}$.\n",
    "\n",
    "Por tanto, $P_{1000}(1) = 0.78514...$. \n",
    "\n",
    "Comprobemos si cumple la condición:\n",
    "$$|4P_{22}(1) - \\pi|< 10^{-3}$$"
   ]
  },
  {
   "cell_type": "code",
   "execution_count": 6,
   "id": "192a6b10-fabe-4900-a733-ad0eb5fe1a7e",
   "metadata": {
    "tags": []
   },
   "outputs": [
    {
     "name": "stdout",
     "output_type": "stream",
     "text": [
      "0.000999999749998981\n",
      "True\n"
     ]
    }
   ],
   "source": [
    "total = abs(4*sum - math.pi)\n",
    "print(total)\n",
    "print(total < 10**(-3))"
   ]
  },
  {
   "cell_type": "markdown",
   "id": "1c9c4af9-4afa-41c7-a59d-7d38a8814ca0",
   "metadata": {},
   "source": [
    "En la función print() directamente se hizo la comprobación sobre la inecuación con los valores dados.\n",
    "\n",
    "#### b) El lenguaje de programación C++ requiere que el valor de $\\pi$ se encuentre dentro de $10^{-10}$. ¿Cuántos términos de la serie se necesitarían sumar para obtener este grado de precisión? \n",
    "\n",
    "##### Respuesta: \n",
    "En este caso se necesitaría hacer una suma infinita de la función: $P_n(\\pi)$. Y esto se debe a que la tangente de $\\pi$ no está definida."
   ]
  },
  {
   "cell_type": "markdown",
   "id": "3860a687-aaa0-40bb-ab53-8a317f56622f",
   "metadata": {},
   "source": [
    "### 1.3. Otra fórmula para calcular $\\pi$ se puede deducir a partir de la identidad: $\\frac{\\pi}{4} = 4\\arctan{\\frac{1}{5}} - \\arctan{\\frac{1}{239}}$. Determine el número de términos que se deben sumar para garantizar una aproximación $\\pi$ dentro de $10^{-3}$. \n",
    "\n",
    "Para resolver este ejercicio, despejamos el número 4 de la izquierda, quedándonos:\n",
    "\n",
    "$$\\pi = \\frac{4\\arctan{\\frac{1}{5}} - \\arctan{\\frac{1}{239}}}{4}$$\n",
    "Ahora, el siguiente código cumple con la suma de esta funcion con un parámetro n"
   ]
  },
  {
   "cell_type": "code",
   "execution_count": 7,
   "id": "645d7294-9926-4879-ae3e-23a6e206fce3",
   "metadata": {
    "tags": []
   },
   "outputs": [
    {
     "name": "stdout",
     "output_type": "stream",
     "text": [
      "3.1415926535897944\n",
      "1.3322676295501878e-15\n"
     ]
    }
   ],
   "source": [
    "from numpy import arctan\n",
    "sum = 0\n",
    "n = 16\n",
    "for i in range (1, n + 1):\n",
    "    sum += (4*arctan(1 / 5) - arctan(1/239)) / 4\n",
    "print(sum)\n",
    "print(abs(math.pi - sum))"
   ]
  },
  {
   "cell_type": "markdown",
   "id": "ddadcccc-d45c-457b-9022-845cf5771f9a",
   "metadata": {},
   "source": [
    "### 1.5. \n",
    "\n",
    "#### a)¿Cuántas multiplicaciones y sumas se requieren para determinar una suma de la forma:\n",
    "\n",
    "$$\\sum_{i=1}^{n} \\sum_{j=1}^{i}a_ib_j$$ \n",
    "\n",
    "##### Respuesta: \n",
    "Se requieren $\\sum_{i=1}^{n}i$ multiplicaciones y $\\frac{n(n+1)}{2}$ sumas en total.\n",
    "\n"
   ]
  },
  {
   "cell_type": "markdown",
   "id": "5a15dcfa-2442-44b9-8d0d-87421d1e9c00",
   "metadata": {},
   "source": [
    "#### b) Modifique la suma en la parte a) a un formato equivalente que reduzca el número de cálculos.\n",
    "\n",
    "##### Respuesta:\n",
    "1. Linealidad de sumatoria: $ = \\sum_{i=1}^{n} (a_i \\sum_{j=1}^{i}b_j)$\n",
    "2. Suma de una progresión aritmética: $\\sum_{i=1}^{n}a_i \\cdot \\frac{i(i+1)}{2}$\n",
    "3. Reagrupación: $\\sum_{i=1}^{n} \\frac{i(i+1)}{2}a_i$\n"
   ]
  },
  {
   "cell_type": "code",
   "execution_count": 8,
   "id": "3fdc9a60-b474-466a-a59b-adf977afa253",
   "metadata": {
    "tags": []
   },
   "outputs": [
    {
     "name": "stdout",
     "output_type": "stream",
     "text": [
      "6\n"
     ]
    }
   ],
   "source": [
    "x = [1, 2, 3] # Lista a sumar de manera inversa\n",
    "sum = 0\n",
    "n = len(x)\n",
    "for i in range (1, n + 1):\n",
    "    sum += x[(n - i)]\n",
    "    \n",
    "print(sum)"
   ]
  },
  {
   "cell_type": "markdown",
   "id": "ba7a2ced-3ec0-45b5-bc6b-42fbd2341d92",
   "metadata": {},
   "source": [
    "## 2. Discuciones"
   ]
  },
  {
   "cell_type": "markdown",
   "id": "bc50ae6d-7b6f-4ba8-8760-a665968ae005",
   "metadata": {},
   "source": [
    "#### 2.2 Las ecuaciones (1.2) y (1.3) en la sección 1.2 proporcionan formas alternativas para las raíces 𝑥1 y 𝑥2 de 𝑎𝑥 2 + 𝑏𝑥 + 𝑐 = 0. Construya un algoritmo con entrada a, b y c y salida $x_1$, $x_2$ que calcule las raíces $x_1$ y $x_2$ (que pueden ser iguales con conjugados complejos) mediante la mejor fórmula para cada raíz."
   ]
  },
  {
   "cell_type": "code",
   "execution_count": 9,
   "id": "3a2bda07-406a-4f1a-9229-584a0b7cd2c3",
   "metadata": {
    "tags": []
   },
   "outputs": [],
   "source": [
    "def raices(a : float, b : float, c : float) -> tuple[float, float] | float | tuple[complex, complex]:\n",
    "    discriminante = b**2 - 4*a*c\n",
    "    \n",
    "    if (discriminante == 0):\n",
    "        raiz = (-b + (discriminante)**0.5) / 2*a\n",
    "        return raiz\n",
    "    \n",
    "    elif (discriminante > 0):\n",
    "        raiz1 = (-b + (discriminante)**0.5) / 2*a\n",
    "        raiz2 = (-b - (discriminante)**0.5) / 2*a\n",
    "        return raiz1, raiz2\n",
    "    \n",
    "    else:\n",
    "        raiz1 = complex(-b / 2*a, (abs(discriminante))**0.5 * 100 // 2*a / 100)\n",
    "        raiz2 = complex(-b / 2*a, -(abs(discriminante))**0.5 * 100 // 2*a / 100)\n",
    "        return raiz1, raiz2\n",
    "    "
   ]
  },
  {
   "cell_type": "code",
   "execution_count": 10,
   "id": "92174bf6-88a8-4467-a1ed-4bef4be93236",
   "metadata": {
    "tags": []
   },
   "outputs": [
    {
     "name": "stdout",
     "output_type": "stream",
     "text": [
      "La/s raiz/ices de la ecuacion cuadratica es/son:  ((1.5+1.05j), (1.5-1.065j))\n"
     ]
    }
   ],
   "source": [
    "resultado = raices(1.5, -2, 1)\n",
    "print('La/s raiz/ices de la ecuacion cuadratica es/son: ', resultado)"
   ]
  }
 ],
 "metadata": {
  "kernelspec": {
   "display_name": "Python 3 (ipykernel)",
   "language": "python",
   "name": "python3"
  },
  "language_info": {
   "codemirror_mode": {
    "name": "ipython",
    "version": 3
   },
   "file_extension": ".py",
   "mimetype": "text/x-python",
   "name": "python",
   "nbconvert_exporter": "python",
   "pygments_lexer": "ipython3",
   "version": "3.11.9"
  }
 },
 "nbformat": 4,
 "nbformat_minor": 5
}
