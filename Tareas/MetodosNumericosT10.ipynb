{
 "cells": [
  {
   "cell_type": "markdown",
   "id": "009cfbb1-19e9-447a-bee6-562415d66e41",
   "metadata": {},
   "source": [
    "# ESCUELA POLITÉCNICA NACIONAL\n",
    "\n",
    "## MÉTODOS NUMÉRICOS\n",
    "\n",
    "### TAREA 10"
   ]
  },
  {
   "cell_type": "markdown",
   "id": "cc453dee-8271-49d3-abcb-cd6364ea65eb",
   "metadata": {},
   "source": [
    "David Alejandro Puga Novoa - GR1CC - 05/02/2025"
   ]
  },
  {
   "cell_type": "markdown",
   "id": "b0517f40-e4dc-4522-82c5-788119ab9270",
   "metadata": {},
   "source": [
    "### Ejercicio 1\n",
    "\n",
    "Realice las siguientes multiplicaciones matriz-matriz: "
   ]
  },
  {
   "cell_type": "markdown",
   "id": "74767c09-5f78-4d21-a6fb-c73055486161",
   "metadata": {},
   "source": [
    "#### a)"
   ]
  },
  {
   "cell_type": "code",
   "execution_count": 1,
   "id": "93488c09-bf0e-480a-a364-de408fd89a34",
   "metadata": {},
   "outputs": [
    {
     "name": "stdout",
     "output_type": "stream",
     "text": [
      "[[-4 10]\n",
      " [ 1 15]]\n"
     ]
    }
   ],
   "source": [
    "import numpy as np\n",
    "\n",
    "A = [\n",
    "    [2, -3],\n",
    "    [3, -1]\n",
    "]\n",
    "\n",
    "B = [\n",
    "    [1, 5],\n",
    "    [2, 0]\n",
    "]\n",
    "\n",
    "C = np.matmul(A, B)\n",
    "print(C)"
   ]
  },
  {
   "cell_type": "markdown",
   "id": "3e5527d4-f28f-4d60-ad9e-d7ceca7229ec",
   "metadata": {},
   "source": [
    "#### b)"
   ]
  },
  {
   "cell_type": "code",
   "execution_count": 2,
   "id": "12b53b10-0a5c-4d15-ae23-8831b14f3452",
   "metadata": {},
   "outputs": [
    {
     "name": "stdout",
     "output_type": "stream",
     "text": [
      "[[ 11   4  -8]\n",
      " [  6  13 -12]]\n"
     ]
    }
   ],
   "source": [
    "A = [\n",
    "    [2, -3],\n",
    "    [3, -1]\n",
    "]\n",
    "\n",
    "B = [\n",
    "    [1, 5, -4],\n",
    "    [-3, 2, 0]\n",
    "]\n",
    "\n",
    "C = np.matmul(A, B)\n",
    "print(C)"
   ]
  },
  {
   "cell_type": "markdown",
   "id": "88eb00db-5709-450a-9226-b4e3bf82efbd",
   "metadata": {},
   "source": [
    "#### c)"
   ]
  },
  {
   "cell_type": "code",
   "execution_count": 3,
   "id": "3eb4f32f-d1c4-42ec-8e9c-545e40fa73a9",
   "metadata": {},
   "outputs": [
    {
     "name": "stdout",
     "output_type": "stream",
     "text": [
      "[[ -1   5  -3]\n",
      " [  3   4 -11]\n",
      " [ -6  -7  -4]]\n"
     ]
    }
   ],
   "source": [
    "A = [\n",
    "    [2, -3, 1],\n",
    "    [4, 3, 0], \n",
    "    [5, 2, -4]\n",
    "]\n",
    "\n",
    "B = [\n",
    "    [0, 1, -2],\n",
    "    [1, 0, -1],\n",
    "    [2, 3, -2]\n",
    "]\n",
    "\n",
    "C = np.matmul(A, B)\n",
    "print(C)"
   ]
  },
  {
   "cell_type": "markdown",
   "id": "d81c1df8-3d0d-4b6c-8801-ccc080bfbff0",
   "metadata": {},
   "source": [
    "#### d)"
   ]
  },
  {
   "cell_type": "code",
   "execution_count": 4,
   "id": "5cb976c1-dd86-4149-9a9e-6b9babf96c7c",
   "metadata": {},
   "outputs": [
    {
     "name": "stdout",
     "output_type": "stream",
     "text": [
      "[[ -2   1]\n",
      " [-14   7]\n",
      " [  6   1]]\n"
     ]
    }
   ],
   "source": [
    "A = [\n",
    "    [2, 1, 2],\n",
    "    [-2, 3, 0], \n",
    "    [2, -1, 3]\n",
    "]\n",
    "\n",
    "B = [\n",
    "    [1, -2],\n",
    "    [-4, 1],\n",
    "    [0, 2]\n",
    "]\n",
    "\n",
    "C = np.matmul(A, B)\n",
    "print(C)"
   ]
  },
  {
   "cell_type": "markdown",
   "id": "1a9d842f-fa9a-4fde-8e23-97db64853fab",
   "metadata": {},
   "source": [
    "### Ejercicio 2\n",
    "\n",
    "Determine cuáles de las siguientes matrices son no singulares y calcule la inversa de esas matrices:"
   ]
  },
  {
   "cell_type": "markdown",
   "id": "1d8db9ff-5a98-4132-8b0e-619c3876b013",
   "metadata": {},
   "source": [
    "#### a)"
   ]
  },
  {
   "cell_type": "code",
   "execution_count": 5,
   "id": "07dfe7bd-3857-4768-a2d5-31a1e8e516d2",
   "metadata": {},
   "outputs": [
    {
     "ename": "LinAlgError",
     "evalue": "Singular matrix",
     "output_type": "error",
     "traceback": [
      "\u001b[0;31m---------------------------------------------------------------------------\u001b[0m",
      "\u001b[0;31mLinAlgError\u001b[0m                               Traceback (most recent call last)",
      "Cell \u001b[0;32mIn[5], line 7\u001b[0m\n\u001b[1;32m      1\u001b[0m A \u001b[38;5;241m=\u001b[39m [\n\u001b[1;32m      2\u001b[0m     [\u001b[38;5;241m4\u001b[39m, \u001b[38;5;241m2\u001b[39m, \u001b[38;5;241m6\u001b[39m],\n\u001b[1;32m      3\u001b[0m     [\u001b[38;5;241m3\u001b[39m, \u001b[38;5;241m0\u001b[39m, \u001b[38;5;241m7\u001b[39m], \n\u001b[1;32m      4\u001b[0m     [\u001b[38;5;241m-\u001b[39m\u001b[38;5;241m2\u001b[39m, \u001b[38;5;241m-\u001b[39m\u001b[38;5;241m1\u001b[39m, \u001b[38;5;241m-\u001b[39m\u001b[38;5;241m3\u001b[39m]\n\u001b[1;32m      5\u001b[0m ]\n\u001b[0;32m----> 7\u001b[0m B \u001b[38;5;241m=\u001b[39m \u001b[43mnp\u001b[49m\u001b[38;5;241;43m.\u001b[39;49m\u001b[43mlinalg\u001b[49m\u001b[38;5;241;43m.\u001b[39;49m\u001b[43minv\u001b[49m\u001b[43m(\u001b[49m\u001b[43mA\u001b[49m\u001b[43m)\u001b[49m\n\u001b[1;32m      8\u001b[0m \u001b[38;5;28mprint\u001b[39m(B)\n",
      "File \u001b[0;32m~/miniforge3/envs/iccd332/lib/python3.11/site-packages/numpy/linalg/_linalg.py:615\u001b[0m, in \u001b[0;36minv\u001b[0;34m(a)\u001b[0m\n\u001b[1;32m    612\u001b[0m signature \u001b[38;5;241m=\u001b[39m \u001b[38;5;124m'\u001b[39m\u001b[38;5;124mD->D\u001b[39m\u001b[38;5;124m'\u001b[39m \u001b[38;5;28;01mif\u001b[39;00m isComplexType(t) \u001b[38;5;28;01melse\u001b[39;00m \u001b[38;5;124m'\u001b[39m\u001b[38;5;124md->d\u001b[39m\u001b[38;5;124m'\u001b[39m\n\u001b[1;32m    613\u001b[0m \u001b[38;5;28;01mwith\u001b[39;00m errstate(call\u001b[38;5;241m=\u001b[39m_raise_linalgerror_singular, invalid\u001b[38;5;241m=\u001b[39m\u001b[38;5;124m'\u001b[39m\u001b[38;5;124mcall\u001b[39m\u001b[38;5;124m'\u001b[39m,\n\u001b[1;32m    614\u001b[0m               over\u001b[38;5;241m=\u001b[39m\u001b[38;5;124m'\u001b[39m\u001b[38;5;124mignore\u001b[39m\u001b[38;5;124m'\u001b[39m, divide\u001b[38;5;241m=\u001b[39m\u001b[38;5;124m'\u001b[39m\u001b[38;5;124mignore\u001b[39m\u001b[38;5;124m'\u001b[39m, under\u001b[38;5;241m=\u001b[39m\u001b[38;5;124m'\u001b[39m\u001b[38;5;124mignore\u001b[39m\u001b[38;5;124m'\u001b[39m):\n\u001b[0;32m--> 615\u001b[0m     ainv \u001b[38;5;241m=\u001b[39m \u001b[43m_umath_linalg\u001b[49m\u001b[38;5;241;43m.\u001b[39;49m\u001b[43minv\u001b[49m\u001b[43m(\u001b[49m\u001b[43ma\u001b[49m\u001b[43m,\u001b[49m\u001b[43m \u001b[49m\u001b[43msignature\u001b[49m\u001b[38;5;241;43m=\u001b[39;49m\u001b[43msignature\u001b[49m\u001b[43m)\u001b[49m\n\u001b[1;32m    616\u001b[0m \u001b[38;5;28;01mreturn\u001b[39;00m wrap(ainv\u001b[38;5;241m.\u001b[39mastype(result_t, copy\u001b[38;5;241m=\u001b[39m\u001b[38;5;28;01mFalse\u001b[39;00m))\n",
      "File \u001b[0;32m~/miniforge3/envs/iccd332/lib/python3.11/site-packages/numpy/linalg/_linalg.py:104\u001b[0m, in \u001b[0;36m_raise_linalgerror_singular\u001b[0;34m(err, flag)\u001b[0m\n\u001b[1;32m    103\u001b[0m \u001b[38;5;28;01mdef\u001b[39;00m \u001b[38;5;21m_raise_linalgerror_singular\u001b[39m(err, flag):\n\u001b[0;32m--> 104\u001b[0m     \u001b[38;5;28;01mraise\u001b[39;00m LinAlgError(\u001b[38;5;124m\"\u001b[39m\u001b[38;5;124mSingular matrix\u001b[39m\u001b[38;5;124m\"\u001b[39m)\n",
      "\u001b[0;31mLinAlgError\u001b[0m: Singular matrix"
     ]
    }
   ],
   "source": [
    "A = [\n",
    "    [4, 2, 6],\n",
    "    [3, 0, 7], \n",
    "    [-2, -1, -3]\n",
    "]\n",
    "\n",
    "B = np.linalg.inv(A)\n",
    "print(B)"
   ]
  },
  {
   "cell_type": "markdown",
   "id": "9bd96237-4ab2-4e49-b7ac-f1298e80e563",
   "metadata": {},
   "source": [
    "#### b)"
   ]
  },
  {
   "cell_type": "code",
   "execution_count": 6,
   "id": "efab7d9a-e949-44de-b27a-7a059431912d",
   "metadata": {},
   "outputs": [
    {
     "name": "stdout",
     "output_type": "stream",
     "text": [
      "[[-0.25   0.25   0.25 ]\n",
      " [ 0.625 -0.125 -0.125]\n",
      " [ 0.125 -0.625  0.375]]\n"
     ]
    }
   ],
   "source": [
    "A = [\n",
    "    [1, 2, 0],\n",
    "    [2, 1, -1], \n",
    "    [3, 1, 1]\n",
    "]\n",
    "\n",
    "B = np.linalg.inv(A)\n",
    "print(B)"
   ]
  },
  {
   "cell_type": "markdown",
   "id": "b08e2aaa-80a8-480a-b1d4-36b029fda257",
   "metadata": {},
   "source": [
    "#### c)"
   ]
  },
  {
   "cell_type": "code",
   "execution_count": 7,
   "id": "35692085-246f-4453-8559-30d217cf9f57",
   "metadata": {},
   "outputs": [
    {
     "ename": "LinAlgError",
     "evalue": "Singular matrix",
     "output_type": "error",
     "traceback": [
      "\u001b[0;31m---------------------------------------------------------------------------\u001b[0m",
      "\u001b[0;31mLinAlgError\u001b[0m                               Traceback (most recent call last)",
      "Cell \u001b[0;32mIn[7], line 8\u001b[0m\n\u001b[1;32m      1\u001b[0m A \u001b[38;5;241m=\u001b[39m [\n\u001b[1;32m      2\u001b[0m     [\u001b[38;5;241m1\u001b[39m, \u001b[38;5;241m1\u001b[39m, \u001b[38;5;241m-\u001b[39m\u001b[38;5;241m1\u001b[39m, \u001b[38;5;241m1\u001b[39m],\n\u001b[1;32m      3\u001b[0m     [\u001b[38;5;241m1\u001b[39m, \u001b[38;5;241m2\u001b[39m, \u001b[38;5;241m-\u001b[39m\u001b[38;5;241m4\u001b[39m, \u001b[38;5;241m-\u001b[39m\u001b[38;5;241m2\u001b[39m], \n\u001b[1;32m      4\u001b[0m     [\u001b[38;5;241m2\u001b[39m, \u001b[38;5;241m1\u001b[39m, \u001b[38;5;241m1\u001b[39m, \u001b[38;5;241m5\u001b[39m],\n\u001b[1;32m      5\u001b[0m     [\u001b[38;5;241m-\u001b[39m\u001b[38;5;241m1\u001b[39m, \u001b[38;5;241m0\u001b[39m, \u001b[38;5;241m-\u001b[39m\u001b[38;5;241m2\u001b[39m, \u001b[38;5;241m-\u001b[39m\u001b[38;5;241m4\u001b[39m]\n\u001b[1;32m      6\u001b[0m ]\n\u001b[0;32m----> 8\u001b[0m B \u001b[38;5;241m=\u001b[39m \u001b[43mnp\u001b[49m\u001b[38;5;241;43m.\u001b[39;49m\u001b[43mlinalg\u001b[49m\u001b[38;5;241;43m.\u001b[39;49m\u001b[43minv\u001b[49m\u001b[43m(\u001b[49m\u001b[43mA\u001b[49m\u001b[43m)\u001b[49m\n\u001b[1;32m      9\u001b[0m \u001b[38;5;28mprint\u001b[39m(B)\n",
      "File \u001b[0;32m~/miniforge3/envs/iccd332/lib/python3.11/site-packages/numpy/linalg/_linalg.py:615\u001b[0m, in \u001b[0;36minv\u001b[0;34m(a)\u001b[0m\n\u001b[1;32m    612\u001b[0m signature \u001b[38;5;241m=\u001b[39m \u001b[38;5;124m'\u001b[39m\u001b[38;5;124mD->D\u001b[39m\u001b[38;5;124m'\u001b[39m \u001b[38;5;28;01mif\u001b[39;00m isComplexType(t) \u001b[38;5;28;01melse\u001b[39;00m \u001b[38;5;124m'\u001b[39m\u001b[38;5;124md->d\u001b[39m\u001b[38;5;124m'\u001b[39m\n\u001b[1;32m    613\u001b[0m \u001b[38;5;28;01mwith\u001b[39;00m errstate(call\u001b[38;5;241m=\u001b[39m_raise_linalgerror_singular, invalid\u001b[38;5;241m=\u001b[39m\u001b[38;5;124m'\u001b[39m\u001b[38;5;124mcall\u001b[39m\u001b[38;5;124m'\u001b[39m,\n\u001b[1;32m    614\u001b[0m               over\u001b[38;5;241m=\u001b[39m\u001b[38;5;124m'\u001b[39m\u001b[38;5;124mignore\u001b[39m\u001b[38;5;124m'\u001b[39m, divide\u001b[38;5;241m=\u001b[39m\u001b[38;5;124m'\u001b[39m\u001b[38;5;124mignore\u001b[39m\u001b[38;5;124m'\u001b[39m, under\u001b[38;5;241m=\u001b[39m\u001b[38;5;124m'\u001b[39m\u001b[38;5;124mignore\u001b[39m\u001b[38;5;124m'\u001b[39m):\n\u001b[0;32m--> 615\u001b[0m     ainv \u001b[38;5;241m=\u001b[39m \u001b[43m_umath_linalg\u001b[49m\u001b[38;5;241;43m.\u001b[39;49m\u001b[43minv\u001b[49m\u001b[43m(\u001b[49m\u001b[43ma\u001b[49m\u001b[43m,\u001b[49m\u001b[43m \u001b[49m\u001b[43msignature\u001b[49m\u001b[38;5;241;43m=\u001b[39;49m\u001b[43msignature\u001b[49m\u001b[43m)\u001b[49m\n\u001b[1;32m    616\u001b[0m \u001b[38;5;28;01mreturn\u001b[39;00m wrap(ainv\u001b[38;5;241m.\u001b[39mastype(result_t, copy\u001b[38;5;241m=\u001b[39m\u001b[38;5;28;01mFalse\u001b[39;00m))\n",
      "File \u001b[0;32m~/miniforge3/envs/iccd332/lib/python3.11/site-packages/numpy/linalg/_linalg.py:104\u001b[0m, in \u001b[0;36m_raise_linalgerror_singular\u001b[0;34m(err, flag)\u001b[0m\n\u001b[1;32m    103\u001b[0m \u001b[38;5;28;01mdef\u001b[39;00m \u001b[38;5;21m_raise_linalgerror_singular\u001b[39m(err, flag):\n\u001b[0;32m--> 104\u001b[0m     \u001b[38;5;28;01mraise\u001b[39;00m LinAlgError(\u001b[38;5;124m\"\u001b[39m\u001b[38;5;124mSingular matrix\u001b[39m\u001b[38;5;124m\"\u001b[39m)\n",
      "\u001b[0;31mLinAlgError\u001b[0m: Singular matrix"
     ]
    }
   ],
   "source": [
    "A = [\n",
    "    [1, 1, -1, 1],\n",
    "    [1, 2, -4, -2], \n",
    "    [2, 1, 1, 5],\n",
    "    [-1, 0, -2, -4]\n",
    "]\n",
    "\n",
    "B = np.linalg.inv(A)\n",
    "print(B)"
   ]
  },
  {
   "cell_type": "markdown",
   "id": "f7309b8a-5618-4996-b80f-99211d27600b",
   "metadata": {},
   "source": [
    "#### d)"
   ]
  },
  {
   "cell_type": "code",
   "execution_count": 8,
   "id": "cf22ac98-a2c3-4ccc-8b95-841e8f64a059",
   "metadata": {},
   "outputs": [
    {
     "name": "stdout",
     "output_type": "stream",
     "text": [
      "[[ 0.25        0.          0.          0.        ]\n",
      " [-0.21428571  0.14285714 -0.         -0.        ]\n",
      " [ 0.10714286 -1.57142857  1.         -0.        ]\n",
      " [-0.5         1.         -1.          1.        ]]\n"
     ]
    }
   ],
   "source": [
    "A = [\n",
    "    [4, 0, 0, 0],\n",
    "    [6, 7, 0, 0], \n",
    "    [9, 11, 1, 0],\n",
    "    [5, 4, 1, 1]\n",
    "]\n",
    "\n",
    "B = np.linalg.inv(A)\n",
    "print(B)"
   ]
  },
  {
   "cell_type": "markdown",
   "id": "3a3022c7-57e9-4678-8b6f-c44444b24269",
   "metadata": {},
   "source": [
    "### Ejercicio 3\n",
    "\n",
    "Resuelva los sistemas lineales 4 x 4 que tienen la misma matriz de coeficientes:"
   ]
  },
  {
   "cell_type": "code",
   "execution_count": 9,
   "id": "59b2d1fb-2ba6-4c4a-94db-b77885105628",
   "metadata": {},
   "outputs": [
    {
     "name": "stdout",
     "output_type": "stream",
     "text": [
      "[ 3. -6. -2. -1.]\n",
      "[1. 1. 1. 1.]\n"
     ]
    }
   ],
   "source": [
    "A = [\n",
    "    [1, -1, 2, -1],\n",
    "    [1, 0, -1, 1], \n",
    "    [2, 1, 3, -4],\n",
    "    [0, -1, 1, -1]\n",
    "]\n",
    "\n",
    "b1 = [6, 4, -2, 5]\n",
    "\n",
    "b2 = [1, 1, 2, -1]\n",
    "\n",
    "B1 = np.linalg.solve(A, b1)\n",
    "B2 = np.linalg.solve(A, b2)\n",
    "print(B1)\n",
    "print(B2)"
   ]
  },
  {
   "cell_type": "markdown",
   "id": "bd167d0d-15a7-4ba7-8f8e-211852b8bc0d",
   "metadata": {},
   "source": [
    "### Ejercicio 4\n",
    "\n",
    "Encuentre los valores de A que hacen que la siguiente matriz sea singular:"
   ]
  },
  {
   "cell_type": "markdown",
   "id": "0c74d88e-93fa-4323-8ef5-ebcd1394ea31",
   "metadata": {},
   "source": [
    "Se puede obtener $\\alpha$ si calculamos el determinante de esta matriz y la igualamos a cero, entonces:\n",
    "\n",
    "$$det(A) = - \\alpha (1 - 2 \\alpha) - \\frac{3}{2} (2 + 2)$$\n",
    "\n",
    "$$det(A) = 2 \\alpha^{2} - \\alpha - 6 = 0$$\n",
    "\n",
    "$$\\alpha = 2      ------    \\alpha = - \\frac{3}{2}$$\n",
    "\n",
    "Si $\\alpha$ tiene alguno de los valores del conjunto: {$- \\frac{3}{2}, 2$}, entonces el sistema no tiene solucion.\n",
    "\n",
    "Si $\\alpha$, para este momento es igual a cero, entonces existen soluciones infinitas.\n",
    "\n",
    "Esta es la matriz reducida, y el valor $(- \\frac{1}{2} - 2 \\alpha)$ es lo que nos interesa.\n",
    "\n",
    "$$- \\frac{1}{2} - 2 \\alpha$$\n",
    "\n",
    "Si $\\alpha$ tiene alguno de los valores del conjunto {$- \\frac{1}{4}$}, entonces el sistema tiene soluciones infinitas.\n",
    "\n",
    "La respuesta es que $\\alpha$ solo puede usar valores reales menos los del conjunto {$- \\frac{3}{2}, - \\frac{1}{4}, 2$}."
   ]
  },
  {
   "cell_type": "markdown",
   "id": "51609dba-b2a9-4eea-bffa-e806983770dc",
   "metadata": {},
   "source": [
    "### Ejercicio 5\n",
    "\n",
    "Resuelva los siguientes sistemas lineales:"
   ]
  },
  {
   "cell_type": "markdown",
   "id": "457adafe-da00-46f4-8166-4c62ca17eb57",
   "metadata": {},
   "source": [
    "#### a)"
   ]
  },
  {
   "cell_type": "code",
   "execution_count": 10,
   "id": "e6d575d7-81eb-4deb-b30d-80a91171bc26",
   "metadata": {},
   "outputs": [
    {
     "name": "stdout",
     "output_type": "stream",
     "text": [
      "[-3.  3.  1.]\n"
     ]
    }
   ],
   "source": [
    "A1 = [\n",
    "    [1, 0, 0],\n",
    "    [2, 1, 0],\n",
    "    [-1, 0, 1]\n",
    "]\n",
    "\n",
    "A2 = [\n",
    "    [2, 3, -1],\n",
    "    [0, -2, 1],\n",
    "    [0, 0, 3]\n",
    "]\n",
    "\n",
    "b = [2, -1, 1]\n",
    "\n",
    "C = np.matmul(A1, A2)\n",
    "C = np.linalg.solve(C, b)\n",
    "print(C)"
   ]
  },
  {
   "cell_type": "markdown",
   "id": "a96cbdf3-8caf-49de-9b9b-76a63fe707ca",
   "metadata": {},
   "source": [
    "#### b)"
   ]
  },
  {
   "cell_type": "code",
   "execution_count": 12,
   "id": "02b8a72d-c539-4231-8ec2-daa4c74cc3dd",
   "metadata": {},
   "outputs": [
    {
     "name": "stdout",
     "output_type": "stream",
     "text": [
      "[ 0.5 -4.5  3.5]\n"
     ]
    }
   ],
   "source": [
    "A1 = [\n",
    "    [2, 0, 0],\n",
    "    [-1, 1, 0],\n",
    "    [3, 2, -1]\n",
    "]\n",
    "\n",
    "A2 = [\n",
    "    [1, 1, 1],\n",
    "    [0, 1, 2],\n",
    "    [0, 0, 1]\n",
    "]\n",
    "\n",
    "b = [-1, 3, 0]\n",
    "\n",
    "C = np.matmul(A1, A2)\n",
    "C = np.linalg.solve(C, b)\n",
    "print(C)"
   ]
  },
  {
   "cell_type": "markdown",
   "id": "7c22dc1c-c0e0-48f6-bea5-e4b0825a3c85",
   "metadata": {},
   "source": [
    "#### Ejercicio 6\n",
    "\n",
    "Factorice las siguientes matrices en la descomposición $LU$ mediante el algoritmo de factorizacion $LU$ con $l_{ii} = 1$ para todas las $i$.\n",
    "\n",
    "Primero definimos la funcion para la descomposición por LU:"
   ]
  },
  {
   "cell_type": "code",
   "execution_count": 13,
   "id": "f8479728-93c6-4618-87a0-a664f6564d05",
   "metadata": {},
   "outputs": [],
   "source": [
    "def descomposicion_LU(A: np.ndarray) -> tuple[np.ndarray, np.ndarray]:\n",
    "    A = np.array(\n",
    "        A, dtype=float\n",
    "    )\n",
    "\n",
    "    assert A.shape[0] == A.shape[1], \"La matriz A debe ser cuadrada.\"\n",
    "    n = A.shape[0]\n",
    "\n",
    "    L = np.zeros((n, n), dtype=float)\n",
    "\n",
    "    for i in range(0, n):  # loop por columna\n",
    "\n",
    "        # --- deterimnar pivote\n",
    "        if A[i, i] == 0:\n",
    "            raise ValueError(\"No existe solucion unica.\")\n",
    "\n",
    "        # --- Eliminación: loop por fila\n",
    "        L[i, i] = 1\n",
    "        for j in range(i + 1, n):\n",
    "            m = A[j, i] / A[i, i]\n",
    "            A[j, i:] = A[j, i:] - m * A[i, i:]\n",
    "\n",
    "            L[j, i] = m\n",
    "\n",
    "    if A[n - 1, n - 1] == 0:\n",
    "        raise ValueError(\"No existe solucion unica.\")\n",
    "\n",
    "    return L, A"
   ]
  },
  {
   "cell_type": "markdown",
   "id": "704a6388-7305-4a49-8036-90bac76a3126",
   "metadata": {},
   "source": [
    "A continuación los ejercicios:"
   ]
  },
  {
   "cell_type": "markdown",
   "id": "b4190ca8-55aa-42e9-829f-b6d9f04c8812",
   "metadata": {},
   "source": [
    "#### a)"
   ]
  },
  {
   "cell_type": "code",
   "execution_count": 15,
   "id": "7e381cbc-01e6-4ece-8ffb-9884a428cdeb",
   "metadata": {},
   "outputs": [
    {
     "name": "stdout",
     "output_type": "stream",
     "text": [
      "[[1.  0.  0. ]\n",
      " [1.5 1.  0. ]\n",
      " [1.5 1.  1. ]]\n",
      "\n",
      "[[ 2.  -1.   1. ]\n",
      " [ 0.   4.5  7.5]\n",
      " [ 0.   0.  -4. ]]\n"
     ]
    }
   ],
   "source": [
    "A = [\n",
    "    [2, -1, 1],\n",
    "    [3, 3, 9], \n",
    "    [3, 3, 5]\n",
    "]\n",
    "\n",
    "L, U = descomposicion_LU(A)\n",
    "print(L)\n",
    "print()\n",
    "print(U)"
   ]
  },
  {
   "cell_type": "markdown",
   "id": "a351b375-96b6-402f-b9d4-62ff2b1343b2",
   "metadata": {},
   "source": [
    "#### b)"
   ]
  },
  {
   "cell_type": "code",
   "execution_count": 16,
   "id": "91b2918c-ec02-4e57-8ede-41b17d02994d",
   "metadata": {},
   "outputs": [
    {
     "name": "stdout",
     "output_type": "stream",
     "text": [
      "[[ 1.          0.          0.        ]\n",
      " [-2.10671937  1.          0.        ]\n",
      " [ 3.06719368  1.19775553  1.        ]]\n",
      "\n",
      "[[ 1.012      -2.132       3.104     ]\n",
      " [ 0.         -0.39552569 -0.47374308]\n",
      " [ 0.          0.         -8.93914077]]\n"
     ]
    }
   ],
   "source": [
    "A = [\n",
    "    [1.012, -2.132, 3.104],\n",
    "    [-2.132, 4.096, -7.013], \n",
    "    [3.104, -7.013, 0.014]\n",
    "]\n",
    "\n",
    "L, U = descomposicion_LU(A)\n",
    "print(L)\n",
    "print()\n",
    "print(U)"
   ]
  },
  {
   "cell_type": "markdown",
   "id": "43b24c15-01bf-434a-989c-ff3ac4aaf159",
   "metadata": {},
   "source": [
    "#### c)"
   ]
  },
  {
   "cell_type": "code",
   "execution_count": 17,
   "id": "5120596d-c242-4e07-b62a-d6da231fdf72",
   "metadata": {},
   "outputs": [
    {
     "name": "stdout",
     "output_type": "stream",
     "text": [
      "[[ 1.          0.          0.          0.        ]\n",
      " [ 0.5         1.          0.          0.        ]\n",
      " [ 0.         -2.          1.          0.        ]\n",
      " [ 1.         -1.33333333  2.          1.        ]]\n",
      "\n",
      "[[2.  0.  0.  0. ]\n",
      " [0.  1.5 0.  0. ]\n",
      " [0.  0.  0.5 0. ]\n",
      " [0.  0.  0.  1. ]]\n"
     ]
    }
   ],
   "source": [
    "A = [\n",
    "    [2, 0, 0, 0],\n",
    "    [1, 1.5, 0, 0], \n",
    "    [0, -3, 0.5, 0],\n",
    "    [2, -2, 1, 1]\n",
    "]\n",
    "\n",
    "L, U = descomposicion_LU(A)\n",
    "print(L)\n",
    "print()\n",
    "print(U)"
   ]
  },
  {
   "cell_type": "markdown",
   "id": "984e0ad1-fe8b-4892-9256-657096441272",
   "metadata": {},
   "source": [
    "#### d)"
   ]
  },
  {
   "cell_type": "code",
   "execution_count": 18,
   "id": "6737e261-c7ee-4d2c-ac4a-d17977bb656c",
   "metadata": {},
   "outputs": [
    {
     "name": "stdout",
     "output_type": "stream",
     "text": [
      "[[ 1.          0.          0.          0.        ]\n",
      " [-1.84919103  1.          0.          0.        ]\n",
      " [-0.45964332 -0.25012194  1.          0.        ]\n",
      " [ 2.76866152 -0.30794361 -5.35228302  1.        ]]\n",
      "\n",
      "[[ 2.17560000e+00  4.02310000e+00 -2.17320000e+00  5.19670000e+00]\n",
      " [ 0.00000000e+00  1.34394804e+01 -4.01866194e+00  1.08069910e+01]\n",
      " [ 0.00000000e+00  4.44089210e-16 -8.92952394e-01  5.09169403e+00]\n",
      " [ 0.00000000e+00  0.00000000e+00  0.00000000e+00  1.20361280e+01]]\n"
     ]
    }
   ],
   "source": [
    "A = [\n",
    "    [2.1756, 4.0231, -2.1732, 5.1967],\n",
    "    [-4.0231, 6, 0, 1.1973], \n",
    "    [-1, -5.2107, 1.1111, 0],\n",
    "    [6.0235, 7, 0, -4.1561]\n",
    "]\n",
    "\n",
    "L, U = descomposicion_LU(A)\n",
    "print(L)\n",
    "print()\n",
    "print(U)"
   ]
  },
  {
   "cell_type": "markdown",
   "id": "ddcfdee3-3476-4f5f-a1a1-7972579d9f60",
   "metadata": {},
   "source": [
    "#### Ejercicio 7\n",
    "\n",
    "Modifique el algoritmo de eliminación gaussiana de tal forma que se pueda utilizar para resolver un sistema lineal usando la descomposicion LU y, a continuación, resuelva los siguientes sistemas lineales."
   ]
  },
  {
   "cell_type": "markdown",
   "id": "a1d6e02a-1d87-4fec-9393-4f839ac36980",
   "metadata": {},
   "source": [
    "Entonces realizamos esta modificación en una función de eliminación gaussiana:"
   ]
  },
  {
   "cell_type": "code",
   "execution_count": 19,
   "id": "5953d6b2-e347-46fa-8c05-1b1e5f06fb86",
   "metadata": {},
   "outputs": [],
   "source": [
    "def eliminacion_gaussiana(A: np.ndarray) -> np.ndarray:\n",
    "    if not isinstance(A, np.ndarray):\n",
    "        A = np.array(A)\n",
    "    assert A.shape[0] == A.shape[1] - 1, \"La matriz A debe ser de tamanio n-by-(n+1).\"\n",
    "    n = A.shape[0]\n",
    "\n",
    "    for i in range(0, n - 1):  # loop por columna\n",
    "\n",
    "        # --- encontrar pivote\n",
    "        p = None  # default, first element\n",
    "        for pi in range(i, n):\n",
    "            if A[pi, i] == 0:\n",
    "                # must be nonzero\n",
    "                continue\n",
    "\n",
    "            if p is None:\n",
    "                # first nonzero element\n",
    "                p = pi\n",
    "                continue\n",
    "\n",
    "            if abs(A[pi, i]) < abs(A[p, i]):\n",
    "                p = pi\n",
    "\n",
    "        if p is None:\n",
    "            # no pivot found.\n",
    "            raise ValueError(\"No existe solucion unica.\")\n",
    "\n",
    "        if p != i:\n",
    "            # swap rows\n",
    "            _aux = A[i, :].copy()\n",
    "            A[i, :] = A[p, :].copy()\n",
    "            A[p, :] = _aux\n",
    "\n",
    "        for j in range(i + 1, n):\n",
    "            m = A[j, i] / A[i, i]\n",
    "            A[j, i:] = A[j, i:] - m * A[i, i:]\n",
    "\n",
    "\n",
    "    if A[n - 1, n - 1] == 0:\n",
    "        raise ValueError(\"No existe solucion unica.\")\n",
    "\n",
    "        print(f\"\\n{A}\")\n",
    "    solucion = np.zeros(n)\n",
    "    solucion[n - 1] = A[n - 1, n] / A[n - 1, n - 1]\n",
    "\n",
    "    for i in range(n - 2, -1, -1):\n",
    "        suma = 0\n",
    "        for j in range(i + 1, n):\n",
    "            suma += A[i, j] * solucion[j]\n",
    "        solucion[i] = (A[i, n] - suma) / A[i, i]\n",
    "\n",
    "    return solucion"
   ]
  },
  {
   "cell_type": "markdown",
   "id": "80c85502-ddd9-4a5a-932f-d069919a5d30",
   "metadata": {},
   "source": [
    "Y procedemos a la resolución de cada literal:"
   ]
  },
  {
   "cell_type": "markdown",
   "id": "0b388cbe-568d-4d11-8563-006643e6e742",
   "metadata": {},
   "source": [
    "#### a)"
   ]
  },
  {
   "cell_type": "code",
   "execution_count": 20,
   "id": "f240f30d-ceda-4282-986d-d8906db5df06",
   "metadata": {},
   "outputs": [
    {
     "name": "stdout",
     "output_type": "stream",
     "text": [
      "[ 1.  2. -1.]\n"
     ]
    }
   ],
   "source": [
    "A = [\n",
    "    [2, -1, 1, -1],\n",
    "    [3, 3, 9, 0], \n",
    "    [3, 3, 5, 4]\n",
    "]\n",
    "\n",
    "x = eliminacion_gaussiana(A)\n",
    "print(x)"
   ]
  },
  {
   "cell_type": "markdown",
   "id": "8c472dc8-9029-4557-aab3-b1a0a27f5440",
   "metadata": {},
   "source": [
    "#### b)"
   ]
  },
  {
   "cell_type": "code",
   "execution_count": 22,
   "id": "752297f9-e56d-46c8-89fc-aac1d9d21480",
   "metadata": {},
   "outputs": [
    {
     "name": "stdout",
     "output_type": "stream",
     "text": [
      "[1. 1. 1.]\n"
     ]
    }
   ],
   "source": [
    "A = [\n",
    "    [1.012, -2.132, 3.104, 1.984],\n",
    "    [-2.132, 4.096, -7.013, -5.049], \n",
    "    [3.104, -7.013, 0.014, -3.895]\n",
    "]\n",
    "\n",
    "x = eliminacion_gaussiana(A)\n",
    "print(x)"
   ]
  },
  {
   "cell_type": "markdown",
   "id": "32b05c97-dad5-45aa-9fe0-540bad068f92",
   "metadata": {},
   "source": [
    "#### c)"
   ]
  },
  {
   "cell_type": "code",
   "execution_count": 21,
   "id": "fcbe4b49-3686-4eb8-95f7-a6d0b8d6d589",
   "metadata": {},
   "outputs": [
    {
     "name": "stdout",
     "output_type": "stream",
     "text": [
      "[ 1.5  2.  -1.2  3. ]\n"
     ]
    }
   ],
   "source": [
    "A = [\n",
    "    [2, 0, 0, 0, 3],\n",
    "    [1, 1.5, 0, 0, 4.5], \n",
    "    [0, -3, 0.5, 0, -6.6],\n",
    "    [2, -2, 1, 1, 0.8]\n",
    "]\n",
    "\n",
    "x = eliminacion_gaussiana(A)\n",
    "print(x)"
   ]
  },
  {
   "cell_type": "markdown",
   "id": "bc6e0c97-405a-4c8a-87a0-c8402234b408",
   "metadata": {},
   "source": [
    "#### d)"
   ]
  },
  {
   "cell_type": "code",
   "execution_count": 23,
   "id": "5e9c2784-162f-42a4-b0c7-51ff09b5761f",
   "metadata": {},
   "outputs": [
    {
     "name": "stdout",
     "output_type": "stream",
     "text": [
      "[2.9398512  0.0706777  5.67773512 4.37981223]\n"
     ]
    }
   ],
   "source": [
    "A = [\n",
    "    [2.1756, 4.0231, -2.1732, 5.1967, 17.102],\n",
    "    [-4.0231, 6, 0, 1.1973, -6.1593], \n",
    "    [-1, -5.2107, 1.1111, 0, 3.0004],\n",
    "    [6.0235, 7, 0, -4.1561, 0]\n",
    "]\n",
    "\n",
    "x = eliminacion_gaussiana(A)\n",
    "print(x)"
   ]
  }
 ],
 "metadata": {
  "kernelspec": {
   "display_name": "Python 3 (ipykernel)",
   "language": "python",
   "name": "python3"
  },
  "language_info": {
   "codemirror_mode": {
    "name": "ipython",
    "version": 3
   },
   "file_extension": ".py",
   "mimetype": "text/x-python",
   "name": "python",
   "nbconvert_exporter": "python",
   "pygments_lexer": "ipython3",
   "version": "3.11.9"
  }
 },
 "nbformat": 4,
 "nbformat_minor": 5
}
