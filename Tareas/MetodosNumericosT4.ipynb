{
 "cells": [
  {
   "cell_type": "markdown",
   "id": "009cfbb1-19e9-447a-bee6-562415d66e41",
   "metadata": {},
   "source": [
    "# ESCUELA POLITÉCNICA NACIONAL\n",
    "\n",
    "## MÉTODOS NUMÉRICOS\n",
    "\n",
    "### TAREA 3"
   ]
  },
  {
   "cell_type": "markdown",
   "id": "cc453dee-8271-49d3-abcb-cd6364ea65eb",
   "metadata": {},
   "source": [
    "David Alejandro Puga Novoa - GR1CC - 31/10/2024"
   ]
  },
  {
   "cell_type": "markdown",
   "id": "aa9366b7-f0c7-4329-a6a5-6a5457078c83",
   "metadata": {},
   "source": [
    "# Implementación de gráficas, imports y funciones basicas\n",
    "\n",
    "Para los literales que solicitan una gráfica, utilizaremos las librerias \"Numpy\" es una librería que se especializa en el cálculo y manejo de datos numéricos mientras que la librería \"Matplotlib\" se encarga de graficar en dos dimensiones.\n",
    "\n",
    "En este caso, el código que resolverá las cuestiones en los ejercicios es el dispuesto en el aula virtual, solamente que explicado en este documento.\n",
    "\n",
    "En los signos se interpretaran como una función sencilla que devuelve, en pocas palabras, el signo del número flotante que reciba como parámetro. Nos será de gran utilidad en cuanto a la búsqueda de la raíz en el problema.\n",
    "\n",
    "# Función bisección\n",
    "\n",
    "Manejamos la clase Callable que nos servirá para llamar a distintas funciones (ecuaciones) y entregárselas a la funcion bisección como parámetro. Entonces los parámetros a recibir para \"bisection\" son:\n",
    "\n",
    "- El Límite inferior del dominio dado por \"a\".\n",
    "- El Límite superior del dominio dado por \"b\".\n",
    "- Función (equation) par analizar\n",
    "- \"Callable\" informa que la función debe tener entrada float y uno de salida del mismo tipo.\n",
    "- La Tolerancia de error dado por \"tol\".\n",
    "- El Límite de iteraciones dado por \"N\".\n"
   ]
  },
  {
   "cell_type": "code",
   "execution_count": 2,
   "id": "ce2319d3-9a76-467d-9557-d23e41e3a9f4",
   "metadata": {
    "tags": []
   },
   "outputs": [],
   "source": [
    "import numpy as np\n",
    "import matplotlib.pyplot as plt\n",
    "import math\n",
    "\n",
    "def sign(x: float) -> int:\n",
    "    if x > 0:\n",
    "        return 1\n",
    "    elif x < 0:\n",
    "        return -1\n",
    "    else:\n",
    "        return 0\n",
    "\n",
    "from typing import Callable\n",
    "\n",
    "def bisection(\n",
    "    a: float, b: float, *, equation: Callable[[float], float], tol: float, N: int\n",
    ") -> tuple[float, int] | None:\n",
    "    i = 1\n",
    "    \n",
    "    assert a < b, \"a not lower than b, the interval is not valid.\"\n",
    "\n",
    "    assert (\n",
    "        equation(a) * equation(b) < 0\n",
    "    ), \"The function does not change sign over the interval.\"\n",
    "\n",
    "    Fa = equation(a)\n",
    "    p = a \n",
    "    for i in range(N):\n",
    "        p = a + (b - a) / 2\n",
    "        FP = equation(p)\n",
    "        \n",
    "        if FP == 0 or (b - a) / 2 < tol:\n",
    "            return p, i\n",
    "\n",
    "        if sign(Fa) * sign(FP) > 0:\n",
    "            a = p\n",
    "            Fa = FP\n",
    "            \n",
    "        else:\n",
    "            b = p\n",
    "\n",
    "    return p, i"
   ]
  },
  {
   "cell_type": "markdown",
   "id": "d8a8f5de-6ab6-49e9-9138-d39177502518",
   "metadata": {},
   "source": [
    "# 1. Conjunto de ejercicios"
   ]
  },
  {
   "cell_type": "markdown",
   "id": "10fbb37b-27f0-48f5-a7aa-36bac0bfa551",
   "metadata": {},
   "source": [
    "### 1.1. Use el método de bisección para encontrar soluciones precisas dentro de $10^{-2}$ para $x^{3} - 7x^{2} + 14x - 6 = 0$ en cada intervalo. "
   ]
  },
  {
   "cell_type": "markdown",
   "id": "78fa7da0-fa1e-406e-975f-f3cb5898bcb8",
   "metadata": {},
   "source": [
    "#### a) [0,1]"
   ]
  },
  {
   "cell_type": "code",
   "execution_count": 3,
   "id": "b3ad66b7-36d8-4bc5-a026-f9fce14af442",
   "metadata": {
    "tags": []
   },
   "outputs": [
    {
     "name": "stdout",
     "output_type": "stream",
     "text": [
      "El resultado de la biseccion da la raíz 0.5859375 en 6 iteraciones\n"
     ]
    }
   ],
   "source": [
    "r1, i = bisection(a = 0, b = 1, equation = lambda x : x**3 - 7*x**2 + 14*x - 6, tol = 10**(-2), N = 20)\n",
    "print(f'El resultado de la biseccion da la raíz {r1} en {i} iteraciones')"
   ]
  },
  {
   "cell_type": "markdown",
   "id": "61e90e9b-2009-46de-a61c-624f249cdfea",
   "metadata": {},
   "source": [
    "#### b)[1 , 3.2]"
   ]
  },
  {
   "cell_type": "code",
   "execution_count": 4,
   "id": "5a652c67-e1df-41ff-99b3-9c47c479f29e",
   "metadata": {
    "tags": []
   },
   "outputs": [
    {
     "name": "stdout",
     "output_type": "stream",
     "text": [
      "El resultado de la biseccion da la raíz 3.0023437500000005 en 7 iteraciones\n"
     ]
    }
   ],
   "source": [
    "r2, i = bisection(a = 1, b = 3.2, equation = lambda x : x**3 - 7*x**2 + 14*x - 6, tol = 10**(-2), N = 20)\n",
    "print(f'El resultado de la biseccion da la raíz {r2} en {i} iteraciones')"
   ]
  },
  {
   "cell_type": "markdown",
   "id": "61d5629b-4794-4e87-80ab-2642b23fe488",
   "metadata": {},
   "source": [
    "#### c)[3.2 , 4]"
   ]
  },
  {
   "cell_type": "code",
   "execution_count": 5,
   "id": "9d6508c7-e50a-4233-8caa-98d2e4bc708d",
   "metadata": {
    "tags": []
   },
   "outputs": [
    {
     "name": "stdout",
     "output_type": "stream",
     "text": [
      "El resultado de la biseccion da la raíz 3.41875 en 6 iteraciones\n"
     ]
    }
   ],
   "source": [
    "r3, i = bisection(a = 3.2, b = 4, equation = lambda x : x**3 - 7*x**2 + 14*x - 6, tol = 10**(-2), N = 20)\n",
    "print(f'El resultado de la biseccion da la raíz {r3} en {i} iteraciones')"
   ]
  },
  {
   "cell_type": "markdown",
   "id": "a4118092-660c-4b46-9f91-6160e556b19c",
   "metadata": {},
   "source": [
    "### 1.4.\n",
    "\n",
    "#### a) Dibuje las gráficas para $y = x^2 - 1$ y $y = e^{1 - x^2}$\n",
    "\n",
    "Empezamos graficando la función $y = x^2 - 1$:\n"
   ]
  },
  {
   "cell_type": "code",
   "execution_count": 6,
   "id": "12d30f16-d1f4-4f5a-9057-0dea645611e0",
   "metadata": {
    "tags": []
   },
   "outputs": [
    {
     "data": {
      "image/png": "[encoded data removed]",
      "text/plain": [
       "<Figure size 640x480 with 1 Axes>"
      ]
     },
     "metadata": {},
     "output_type": "display_data"
    }
   ],
   "source": [
    "X = np.linspace(-10, 10, 100)\n",
    "Y = [(lambda x : x**2 - 1)(x) for x in X]\n",
    "\n",
    "plt.plot(X, Y)\n",
    "plt.xlabel('x')\n",
    "plt.ylabel('y')\n",
    "plt.title('Grafica de $y = x^2 - 1$')\n",
    "ax = plt.gca()\n",
    "ax.set_ylim([-2.5, 22.5])\n",
    "ax.set_xlim([-10, 10])\n",
    "plt.grid(True)\n",
    "plt.show()"
   ]
  },
  {
   "cell_type": "markdown",
   "id": "29e765b8-4553-4af0-97f7-ffe4cdf27b85",
   "metadata": {},
   "source": [
    "\n",
    "Y seguido de esto gráfica para la función $y = e^{1 - x^2}$:\n"
   ]
  },
  {
   "cell_type": "code",
   "execution_count": 7,
   "id": "7a00004c-6070-4400-a8af-c3e6b52383a8",
   "metadata": {
    "tags": []
   },
   "outputs": [
    {
     "data": {
      "image/png": "[encoded data removed]",
      "text/plain": [
       "<Figure size 640x480 with 1 Axes>"
      ]
     },
     "metadata": {},
     "output_type": "display_data"
    }
   ],
   "source": [
    "Y = [(lambda x : math.exp(1 - x**2))(x) for x in X]\n",
    "\n",
    "plt.plot(X, Y)\n",
    "plt.xlabel('x')\n",
    "plt.ylabel('y')\n",
    "plt.title('Grafica de $y = e^{1 - x^2}$')\n",
    "ax = plt.gca()\n",
    "ax.set_ylim([-2.5, 5])\n",
    "ax.set_xlim([-10, 10])\n",
    "plt.grid(True)\n",
    "plt.show()"
   ]
  },
  {
   "cell_type": "markdown",
   "id": "5082a438-7660-49b8-bf48-09b68504fb74",
   "metadata": {},
   "source": [
    "####  b) Use el método de bisección para encontrar una aproximación dentro de $10^{-3}$ para un valor (-2, 0) con $x^2 - e^{1 - x^2} - 1$.\n",
    "\n",
    "Por bisección tenemos:"
   ]
  },
  {
   "cell_type": "code",
   "execution_count": 8,
   "id": "90936254-432c-4a75-b5e8-d9ad65442bd0",
   "metadata": {
    "tags": []
   },
   "outputs": [
    {
     "name": "stdout",
     "output_type": "stream",
     "text": [
      "El resultado de la biseccion da la raíz -1.2509765625 en 10 iteraciones\n"
     ]
    }
   ],
   "source": [
    "r, i = bisection(a = -2, b = 0, equation = lambda x : x**2 - math.exp(1 - x**2) - 1, tol = 10**(-3), N = 20)\n",
    "print(f'El resultado de la biseccion da la raíz {r} en {i} iteraciones')"
   ]
  },
  {
   "cell_type": "markdown",
   "id": "7b5ad676-564d-4b71-9fb3-66f818f207f7",
   "metadata": {},
   "source": [
    "# 2. Ejercicios aplicados"
   ]
  },
  {
   "attachments": {},
   "cell_type": "markdown",
   "id": "3d10265e-75b6-4ac5-8108-b476f7c7e046",
   "metadata": {},
   "source": [
    "### 2.1. Un abrevadero de longitud 𝐿 tiene una sección transversal en forma de semicírculo con radio 𝑟. (Consulte la figura adjunta.) Cuando se llena con agua hasta una distancia ℎ a partir de la parte superior, el volumen 𝑉 de agua es\n",
    "\n",
    "$$V = L[0.5 \\pi r^2 - r^2 \\arcsin{\\frac{h}{r}} - h(r^2 - h^2)^{\\frac{1}{2}}]$$\n",
    "\n",
    "Suponga que 𝐿 = 10 𝑐𝑚, 𝑟 = 1 𝑐𝑚 y 𝑉 =12.4 𝑐𝑚. Encuentre la profundidad del agua en el abrevadero \n",
    "dentro de 0.01 𝑐𝑚. "
   ]
  },
  {
   "cell_type": "markdown",
   "id": "30398429-d179-4cb6-82df-5bb349e362d7",
   "metadata": {},
   "source": [
    "Como dicta el ejercicio el 0.01 cm se puede interpretar como el error absoluto que se puede tolerar al calcular $h$. \n",
    "\n",
    "Entonces empezamos reemplazando los valores en la ecuación original, tal que:\n",
    "\n",
    "$$12.4 = 10[0.5 \\pi (1)^2 - 1^2 \\arcsin{\\frac{h}{1}} - h(1^2 - h^2)^{\\frac{1}{2}}]$$\n",
    "\n",
    "Utlizaremos método de bisección para resolverlo de manera mas sencilla. La anterior ecuación se tiene que igualar a cero, para así, calcular las raices que h puede tener.\n",
    "\n",
    "$$0 = 10[0.5 \\pi (1)^2 - 1^2 \\arcsin{\\frac{h}{1}} - h(1^2 - h^2)^{\\frac{1}{2}}] - 12.4$$\n",
    "\n",
    "Implementa en código con una función lambda."
   ]
  },
  {
   "cell_type": "code",
   "execution_count": 9,
   "id": "2d276001-0b23-46be-80a8-34b2e7813ed5",
   "metadata": {
    "tags": []
   },
   "outputs": [
    {
     "name": "stdout",
     "output_type": "stream",
     "text": [
      "La profundidad del agua (h) es aproximadamente: 0.1640625 cm, calculado en 6 iteraciones\n"
     ]
    }
   ],
   "source": [
    "r, i = bisection(a = 0, b = 1, equation = lambda x : 10 * (0.5 * math.pi - math.asin(x) - x * (1 - x**2)**0.5) - 12.4, tol = 0.01, N = 20)\n",
    "print(f'La profundidad del agua (h) es aproximadamente: {r} cm, calculado en {i} iteraciones')"
   ]
  },
  {
   "cell_type": "markdown",
   "id": "35764782-da48-40b4-b154-6b34dd8d0bbd",
   "metadata": {},
   "source": [
    "## 2.2Un objeto que cae verticalmente a través del aire está sujeto a una resistencia viscosa, así como a la fuerza de gravedad. Suponga que un objeto con masa 𝑚 cae desde una altura 𝑠 y que la altura del objeto después de 𝑡 segundos es \n",
    "\n",
    "$$s(t) = s_0 - \\frac{mg}{k} t + \\frac{m^2g}{k^2} (1 - e^{\\frac{-kt}{m}})$$\n",
    "\n",
    "donde 𝑔 = 9.81 $\\frac{m}{s^2}$ y 𝑘 representa el coeficiente de la resistencia del aire en $\\frac{Ns}{m}$. Suponga $s_0 = 300 m$, $m = 25 kg$ y $k = 0.1 \\frac{Ns}{m}$. Encuentre, dentro de 0.01 𝑠𝑒𝑔𝑢𝑛𝑑𝑜𝑠, el tiempo que tarda un cuarto de kg en \n",
    "golpear el piso. "
   ]
  },
  {
   "cell_type": "markdown",
   "id": "92d0098d-4f95-4a60-a1fe-50def810b461",
   "metadata": {},
   "source": [
    "Se necesita de métodos numéricos para resolverlo por ello en 0.01 segundos es el error absoluto admisible será nuestra raíz. Reemplazamos los datos dados en el enunciado para la fórmula, tal que la ecuación esté respecto al tiempo.\n",
    "\n",
    "$0 = 300 - \\frac{(25)(9.81)}{0.1} t + \\frac{(25)^2(9.81)}{(0.1)^2} (1 - e^{\\frac{-(0.1)t}{25}})$\n",
    "\n",
    "Sutituimos adicionalmente a $s(t) = 0$ porque la función representa la altura en la que el objeto se encuentra en cierto momento, pero el problema nos pide el tiempo para cuando toque el suelo. Tomando como el sistema de referencia para el eje y el suelo, entonces la altura es cero.\n",
    "\n",
    "Implementamos la función bisección:"
   ]
  },
  {
   "cell_type": "code",
   "execution_count": 10,
   "id": "5ae8586b-4f76-4032-b226-e11ef02a3e8c",
   "metadata": {},
   "outputs": [
    {
     "name": "stdout",
     "output_type": "stream",
     "text": [
      "El tiempo en tocar el suelo (t) es: 7.8671875 segundos, calculado en 6 iteraciones\n"
     ]
    }
   ],
   "source": [
    "r, i = bisection(a = 7, b = 8, equation = lambda x : 300 - (25*9.81*x)/0.1 + (625*9.81)*(1 - math.exp(-(0.1)*x/25))/0.1**2, tol = 0.01, N = 20)\n",
    "print(f'El tiempo en tocar el suelo (t) es: {r} segundos, calculado en {i} iteraciones')"
   ]
  },
  {
   "cell_type": "markdown",
   "id": "e6dd1abf-b17e-4395-a71b-04fc0080fef1",
   "metadata": {},
   "source": [
    "# 3. Ejercicios teóricos"
   ]
  },
  {
   "cell_type": "markdown",
   "id": "7b7f2c30-fae1-4a57-bb48-fba6d235344d",
   "metadata": {},
   "source": [
    "### 3.1. Use el teorema 2.1 para encontrar una cota para el número de iteraciones necesarias para lograr una aproximación con precisión de $10^{-4}$ para la solución de $x^3 - x - 1 = 0$ que se encuentra dentro del intervalo (1, 2). Encuentre una aproximación para la raíz con este grado de precisión. "
   ]
  },
  {
   "cell_type": "markdown",
   "id": "27242b1f-a750-4fef-823b-68c61feba8d5",
   "metadata": {},
   "source": [
    "Implementamos bisección con los parámetros ya que no se encuentra el teorema en la tarea. "
   ]
  },
  {
   "cell_type": "code",
   "execution_count": 11,
   "id": "b5c8470a-d444-4639-9546-88a5b486b4de",
   "metadata": {
    "tags": []
   },
   "outputs": [
    {
     "name": "stdout",
     "output_type": "stream",
     "text": [
      "El resultado de la biseccion da la raíz 1.32476806640625 en 13 iteraciones\n"
     ]
    }
   ],
   "source": [
    "r, i = bisection(a = 1, b = 2, equation = lambda x : x**3 - x - 1, tol = 10**(-4), N = 20)\n",
    "print(f'El resultado de la biseccion da la raíz {r} en {i} iteraciones')"
   ]
  }
 ],
 "metadata": {
  "kernelspec": {
   "display_name": "Python 3 (ipykernel)",
   "language": "python",
   "name": "python3"
  },
  "language_info": {
   "codemirror_mode": {
    "name": "ipython",
    "version": 3
   },
   "file_extension": ".py",
   "mimetype": "text/x-python",
   "name": "python",
   "nbconvert_exporter": "python",
   "pygments_lexer": "ipython3",
   "version": "3.11.9"
  }
 },
 "nbformat": 4,
 "nbformat_minor": 5
}
