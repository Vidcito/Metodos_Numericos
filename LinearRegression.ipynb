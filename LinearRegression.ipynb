{
  "nbformat": 4,
  "nbformat_minor": 0,
  "metadata": {
    "colab": {
      "provenance": [],
      "authorship_tag": "ABX9TyNxLj/sxKnSfGfIH2ObOnf0",
      "include_colab_link": true
    },
    "kernelspec": {
      "name": "python3",
      "display_name": "Python 3"
    },
    "language_info": {
      "name": "python"
    },
    "widgets": {
      "application/vnd.jupyter.widget-state+json": {
        "3205cdd007bc4acdae23a7d45aa01d00": {
          "model_module": "@jupyter-widgets/controls",
          "model_name": "VBoxModel",
          "model_module_version": "1.5.0",
          "state": {
            "_dom_classes": [
              "widget-interact"
            ],
            "_model_module": "@jupyter-widgets/controls",
            "_model_module_version": "1.5.0",
            "_model_name": "VBoxModel",
            "_view_count": null,
            "_view_module": "@jupyter-widgets/controls",
            "_view_module_version": "1.5.0",
            "_view_name": "VBoxView",
            "box_style": "",
            "children": [
              "IPY_MODEL_da84b79864404f30944cb685cc402646",
              "IPY_MODEL_f6cfa6cef2ff4fd6947bfbd514202626",
              "IPY_MODEL_a863bc33f67b49178487712b4a5665f9"
            ],
            "layout": "IPY_MODEL_3cd6fd409da74a92bfb3b854095a1776"
          }
        },
        "da84b79864404f30944cb685cc402646": {
          "model_module": "@jupyter-widgets/controls",
          "model_name": "FloatSliderModel",
          "model_module_version": "1.5.0",
          "state": {
            "_dom_classes": [],
            "_model_module": "@jupyter-widgets/controls",
            "_model_module_version": "1.5.0",
            "_model_name": "FloatSliderModel",
            "_view_count": null,
            "_view_module": "@jupyter-widgets/controls",
            "_view_module_version": "1.5.0",
            "_view_name": "FloatSliderView",
            "continuous_update": true,
            "description": "p2_x",
            "description_tooltip": null,
            "disabled": false,
            "layout": "IPY_MODEL_378036500fe3416b94649c0933be4319",
            "max": 12.3,
            "min": 5.5,
            "orientation": "horizontal",
            "readout": true,
            "readout_format": ".2f",
            "step": 0.1,
            "style": "IPY_MODEL_fd0ba9ffcb2c4cd4b47bc0da2bfcb4f1",
            "value": 8.9
          }
        },
        "f6cfa6cef2ff4fd6947bfbd514202626": {
          "model_module": "@jupyter-widgets/controls",
          "model_name": "FloatSliderModel",
          "model_module_version": "1.5.0",
          "state": {
            "_dom_classes": [],
            "_model_module": "@jupyter-widgets/controls",
            "_model_module_version": "1.5.0",
            "_model_name": "FloatSliderModel",
            "_view_count": null,
            "_view_module": "@jupyter-widgets/controls",
            "_view_module_version": "1.5.0",
            "_view_name": "FloatSliderView",
            "continuous_update": true,
            "description": "p2_y",
            "description_tooltip": null,
            "disabled": false,
            "layout": "IPY_MODEL_8322fd851f39435d91a3ad9ab8b1725e",
            "max": 10,
            "min": -10,
            "orientation": "horizontal",
            "readout": true,
            "readout_format": ".2f",
            "step": 0.1,
            "style": "IPY_MODEL_5ffb68fb1d204e319a7c1c32b9f6600f",
            "value": 0
          }
        },
        "a863bc33f67b49178487712b4a5665f9": {
          "model_module": "@jupyter-widgets/output",
          "model_name": "OutputModel",
          "model_module_version": "1.0.0",
          "state": {
            "_dom_classes": [],
            "_model_module": "@jupyter-widgets/output",
            "_model_module_version": "1.0.0",
            "_model_name": "OutputModel",
            "_view_count": null,
            "_view_module": "@jupyter-widgets/output",
            "_view_module_version": "1.0.0",
            "_view_name": "OutputView",
            "layout": "IPY_MODEL_add026844c5a4e9bb5748f2dc0146be7",
            "msg_id": "",
            "outputs": [
              {
                "output_type": "display_data",
                "data": {
                  "text/plain": "<Figure size 1000x600 with 1 Axes>",
                  "image/png": "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\n"
                },
                "metadata": {}
              }
            ]
          }
        },
        "3cd6fd409da74a92bfb3b854095a1776": {
          "model_module": "@jupyter-widgets/base",
          "model_name": "LayoutModel",
          "model_module_version": "1.2.0",
          "state": {
            "_model_module": "@jupyter-widgets/base",
            "_model_module_version": "1.2.0",
            "_model_name": "LayoutModel",
            "_view_count": null,
            "_view_module": "@jupyter-widgets/base",
            "_view_module_version": "1.2.0",
            "_view_name": "LayoutView",
            "align_content": null,
            "align_items": null,
            "align_self": null,
            "border": null,
            "bottom": null,
            "display": null,
            "flex": null,
            "flex_flow": null,
            "grid_area": null,
            "grid_auto_columns": null,
            "grid_auto_flow": null,
            "grid_auto_rows": null,
            "grid_column": null,
            "grid_gap": null,
            "grid_row": null,
            "grid_template_areas": null,
            "grid_template_columns": null,
            "grid_template_rows": null,
            "height": null,
            "justify_content": null,
            "justify_items": null,
            "left": null,
            "margin": null,
            "max_height": null,
            "max_width": null,
            "min_height": null,
            "min_width": null,
            "object_fit": null,
            "object_position": null,
            "order": null,
            "overflow": null,
            "overflow_x": null,
            "overflow_y": null,
            "padding": null,
            "right": null,
            "top": null,
            "visibility": null,
            "width": null
          }
        },
        "378036500fe3416b94649c0933be4319": {
          "model_module": "@jupyter-widgets/base",
          "model_name": "LayoutModel",
          "model_module_version": "1.2.0",
          "state": {
            "_model_module": "@jupyter-widgets/base",
            "_model_module_version": "1.2.0",
            "_model_name": "LayoutModel",
            "_view_count": null,
            "_view_module": "@jupyter-widgets/base",
            "_view_module_version": "1.2.0",
            "_view_name": "LayoutView",
            "align_content": null,
            "align_items": null,
            "align_self": null,
            "border": null,
            "bottom": null,
            "display": null,
            "flex": null,
            "flex_flow": null,
            "grid_area": null,
            "grid_auto_columns": null,
            "grid_auto_flow": null,
            "grid_auto_rows": null,
            "grid_column": null,
            "grid_gap": null,
            "grid_row": null,
            "grid_template_areas": null,
            "grid_template_columns": null,
            "grid_template_rows": null,
            "height": null,
            "justify_content": null,
            "justify_items": null,
            "left": null,
            "margin": null,
            "max_height": null,
            "max_width": null,
            "min_height": null,
            "min_width": null,
            "object_fit": null,
            "object_position": null,
            "order": null,
            "overflow": null,
            "overflow_x": null,
            "overflow_y": null,
            "padding": null,
            "right": null,
            "top": null,
            "visibility": null,
            "width": null
          }
        },
        "fd0ba9ffcb2c4cd4b47bc0da2bfcb4f1": {
          "model_module": "@jupyter-widgets/controls",
          "model_name": "SliderStyleModel",
          "model_module_version": "1.5.0",
          "state": {
            "_model_module": "@jupyter-widgets/controls",
            "_model_module_version": "1.5.0",
            "_model_name": "SliderStyleModel",
            "_view_count": null,
            "_view_module": "@jupyter-widgets/base",
            "_view_module_version": "1.2.0",
            "_view_name": "StyleView",
            "description_width": "",
            "handle_color": null
          }
        },
        "8322fd851f39435d91a3ad9ab8b1725e": {
          "model_module": "@jupyter-widgets/base",
          "model_name": "LayoutModel",
          "model_module_version": "1.2.0",
          "state": {
            "_model_module": "@jupyter-widgets/base",
            "_model_module_version": "1.2.0",
            "_model_name": "LayoutModel",
            "_view_count": null,
            "_view_module": "@jupyter-widgets/base",
            "_view_module_version": "1.2.0",
            "_view_name": "LayoutView",
            "align_content": null,
            "align_items": null,
            "align_self": null,
            "border": null,
            "bottom": null,
            "display": null,
            "flex": null,
            "flex_flow": null,
            "grid_area": null,
            "grid_auto_columns": null,
            "grid_auto_flow": null,
            "grid_auto_rows": null,
            "grid_column": null,
            "grid_gap": null,
            "grid_row": null,
            "grid_template_areas": null,
            "grid_template_columns": null,
            "grid_template_rows": null,
            "height": null,
            "justify_content": null,
            "justify_items": null,
            "left": null,
            "margin": null,
            "max_height": null,
            "max_width": null,
            "min_height": null,
            "min_width": null,
            "object_fit": null,
            "object_position": null,
            "order": null,
            "overflow": null,
            "overflow_x": null,
            "overflow_y": null,
            "padding": null,
            "right": null,
            "top": null,
            "visibility": null,
            "width": null
          }
        },
        "5ffb68fb1d204e319a7c1c32b9f6600f": {
          "model_module": "@jupyter-widgets/controls",
          "model_name": "SliderStyleModel",
          "model_module_version": "1.5.0",
          "state": {
            "_model_module": "@jupyter-widgets/controls",
            "_model_module_version": "1.5.0",
            "_model_name": "SliderStyleModel",
            "_view_count": null,
            "_view_module": "@jupyter-widgets/base",
            "_view_module_version": "1.2.0",
            "_view_name": "StyleView",
            "description_width": "",
            "handle_color": null
          }
        },
        "add026844c5a4e9bb5748f2dc0146be7": {
          "model_module": "@jupyter-widgets/base",
          "model_name": "LayoutModel",
          "model_module_version": "1.2.0",
          "state": {
            "_model_module": "@jupyter-widgets/base",
            "_model_module_version": "1.2.0",
            "_model_name": "LayoutModel",
            "_view_count": null,
            "_view_module": "@jupyter-widgets/base",
            "_view_module_version": "1.2.0",
            "_view_name": "LayoutView",
            "align_content": null,
            "align_items": null,
            "align_self": null,
            "border": null,
            "bottom": null,
            "display": null,
            "flex": null,
            "flex_flow": null,
            "grid_area": null,
            "grid_auto_columns": null,
            "grid_auto_flow": null,
            "grid_auto_rows": null,
            "grid_column": null,
            "grid_gap": null,
            "grid_row": null,
            "grid_template_areas": null,
            "grid_template_columns": null,
            "grid_template_rows": null,
            "height": null,
            "justify_content": null,
            "justify_items": null,
            "left": null,
            "margin": null,
            "max_height": null,
            "max_width": null,
            "min_height": null,
            "min_width": null,
            "object_fit": null,
            "object_position": null,
            "order": null,
            "overflow": null,
            "overflow_x": null,
            "overflow_y": null,
            "padding": null,
            "right": null,
            "top": null,
            "visibility": null,
            "width": null
          }
        },
        "6b2fabcdb8724176b6193514bd44df21": {
          "model_module": "@jupyter-widgets/controls",
          "model_name": "VBoxModel",
          "model_module_version": "1.5.0",
          "state": {
            "_dom_classes": [
              "widget-interact"
            ],
            "_model_module": "@jupyter-widgets/controls",
            "_model_module_version": "1.5.0",
            "_model_name": "VBoxModel",
            "_view_count": null,
            "_view_module": "@jupyter-widgets/controls",
            "_view_module_version": "1.5.0",
            "_view_name": "VBoxView",
            "box_style": "",
            "children": [
              "IPY_MODEL_c03d412efac348b780cdb53b9f4861f5",
              "IPY_MODEL_bbef45c6eb4a4962ad8d032370a2d7a4",
              "IPY_MODEL_3bf41dcdcf954e839673f5d1b8944d08"
            ],
            "layout": "IPY_MODEL_7b0543fabc394f268d569ac187777697"
          }
        },
        "c03d412efac348b780cdb53b9f4861f5": {
          "model_module": "@jupyter-widgets/controls",
          "model_name": "FloatSliderModel",
          "model_module_version": "1.5.0",
          "state": {
            "_dom_classes": [],
            "_model_module": "@jupyter-widgets/controls",
            "_model_module_version": "1.5.0",
            "_model_name": "FloatSliderModel",
            "_view_count": null,
            "_view_module": "@jupyter-widgets/controls",
            "_view_module_version": "1.5.0",
            "_view_name": "FloatSliderView",
            "continuous_update": true,
            "description": "p2_x",
            "description_tooltip": null,
            "disabled": false,
            "layout": "IPY_MODEL_c0b430c8455948888f93f604506ed909",
            "max": 12.3,
            "min": 5.5,
            "orientation": "horizontal",
            "readout": true,
            "readout_format": ".2f",
            "step": 0.1,
            "style": "IPY_MODEL_3b27133461984be4933e74a6a3240227",
            "value": 8.9
          }
        },
        "bbef45c6eb4a4962ad8d032370a2d7a4": {
          "model_module": "@jupyter-widgets/controls",
          "model_name": "FloatSliderModel",
          "model_module_version": "1.5.0",
          "state": {
            "_dom_classes": [],
            "_model_module": "@jupyter-widgets/controls",
            "_model_module_version": "1.5.0",
            "_model_name": "FloatSliderModel",
            "_view_count": null,
            "_view_module": "@jupyter-widgets/controls",
            "_view_module_version": "1.5.0",
            "_view_name": "FloatSliderView",
            "continuous_update": true,
            "description": "p2_y",
            "description_tooltip": null,
            "disabled": false,
            "layout": "IPY_MODEL_30050bf7420f42f0a82dae9eb91d62e9",
            "max": 10,
            "min": -10,
            "orientation": "horizontal",
            "readout": true,
            "readout_format": ".2f",
            "step": 0.1,
            "style": "IPY_MODEL_342e0c05e0624d248004de35b0567668",
            "value": 0
          }
        },
        "3bf41dcdcf954e839673f5d1b8944d08": {
          "model_module": "@jupyter-widgets/output",
          "model_name": "OutputModel",
          "model_module_version": "1.0.0",
          "state": {
            "_dom_classes": [],
            "_model_module": "@jupyter-widgets/output",
            "_model_module_version": "1.0.0",
            "_model_name": "OutputModel",
            "_view_count": null,
            "_view_module": "@jupyter-widgets/output",
            "_view_module_version": "1.0.0",
            "_view_name": "OutputView",
            "layout": "IPY_MODEL_23c5760b8bf147dd9be28781f6ec275f",
            "msg_id": "",
            "outputs": [
              {
                "output_type": "display_data",
                "data": {
                  "text/plain": "<Figure size 1000x600 with 1 Axes>",
                  "image/png": "iVBORw0KGgoAAAANSUhEUgAAA0wAAAIjCAYAAAAwSJuMAAAAOXRFWHRTb2Z0d2FyZQBNYXRwbG90bGliIHZlcnNpb24zLjguMCwgaHR0cHM6Ly9tYXRwbG90bGliLm9yZy81sbWrAAAACXBIWXMAAA9hAAAPYQGoP6dpAAB7mElEQVR4nO3deZyN9f/G8deZMauZsS+DYeyMfUu2kJ1ESKWsFYXsImXLliUJWVKWiqIiZR/7UiF7tlHGkl0xgzGLc+7fH/fX/JoYBjPuc2au5+PhkbnnPudccz4ac7nv+33bDMMwEBERERERkTu4WR1ARERERETEWakwiYiIiIiIJEKFSUREREREJBEqTCIiIiIiIolQYRIREREREUmECpOIiIiIiEgiVJhEREREREQSocIkIiIiIiKSCBUmERERERGRRKgwiYi4gBMnTmCz2Zg7d67VUeQRdOjQgeDgYKtjJCo4OJgOHTpYHUNExKmoMImIWGzu3LnYbDZ+++03q6OkmGHDhmGz2eJ/eXh4EBwcTI8ePbh69arV8VK924V7woQJVkcREXE56awOICIi95cvXz5u3ryJh4eH1VEeyfTp0/Hz8+PGjRusW7eOKVOmsHv3brZu3Wp1tMdi1qxZOBwOq2Mk6ujRo7i56d9SRUT+TYVJRMQF2Gw2vL29rY5xT1FRUfj6+t5zn1atWpE1a1YAunTpwosvvsjChQvZsWMHTzzxxOOICYDD4SA2Nvaxv6fOXni9vLysjiAi4nT0z0giIi7gbtcwdejQAT8/P86cOUPz5s3x8/MjW7Zs9OvXD7vdnuDxDoeDSZMmUaJECby9vcmRIwddunThypUrCfZbunQpTZo0IVeuXHh5eVGwYEFGjBhxx/PVqlWLkiVLsmvXLp566il8fX0ZNGjQA39dNWrUAODPP/9MsH379u00bNiQDBky4OvrS82aNdm2bdsdj9+4cSMVK1bE29ubggULMnPmzPjT//7NZrPRvXt35s+fT4kSJfDy8mLVqlUAnDlzhk6dOpEjRw68vLwoUaIEs2fPvuO1pkyZQokSJfD19SVTpkxUrFiRBQsWxH/+2rVr9OrVi+DgYLy8vMiePTv16tVj9+7d8fvc7RqmGzdu0LdvX4KCgvDy8qJo0aJMmDABwzDu+jX88MMPlCxZMj7r7a8jOfz3Gqbbp4tu27aNPn36kC1bNtKnT89zzz3HpUuX7nj8ypUrqVGjBunTp8ff358mTZpw8ODBZMsnImIFHWESEXFhdrudBg0aULlyZSZMmMDatWv58MMPKViwIG+++Wb8fl26dGHu3Ll07NiRHj16EB4eztSpU9mzZw/btm2LP/Ixd+5c/Pz86NOnD35+fqxfv54hQ4YQGRnJ+PHjE7z233//TaNGjXjxxRd55ZVXyJEjxwPnP3HiBACZMmWK37Z+/XoaNWpEhQoVGDp0KG5ubsyZM4enn36aLVu2xB+J2rNnDw0bNiQwMJDhw4djt9t5//33yZYt211fa/369SxatIju3buTNWtWgoODuXDhAk8++WR8GcmWLRsrV67k1VdfJTIykl69egHmqXQ9evSgVatW9OzZk+joaPbv38/27dtp06YNAG+88Qbfffcd3bt3JyQkhL///putW7dy+PBhypcvf9dMhmHw7LPPsmHDBl599VXKli3L6tWr6d+/P2fOnOGjjz5KsP/WrVtZvHgxXbt2xd/fn8mTJ9OyZUtOnTpFlixZHvj9T6q33nqLTJkyMXToUE6cOMGkSZPo3r07CxcujN/nyy+/pH379jRo0ICxY8cSFRXF9OnTqV69Onv27HHqYRciIvdkiIiIpebMmWMAxs6dOxPdJzw83ACMOXPmxG9r3769ARjvv/9+gn3LlStnVKhQIf7jLVu2GIAxf/78BPutWrXqju1RUVF3vHaXLl0MX19fIzo6On5bzZo1DcCYMWNGkr7GoUOHGoBx9OhR49KlS8aJEyeM2bNnGz4+Pka2bNmMGzduGIZhGA6HwyhcuLDRoEEDw+FwJMiVP39+o169evHbmjZtavj6+hpnzpyJ33bs2DEjXbp0xn//egMMNzc34+DBgwm2v/rqq0ZgYKBx+fLlBNtffPFFI0OGDPHvR7NmzYwSJUrc82vMkCGD0a1bt3vu0759eyNfvnzxH//www8GYIwcOTLBfq1atTJsNpvxxx9/JPgaPD09E2zbt2+fARhTpky55+ve/vMzfvz4e+6XL18+o3379vEf3/6zWbdu3QTr0bt3b8Pd3d24evWqYRiGce3aNSNjxozG66+/nuD5zp8/b2TIkOGO7SIirkSn5ImIuLg33ngjwcc1atTg+PHj8R9/++23ZMiQgXr16nH58uX4XxUqVMDPz48NGzbE7+vj4xP/+2vXrnH58mVq1KhBVFQUR44cSfA6Xl5edOzY8YGyFi1alGzZshEcHEynTp0oVKgQK1eujL/2ae/evRw7dow2bdrw999/x2e9ceMGderUYfPmzTgcDux2O2vXrqV58+bkypUr/vkLFSpEo0aN7vraNWvWJCQkJP5jwzD4/vvvadq0KYZhJHhvGjRoQERERPzpdBkzZuSvv/5i586diX5tGTNmZPv27Zw9ezbJ78eKFStwd3enR48eCbb37dsXwzBYuXJlgu1169alYMGC8R+XLl2agICABOudEjp37pzgNMcaNWpgt9s5efIkAKGhoVy9epWXXnopwfvo7u5O5cqVE/wZExFxNTolT0TEhXl7e99xClqmTJkSXJt07NgxIiIiyJ49+12f4+LFi/G/P3jwIO+99x7r168nMjIywX4REREJPs6dOzeenp4PlPf7778nICCAS5cuMXnyZMLDwxOUtGPHjgHQvn37RJ8jIiKC6Ohobt68SaFChe74/N22AeTPnz/Bx5cuXeLq1at8+umnfPrpp3d9zO33ZsCAAaxdu5YnnniCQoUKUb9+fdq0aUO1atXi9x03bhzt27cnKCiIChUq0LhxY9q1a0eBAgUS/VpOnjxJrly58Pf3T7C9ePHi8Z//t7x5897xHP9d75Tw39e9fQrl7de9vW5PP/30XR8fEBCQgulERFKWCpOIiAtzd3e/7z4Oh4Ps2bMzf/78u37+duG6evUqNWvWJCAggPfff5+CBQvi7e3N7t27GTBgwB3jsP9ddJLqqaeeip+S17RpU0qVKsXLL7/Mrl27cHNzi3+N8ePHU7Zs2bs+h5+fH9HR0Q/82v/Ne/u1XnnllUQLWunSpQGzwBw9epRly5axatUqvv/+e6ZNm8aQIUMYPnw4AK1bt6ZGjRosWbKENWvWMH78eMaOHcvixYsTPer1oBJbb+M/AyKS2/1e9/Z7+eWXX5IzZ8479kuXTj9uiIjr0ncwEZFUrmDBgqxdu5Zq1ards+Rs3LiRv//+m8WLF/PUU0/Fbw8PD0+RXH5+fgwdOpSOHTuyaNEiXnzxxfjTzQICAqhbt26ij82ePTve3t788ccfd3zubtvuJlu2bPj7+2O32+/5WrelT5+eF154gRdeeIHY2FhatGjBqFGjeOedd+LHkwcGBtK1a1e6du3KxYsXKV++PKNGjUq0MOXLl4+1a9dy7dq1BEeZbp/+mC9fviR9LVa7vW7Zs2dP0nspIuJKdA2TiEgq17p1a+x2OyNGjLjjc7du3eLq1avA/x9F+PfRitjYWKZNm5Zi2V5++WXy5MnD2LFjAahQoQIFCxZkwoQJXL9+/Y79b4+ydnd3p27duvzwww8Jrhn6448/7rjuJzHu7u60bNmS77//nt9//z3R1wJzIuC/eXp6EhISgmEYxMXFYbfb7zhlMXv27OTKlYuYmJhEMzRu3Bi73c7UqVMTbP/oo4+w2WzJdmQqpTVo0ICAgABGjx5NXFzcHZ+/2whyERFXoSNMIiJOYvbs2Xe9p07Pnj0f6Xlr1qxJly5dGDNmDHv37qV+/fp4eHhw7Ngxvv32Wz7++GNatWpF1apVyZQpE+3bt6dHjx7YbDa+/PLLFD3dy8PDg549e9K/f39WrVpFw4YN+eyzz2jUqBElSpSgY8eO5M6dmzNnzrBhwwYCAgL46aefABg2bBhr1qyhWrVqvPnmm/HFo2TJkuzduzdJr//BBx+wYcMGKleuzOuvv05ISAj//PMPu3fvZu3atfzzzz8A1K9fn5w5c1KtWjVy5MjB4cOHmTp1Kk2aNMHf35+rV6+SJ08eWrVqRZkyZfDz82Pt2rXs3LmTDz/8MNHXb9q0KbVr1+bdd9/lxIkTlClThjVr1rB06VJ69eqVYMBDcli3bt1dT2ds3rw5JUuWfOjnDQgIYPr06bRt25by5cvz4osvki1bNk6dOsXy5cupVq3aHaVQRMRVqDCJiDiJ6dOn33X7v28k+rBmzJhBhQoVmDlzJoMGDSJdunQEBwfzyiuvxA8uyJIlC8uWLaNv37689957ZMqUiVdeeYU6derQoEGDR86QmM6dOzNy5Eg++OADGjZsSK1atfjll18YMWIEU6dO5fr16+TMmZPKlSvTpUuX+MdVqFCBlStX0q9fPwYPHkxQUBDvv/8+hw8fvmOiX2Jy5MjBjh07eP/991m8eDHTpk0jS5YslChRIv6oF5j3sZo/fz4TJ07k+vXr5MmThx49evDee+8B4OvrS9euXVmzZg2LFy/G4XBQqFAhpk2bluB+WP/l5ubGjz/+yJAhQ1i4cCFz5swhODiY8ePH07dv34d8RxO3atWqu5by4ODgRypMAG3atCFXrlx88MEHjB8/npiYGHLnzk2NGjUeeJqiiIgzsRkpfaWoiIjIY9S8eXMOHjwYP7lNRETkUegaJhERcVk3b95M8PGxY8dYsWIFtWrVsiaQiIikOjrCJCIiLiswMJAOHTpQoEABTp48yfTp04mJiWHPnj0ULlzY6ngiIpIK6BomERFxWQ0bNuTrr7/m/PnzeHl5UaVKFUaPHq2yJCIiyUZHmERERERERBKha5hEREREREQSocIkIiIiIiKSiDR1DZPD4eDs2bP4+/tjs9msjiMiIiIiIhYxDINr166RK1cu3NwSP46UpgrT2bNnCQoKsjqGiIiIiIg4idOnT5MnT55EP5+mCpO/vz9gvikBAQEWp0l74uLiWLNmDfXr18fDw8PqOPI/WhfnpHVxXlob56R1cU5aF+ekdTFFRkYSFBQU3xESk6YK0+3T8AICAlSYLBAXF4evry8BAQFp+n9OZ6N1cU5aF+eltXFOWhfnpHVxTlqXhO53qY6GPoiIiIiIiCRChUlERERERCQRKkwiIiIiIiKJSFPXMImIiMjjYxgGt27dwm63p/hrxcXFkS5dOqKjox/L60nSaF2cU1pZF3d3d9KlS/fItxNSYRIREZFkFxsby7lz54iKinosr2cYBjlz5uT06dO616IT0bo4p7S0Lr6+vgQGBuLp6fnQz6HCJCIiIsnK4XAQHh6Ou7s7uXLlwtPTM8V/KHM4HFy/fh0/P7973oBSHi+ti3NKC+tiGAaxsbFcunSJ8PBwChcu/NBfqwqTiIiIJKvY2FgcDgdBQUH4+vo+ltd0OBzExsbi7e2dan8AdEVaF+eUVtbFx8cHDw8PTp48Gf/1PozU+w6JiIiIpVLzD2Ii4hqS4/uQvpOJiIiIiIgkQoVJREREREQkESpMIiIiIqnYsGHDKFu2rNUxRFyWCpOIiIgI0KFDB2w2GzabDQ8PD3LkyEG9evWYPXs2DofjgZ5r7ty5ZMyYMVly1apVKz6Xt7c3ISEhTJs2LcmP79evH+vWrXug1wwODmbSpEkPmFQkdVJhEhEREedkt8PGjfD11+Z/H8MNNhs2bMi5c+c4ceIEK1eupHbt2vTs2ZNnnnmGW7dupfjrJ+b111/n3LlzHDp0iNatW9OtWze+/vrrJD3Wz8+PLFmypHBCkdRLhUlEREScz+LFEBwMtWtDmzbmf4ODze0pyMvLi5w5c5I7d27Kly/PoEGDWLp0KStXrmTu3Lnx+02cOJFSpUqRPn16goKC6Nq1K9evXwdg48aNdOzYkYiIiPgjQ8OGDQPgyy+/pGLFivj7+5MzZ07atGnDxYsX75vL19eXnDlzUqBAAYYNG0bhwoX58ccfATh16hTNmjXDz8+PgIAAWrduzYULF+If+99T8jp06EDz5s2ZMGECgYGBZMmShW7duhEXFweYR7ROnjxJ79694/MDnDx5kqZNm5IpUybSp09PiRIlWLFixaO83SIuQYVJREREnMvixdCqFfz1V8LtZ86Y21O4NP3X008/TZkyZVj8r9d1c3Nj8uTJHDx4kHnz5rF+/XrefvttAKpWrcqkSZMICAjg3LlznDt3jn79+gEQFxfHiBEj2LdvHz/88AMnTpygQ4cOD5zJx8cn/n5XzZo1459//mHTpk2EhoZy/PhxXnjhhXs+fsOGDfz5559s2LCBefPmMXfu3PhCuHjxYvLkycP7778fnx+gW7duxMTEsHnzZg4cOMDYsWPx8/N74OwirkY3rhURERHnYbdDz55gGHd+zjDAZoNevaBZM3B3f2yxihUrxv79++M/7tWrV/zvg4ODGTlyJG+88QbTpk3D09OTDBkyYLPZyJkzZ4Ln6dSpU/zvCxQowOTJk6lUqRLXr19PUvmw2+18/fXX7N+/n86dO7Nu3ToOHDhAeHg4QUFBAHzxxReUKFGCnTt3UqlSpbs+T6ZMmZg6dSru7u4UK1aMJk2asG7dOl5//XUyZ86Mu7t7/FGw206dOkXLli0pVapUfH6RtEBHmCzyxRewc6fVKURERJzMli13Hln6N8OA06fN/R4jwzDiT00DWLt2LXXq1CF37tz4+/vTtm1b/v77b6Kiou75PLt27aJp06bkzZsXf39/atasCZhl5F6mTZuGn58fPj4+vP766/Tu3Zs333yTw4cPExQUFF+WAEJCQsiYMSOHDx9O9PlKlCiB+78KZ2Bg4H1PDezRowcjR46kWrVqDB06NEGBFEnNVJgscPIkvPEGVK4Mr70GSTh1WUREJG343+lfybZfMjl8+DD58+cH4MSJEzzzzDOULl2a77//nl27dvHJJ58AEBsbm+hz3LhxgwYNGhAQEMD8+fPZuXMnS5Ysue/jAF5++WX27t1LeHg4N27cYOLEibi5PfyPcR4eHgk+ttls950E+Nprr3H8+HHatm3LgQMHqFixIlOmTHnoDCKuQoXJAt4edlpVP49hwOefQ5EiBpMng4XDd0RERJxDYGDy7pcM1q9fz4EDB2jZsiVgHiVyOBx8+OGHPPnkkxQpUoSzZ88meIynpyf2/0z1O3LkCH///TcffPABNWrUoFixYkka+ACQIUMGChUqRO7cuRMUpeLFi3P69GlOnz4dv+3QoUNcvXqVkJCQh/2S75ofICgoiDfeeIPFixfTt29fZs2a9dCvIeIqVJget8WLyVE5mC9CA9lKNcqxm4gIGz17QtmysGGD1QFFREQsVKMG5MljXqt0NzYbBAWZ+6WAmJgYzp8/z5kzZ9i9ezejR4+mWbNmPPPMM7Rr1w6AQoUKERcXx5QpUzh+/DhffvklM2bMSPA8wcHBXL9+nXXr1nH58mWioqLImzcvnp6e8Y/78ccfGTFixCPlrVu3LqVKleLll19m9+7d7Nixg3bt2lGzZk0qVqz40M8bHBzM5s2bOXPmDJcvXwbM67ZWr15NeHg4u3fvZsOGDRQvXvyR8ou4AhWmx+k/U3+q8TM7qcQM3iALlzl4EJ5+Glq3hvucyiwiIpI6ubvDxx+bv/9vabr98aRJKTbwYdWqVQQGBhIcHEzDhg3ZsGEDkydPZunSpfHX/JQpU4aJEycyduxYSpYsyfz58xkzZkyC56latSpvvPEGL7zwAtmyZWPcuHFky5aNuXPn8u233xISEsIHH3zAhAkTHimvzWZj6dKlZMqUiaeeeoq6detSoEABFi5c+EjP+/7773PixAkKFixItmzZAHPgRLdu3ShevDgNGzakSJEiD3QDXRFXZTOMu42hSZ0iIyPJkCEDERERBAQEPN4Xt9vN+0ckciHrP2RmsN9EZkS1w+Gw4eMDgwZBv37g7f14o6aUuLg4VqxYQePGje84d1qso3VxTloX56W1ub/o6GjCw8PJnz8/3g/7l9jixea0vH//vRkUZJalFi3u2N3hcBAZGUlAQMAjXdsjyUvr4pzS0rrc6/tRUrtB6n6HnMl9pv5k5h8+ud6B3TN/o0YNuHkTBg+GkBBYuvTu01VFRERSrRYt4MQJ81z1BQvM/4aH37UsiYikJBWmxyWJ03zKpP+DTZvMvxty5zb/bmjeHBo1giNHUjaiiIiIU3F3h1q14KWXzP8+xvsuiYjcpsL0uDzA1B+bzfy74cgReOcd8PSE1auhVCno3x8iI1M2qoiIiIiImFSYHpeHmPrj5wejR8PBg9CkiTl2fMIEKFrUvPHtfW6XICIiIiIij0iF6XF5hKk/hQrBsmXmr0KF4Px5aN8eqleH3btTNraIiIiISFqmwvQ4tWgB331nXpz0b3nymNvvcyFrkybw++8wZgykTw+//AIVK0KXLvC/WySIiIiIiEgyUmF63B5x6o+XFwwcCEePQps25vS8Tz+FwoVh6lTztD0REREREUkeKkxWSIapP7lzw/z5sHkzlCkDV6/CW29B+fKwaVNyBxYRERERSZtUmFxcjRqwaxd88glkygQHDpgd7MUX73nbJxERERERSQKXKUzTp0+ndOnSBAQEEBAQQJUqVVi5cqXVsZyCuzt07QrHjsEbb5gzJBYuNKfpjR4N0dFWJxQRERGrnDhxApvNxt69ey3NERwczKRJkyzNIPIwXKYw5cmThw8++IBdu3bx22+/8fTTT9OsWTMOHjxodTSnkSULTJ9uHnGqVg2iouDdd6FkSXPCnoiIiCSuQ4cO2Gw2bDYbHh4e5M+fn7fffptoF/+Xx6CgIM6dO0fJkiVT9HWGDRtG2bJlE/38zp076dy5c4pmcGanTp2iSZMm+Pr6kj17dvr378+t+1x8vnv3burVq0fGjBnJkiULnTt35vr16wn2WbduHVWrVsXf35+cOXMyYMCA+z5vSrPb7QwePJj8+fPj4+NDwYIFGTFiBIZh3PNxMTExvPvuu+TLlw8vLy+Cg4OZPXt2gn2+/fZbihUrhre3N6VKlWLFihUp+aUALlSYmjZtSuPGjSlcuDBFihRh1KhR+Pn58euvv1odzemUKwdbtsBXX5n3y/3zT2ja1JyyFxZmdToRERHn1bBhQ86dO8fx48f56KOPmDlzJkOHDk3R17Tb7ThS8OaK7u7u5MyZk3Tp0qXYayRFtmzZ8PX1tTSDVex2O02aNCE2Npaff/6ZefPmMXfuXIYMGZLoY86ePUvdunUpVKgQ27dvZ9WqVRw8eJAOHTrE77Nv3z4aN25Mw4YN2bNnDwsXLuTHH39k4MCByZq/Vq1azJ07N8n7jx07lunTpzN16lQOHz7M2LFjGTduHFOmTLnn41q3bs26dev4/PPPOXr0KF9//TVFixaN//zPP//MSy+9xKuvvsqePXto3rw5zZs35/fff3/YLy1JrP0/5yHZ7Xa+/fZbbty4QZUqVRLdLyYmhpiYmPiPIyMjAYiLiyMuLi7Fc1qtdWto1AhGj3Zj8mQ3VqywERpq0LOng3feceDv/3jz3H7P08J770q0Ls5J6+K8tDb3FxcXh2EYOByO+CJgGOaZDynFMAxu3AA3NwOb7f/Lh69v4veMv9tzeHp6kj17dgBy585NnTp1CA0NZcyYMQA4HA7GjRvHrFmzOH/+PEWKFOHdd9+lVatW8c/z448/0r9/f06fPk2VKlVo164dnTp14u+//yZjxozMnTuXPn36MHfuXAYNGkRYWBhhYWEEBgby3nvv8c0333D16lVKlizJmDFjqFWrFgAnT57krbfeYtu2bcTGxhIcHMzYsWNp3LgxV65c4a233iI0NJTr16+TJ08eBg4cSMeOHTlx4gQFCxZk165d8UeANm3axIABA9i3bx+ZM2emXbt2jBgxIr5UPf3005QqVQpvb28+//xzPD096dKlyz3L4+2jB/8uf7e3GYZBcHAwPXv2pGfPnoBZ5GbOnMmKFStYs2YNuXPnZvz48Tz77LPxj//99995++232bp1K+nTp6devXpMnDiRrFmzJmlNv/jiC/r27ctff/2Fl5dX/PbnnnsOf39/vvjiiyQ9z6NatWoVhw4dYs2aNeTIkYPSpUszfPhw3nnnHYYMGYKnp+cdj/nxxx/x8PBgypQpuLmZxzimTZtG2bJlCQsLo1ChQnzzzTeULl2a9957D4ACBQrwwQcf8OKLLzJ48GD8/f159dVX2bVrF9u3b8fLy4vY2FiqVKlC0aJFmT9/fpLL+r//f76fbdu28eyzz9KoUSMA8ubNy4IFC9i+fXuiz7Fq1So2bdrEH3/8QebMmeMfd/u1ASZNmkSDBg3o27cvAMOHDyc0NJQpU6Ywffr0RHMbhkFcXBzu/xm0ltTv4y5VmA4cOECVKlWIjo7Gz8+PJUuWEBISkuj+Y8aMYfjw4XdsX7NmTZr6F44aNaBAgfR8/nkpdu/OwYQJ7syeHUv79od46qm/kvwXSXIJDQ19vC8oSaJ1cU5aF+eltUlcunTpyJkzJ9evXyc2NhaAGzcgT56MKfzKdz7/X39dJX36pD06Li6OW7duxf8D66FDh/j5558JCgqK3zZhwgS+/fZbJkyYQMGCBfn5559p164d6dOnp1q1apw8eZLWrVvTpUsX2rVrx/79++N/mL127Rpubm5ER0cTFRXFmDFj+Oijj8icOTPe3t688cYbHDlyhFmzZhEYGMiyZcto3Lgx27Zto2DBgrzxxhvExcWxbNky0qdPz5EjR7DZbERGRjJw4EB+//13Fi1aRJYsWTh+/Dg3b94kMjIy/hSuGzduEBkZydmzZ3nmmWd46aWXmDp1KseOHaNnz57YbLb4IxO3bt1i3rx5dOvWjdDQUHbu3EnXrl0pW7YstWvXvuv7FxMTg91uj3+v/u3atWs4HA6io6MTfH748OEMHz6cIUOG8Omnn9K2bVv2799PpkyZiIiIoE6dOrRt25b333+f6Ohohg0bRqtWrfjxxx8BWLBgAd26dePKlSt3zdSgQQN69uzJwoULad68OQCXLl1ixYoVLF68+K5ZAapUqcLp06cT/bPy5JNP8t133yX6+f/atGkTISEh+Pj4xL9mtWrViIyMZMeOHZQuXfqOx0RGRpIuXboEp+DZ7XYA1q5dS/bs2bl27Rrp0qVL8HUYhkF0dDRbtmyhevXqjBgxgho1atC3b19Gjx7N4MGD+eeffxg3bhzXrl1LUv5bt27dsXb3Ur58eebNm8fu3bspVKgQBw4cYOvWrYwcOTLR5/j+++8pW7YsI0eOZNGiRfj6+tKoUSMGDRqEj48PYB5h6tatW4LnqFmzJsuXL0/0eWNjY7l58yabN2++41TFqCT+K45LFaaiRYuyd+9eIiIi+O6772jfvn38H8C7eeedd+jTp0/8x5GRkQQFBVG/fn0CAgIeV2yn8dprsHz5Lfr1c+f4cR8++qgC27eX46OP7JQrl/KvHxcXR2hoKPXq1cPDwyPlX1CSROvinLQuzktrc3/R0dGcPn0aPz8/vL29gYe6g0ayCAgISHJh8vDwYPXq1eTJk4dbt24RExODm5sbU6ZMISAggJiYGD766CPWrFkTf4ZL6dKl2bVrF1999RWNGjViwYIFFC1alI8//hiAChUqcPz4cUaPHo2/vz8BAQF4e3sTFxfHjBkzKFOmDGBe3zJ//nxOnDhBrly5AChTpgybNm3iu+++Y9SoUZw7d44WLVokeO3bzp8/T4UKFahZsyZAguuV/Pz8AEifPj0BAQGMGzeOoKAgZs6cic1mo2LFily9epWBAwcycuRI3NzcSJcuHWXKlGHUqFEAlCtXjtmzZ/Prr7/SrFmzu75/Xl5euLu7J/gZyzAMrl27hr+/P25ubnh7eyf4fMeOHenUqRMA48ePZ+bMmRw+fJiGDRsyZcoUypUrx4QJE+L3nzt3Lvny5Ys/upcjRw6KFi2a6M91AQEBtGnThoULF9KuXTsAPv/8c/LmzUvjxo2xJfKvxitWrLjn0QcfH58H+lnyypUrBAYGJnhMwYIFAbNM3u25GjVqxLvvvsunn35Kjx49uHHjRvx6XL16lYCAAJ555hmmT5/O8uXLad26NefPn2fixIkARERExA9L++qrr6hduzZZsmRhxowZrF27loCAAPz9/RN9D/4tXbp0d6zdvQwdOpTY2FieeOIJ3N3dsdvtjBw5ktdeey3Rx/z111/8+uuvpE+fnsWLF3P58mW6d+/OtWvX4q9junjxInnz5k2QI2/evFy6dCnRbNHR0fj4+PDUU0/Ffz+6LakF0KUKk6enJ4UKFQLMb0A7d+7k448/ZubMmXfd38vLK8Hh19s8PDzS7F9yzz1nnqY3cSKMGgU//+xGlSpudO4MI0eagyNSWlp+/52Z1sU5aV2cl9YmcXa7HZvNhpubW/ypRH5+8J9r1ZOVw+EgMjKSgICA+NcE8PV1S/KZFDabjdq1azN9+nRu3LjBRx99RLp06Xj++ecBOH78OFFRUTRo0CDB42JjYylXrhxubm6EhYVRqVKlBBkqV64MEP9+uLm54enpSdmyZeN/WD148CB2u51ixYoleO6YmBiyZMmCm5sbPXr04M033yQ0NJS6devSsmXL+NLUtWtXWrZsyZ49e6hfvz7NmzenatWq8a/779c/cuQIVapUSXB6UvXq1bl+/Tpnz56NPw2qdOnSCb6OwMBALl26lGDbf9+/f78e/P+pVLc/d/vPxW1lypSJ//h2obx8+TJubm7s37+fjRs33vUH4fDwcIoVK0bLli1p2bLlXfPc1rlzZypVqsS5c+fInTs38+bNo0OHDnecnvVv+fPnv+dz3kujRo3YsmULAPny5ePgwYPxw0T+/bX/d13+q1SpUsybN48+ffowaNAg3N3d6dGjBzly5MDd3R03NzcaNmzI+PHj6dq1K+3bt8fLy4vBgwezZcsW0qVLF/+81apVo1+/fowcOZIBAwZQo0YNIiMj78h02+jRoxk9enT8xzdv3uTXX3+lR48e8dsOHToU/2flvxYtWsSCBQtYsGABJUqUYO/evfTq1YvcuXPTvn37uz7GMAxsNhsLFiwgQ4YMgPn/VqtWrZg+fXr8Uab/vl93+3P3b25ubvGDXP77PTup38NdqjD9l8PhSHCNkiSNtzcMGgRt20L//uYI8hkzYNEiszR17mzdvwSKiEjqZLOR5CM9D8PhALvdfI1Efm5KkvTp08f/4+zs2bMpU6YMn3/+Oa+++mr8qVHLly8nd+7cCR53t3+gvRcfH58E/7J//fp13N3d2bVr1x0/yN8+QvTaa6/RoEEDli9fzpo1axgzZgwffvghb731Fo0aNeLkyZOsWLGC0NBQ6tSpQ7du3RIcnXlQ//1h0mazJftwinu9xvXr12natCljx46943GBgYFJfo1y5cpRpkwZvvjiC+rXr8/BgwdZvnz5PR9TokQJTp48mejna9SokejtbT777DNu3rwJ/P/XlzNnTnbs2JFgvwsXLsR/LjFt2rShTZs2XLhwgfTp02Oz2Zg4cSIFChSI36dPnz707t2bc+fOkSlTJk6cOME777yTYB+Hw8G2bdtwd3fnjz/+uOfXDvDGG2/QunXr+I9ffvllWrZsSYsWLeK33T4Sejf9+/dn4MCBvPjii4BZ/k6ePMmYMWMSLUyBgYHkzp07viwBFC9eHMMw+OuvvyhcuDA5c+aMf99uu3Dhwj3fw+TgMoXpnXfeoVGjRuTNm5dr166xYMECNm7cyOrVq62O5rKCguCbb+DNN+Gtt8yb3nbtCjNnwpQp5rVPIiIiaZWbmxuDBg2iT58+tGnThpCQELy8vDh16lT8qW//VbRo0TvGHO/cufO+r1WuXDnsdjsXL16kxj3+Ag4KCuKNN97gjTfe4J133mHWrFm89dZbgDmFrn379rRv354aNWrQv3//uxam4sWL8/3338f/iz6YF+n7+/uTJ0+e+2Z9XMqXL8/3339PcHDwI0/4e+2115g0aRJnzpyhbt26BAUF3XP/pJySl5j/lmkwr4kaNWoUFy9ejB8qEhoaSkBAwD2vx78tR44cgFnivb29qVevXoLP22y2+ALz9ddfExQURPny5eM/P378eI4cOcKmTZto0KABc+bMueeRucyZM8cPXrj99WbPnj3+HxPuJyoq6o4jPu7u7vcs3NWqVePbb7/l+vXr8f9IEBYWhpubW/yfyypVqrBu3Tp69eoV/7jQ0NB7DoFLDi4zVvzixYu0a9eOokWLUqdOHXbu3Mnq1avv+AMjD65mTdi92yxJGTPCvn3w1FPw8stw5ozV6URERKzz/PPP4+7uzieffIK/vz/9+vWjd+/ezJs3jz///JPdu3czZcoU5s2bB0CXLl04cuQIAwYMICwsjEWLFsWPY77XtSJFihTh5Zdfpl27dixevJjw8HB27NjBmDFj4o+G9OrVi9WrVxMeHs7u3bvZsGEDxYsXB2DIkCEsXbqUP/74g4MHD7Js2bL4z/1X165dOX36NG+99RZHjhxh6dKlDB06lD59+iR6WlNS3bx5k7179yb4FR4e/lDP1a1bN/755x9eeukldu7cyZ9//snq1avp2LFj/PCDJUuW3HEa4920adOGv/76i1mzZsVfM3Uv+fLlo1ChQon+ulspupf69esTEhJC27Zt2bdvH6tXr+a9996jW7du8Ucnd+zYQbFixTjzrx++pk6dyu7duwkLC+OTTz6he/fujBkzhowZM8bvM378eA4cOMDBgwcZMWIEH3zwAZMnT44/Urlnzx6GDBnCZ599RrVq1Zg4cSK9e/fmxIkTD/Q1PIimTZsyatQoli9fzokTJ1iyZAkTJ07kueeei9/nnXfeib+uDMw1ypIlCx07duTQoUNs3ryZ/v3706lTp/iC2rNnT1atWsWHH37IkSNHGDZsGL/99hvdu3dPsa8FACMNiYiIMAAjIiLC6ihO69Ilw+jc2TBsNsMAw0if3jA++MAwoqMf/bljY2ONH374wYiNjX30J5Nko3VxTloX56W1ub+bN28ahw4dMm7evPnYXtNutxtXrlwx7Hb7Qz9H+/btjWbNmt2xfcyYMUa2bNmM69evGw6Hw5g0aZJRtGhRw8PDw8iWLZvRoEEDY9OmTfH7L1261ChUqJDh5eVl1KpVy5g+fboBxL8fc+bMMTJkyHDH68TGxhpDhgwxgoODDQ8PDyMwMNB47rnnjP379xuGYRjdu3c3ChYsaHh5eRnZsmUz2rZta1y+fNkwDMMYMWKEUbx4ccPHx8fInDmz0axZM+P48eOGYRhGeHi4ARh79uyJf62NGzcalSpVMjw9PY2cOXMaAwYMMOLi4uI/X7NmTaNnz54J8jVr1sxo3759ou/f0KFDDeCOXzVr1jTsdruRL18+46OPPorfHzCWLFmS4DkyZMhgzJkzJ/7jsLAw47nnnjMyZsxo+Pj4GMWKFTN69eplOByO+PcyqT/Otm3b1sicObMRnRw/1DyEEydOGI0aNTJ8fHyMrFmzGn379k3wnm/YsMEAjPDw8PhttzN7enoapUuXNr744os7nrd27dpGhgwZDG9vb6Ny5crGihUr4j938+ZNIyQkxOjcuXOCxzRt2tR44oknkvx9rGbNmgnW5X4iIyONnj17Gnnz5jW8vb2NAgUKGO+++64RExMTv0/79u2NmjVrJnjc4cOHjbp16xo+Pj5Gnjx5jD59+hhRUVEJ9lm0aJFRpEgRw9PT0yhRooSxfPnye2a51/ejpHYDm2Hc55a7qUhkZCQZMmSInxoiidu1yzxN75dfzI8LF4ZJk6Bx44d/zri4OFasWEHjxo11obQT0bo4J62L89La3F90dDTh4eHkz5//jqlUKSWxoQ/OYNSoUcyYMeOeY6pTK2dalzp16lCiRAkmT55saQ5n4EzrktLu9f0oqd0gdb9D8tAqVICtW+GLLyBnTjh2DJo0gaZNIQnXCoqIiKRZ06ZNY+fOnRw/fpwvv/yS8ePHJ3qhu6S8K1eusGTJEjZu3Ei3bt2sjiMuSIVJEuXmZk7SO3oU+vWDdOlg2TIoUcKcspeS42FFRERc1bFjx2jWrBkhISGMGDGCvn37MmzYMKtjpVnlypWjQ4cOjB07lqJFi1odR1yQCpPcV0AAjB9vTtGrXx9iY2HMGChWDL7+GtLOSZ0iIiL399FHH3H27Fmio6MJCwtj8ODBjzzlTR7eiRMniIiIoF+/flZHERelwiRJVqwYrFoFP/wA+fObE/TatDGn7O3bZ3U6EREREZHkp8IkD8Rmg2bN4OBBGDECfHxgyxYoXx66dYN//rE6oYiIOIs0NFdKRJxUcnwfUmGSh+LjA++9B0eOwPPPm3dYnzYNihQxb3z7v9sjiIhIGnR7emBUVJTFSUQkrbv9fehRpprqhFp5JHnzwqJFsH499OhhHnl64w349FPzRrhVq1qdUEREHjd3d3cyZszIxYsXAfD19b3nTVuTg8PhIDY2lujo6FQ/JtmVaF2cU1pYF8MwiIqK4uLFi2TMmDH+Rr4PQ4VJksXTT8OePTB9OgwZArt3Q7Vq5pS9sWMhMNDqhCIi8jjlzJkTIL40pTTDMLh58yY+Pj4pXs4k6bQuziktrUvGjBnjvx89LBUmSTYeHuZRphdfNMeOz54NX34JS5aYJaprV6sTiojI42Kz2QgMDCR79uzExcWl+OvFxcWxefNmnnrqKd1Q2IloXZxTWlkXDw+PRzqydJsKkyS77Nnhs8+gSxfo3h127IC334bPPkvHSy9lo3FjqxOKiMjj4u7uniw/sCTldW7duoW3t3eq/gHQ1WhdnJPW5cGkzpMWxSlUqgS//AJz5pglKizMxvDhVWnZ0p3jx61OJyIiIiJyfypMkqLc3KBDBwgLg5497bi7O/jpJzdCQmDwYNAAJRERERFxZipM8lhkyADjxzuYNGkjTz/tICYGRo40b4a7aBHoVh0iIiIi4oxUmOSxCgq6xsqVdr7/HvLlg9On4YUXoE4d+P13q9OJiIiIiCSkwiSPnc0GLVrAoUMwbBh4e8OGDVC2LPTsCVevWhxQREREROR/VJjEMr6+MHQoHD4MLVuC3Q6TJ0PhwuaUPYfD6oQiIiIiktapMInlgoPhu+8gNBSKF4fLl+H116FyZfj1V6vTiYiIiEhapsIkTqNuXdi3DyZOhIAA+O03qFLFnLJ3/rzV6UREREQkLVJhEqfi4QG9e5tjyDt2NLfNmwdFiphF6jHcLF5EREREJJ4KkzilHDlg9mzzlLxKleDaNejbF0qXNk/dExERERF5HFSYxKndvo7ps88gWzY4cgTq1zen7IWHW51ORERERFI7FSZxem5u8Oqr5ml6PXuCuzssWQIhIeaUvagoqxOKiIiISGqlwiQuI2NGmDQJ9u6F2rUhOhref9+crPfdd2AYFgcUERERkVRHhUlcTsmSsG4dLFoEQUFw6hQ8/zzUqwcHD1qdTkRERERSExUmcUk2m1mSjhyBwYPBy8ssUWXKmFP2rl61OqGIiIiIpAYqTOLSfH3N0/IOHYJmzcBuN0/bK1rUnLLncFidUERERERcmQqTpAoFCsAPP8CqVWZZunjRHBRRpQrs2GF1OhERERFxVSpMkqo0aAD798P48eDnZ5alypXN8nThgtXpRERERMTVqDBJquPpCf36mWPI27Y1t82eDUWKmKfrxcVZGk9EREREXIgKk6RagYHwxRewbRuULw+RkeZAiHLlYP16q9OJiIiIiCtQYZJUr2pV89S8mTMhSxZz9HidOuaUvZMnrU4nIiIiIs5MhUnSBHd36NwZjh2D7t3Bzc282W3x4uaUvZs3rU4oIiIiIs5IhUnSlEyZYMoU2LMHatY0i9LQoRASAkuWgGFYnVBEREREnIkKk6RJpUvDhg3wzTeQJw+cOAEtWkDDhubNcEVEREREQIVJ0jCbDV54wSxI775rTtdbswZKlTKn7EVGWp1QRERERKymwiRpXvr0MHIkHDoETZvCrVvw4YfmGPJ588DhsDqhiIiIiFhFhUnkfwoWhB9/hBUroHBh80a3HTpAtWqwa5fV6URERETECipMIv/RqBH8/juMHQt+fvDrr1Cpkjll79Ilq9OJiIiIyOOkwiRyF56e8PbbcPQovPyyOT1v1izzNL0pU8zT9kREREQk9VNhErmHXLngq69gyxYoWxauXoUePaB8edi40eJwIiIiIpLiVJhEkqB6dfjtN5g+HTJnhgMHoHZtc8re6dNWpxMRERGRlKLCJJJE7u7wxhsQFgZdu4KbGyxaBMWKwahREB1tdUIRERERSW4qTCIPKEsW+OQTc3Je9eoQFQXvvQclSphT9gzD6oQiIiIiklxUmEQeUtmysHkzzJ9vXut0/Dg0awaNG5tHoURERETE9akwiTwCmw3atDGn6Q0cCB4esGoVlCwJAwbAtWtWJxQRERGRR6HCJJIM/PxgzBg4eNA8whQXB+PGQdGi5pQ9naYnIiIi4ppUmESSUeHCsHw5LFsGhQrBuXPQtq15rdPu3VanExEREZEHpcIkkgKaNIHffzePOqVPDz//DBUrmlP2/v7b6nQiIiIiklQqTCIpxMvLvK7pyBF46SXztLyZM82jUNOmwa1bVicUERERkftxmcI0ZswYKlWqhL+/P9mzZ6d58+YcPXrU6lgi95UnDyxYAJs2QenScOUKdOtmHnHavNnqdCIiIiJyLy5TmDZt2kS3bt349ddfCQ0NJS4ujvr163Pjxg2ro4kkyVNPmfdu+uQTyJQJ9u2DmjXNKXt//WV1OhERERG5G5cpTKtWraJDhw6UKFGCMmXKMHfuXE6dOsWuXbusjiaSZOnSQdeu5n2aunQxx5J//TUUK2Ze7xQTY3VCEREREfm3dFYHeFgREREAZM6cOdF9YmJiiPnXT6CRkZEAxMXFERcXl7IB5Q6333O995AhA0yZAp06Qe/e7vz8sxuDBsHs2QYTJthp3PjxzSHXujgnrYvz0to4J62Lc9K6OCetiympX7/NMFzvDjEOh4Nnn32Wq1evsnXr1kT3GzZsGMOHD79j+4IFC/D19U3JiCJJZhiwaVMe5s0rwZUr3gBUrHieTp1+J1cunXIqIiIikhKioqJo06YNERERBAQEJLqfSxamN998k5UrV7J161by5MmT6H53O8IUFBTE5cuX7/mmSMqIi4sjNDSUevXq4eHhYXUcp3PtGowa5caUKW7Exdnw9DTo2dPBO+848PNLudfVujgnrYvz0to4J62Lc9K6OCetiykyMpKsWbPetzC53Cl53bt3Z9myZWzevPmeZQnAy8sLLy+vO7Z7eHik6T8cVtP7f3eZM8OHH0LnztCrF6xaZWP8eHfmz3dn/HhzNLnNlnKvr3VxTloX56W1cU5aF+ekdXFOaX1dkvq1u8zQB8Mw6N69O0uWLGH9+vXkz5/f6kgiKaJoUVixApYuhQIF4OxZePllc6Levn1WpxMRERFJW1ymMHXr1o2vvvqKBQsW4O/vz/nz5zl//jw3b960OppIsrPZ4Nln4eBBGDkSfHxgyxYoX96csvf331YnFBEREUkbXKYwTZ8+nYiICGrVqkVgYGD8r4ULF1odTSTFeHvDu+/C0aPQujU4HDB9OhQpAjNmgN1udUIRERGR1M1lCpNhGHf91aFDB6ujiaS4oCBYuBA2bICSJeGff+DNN6FiRbjHoEgREREReUQuU5hEBGrVgj17YPJkyJgR9u6FGjXglVfMa51EREREJHmpMIm4mHTp4K23ICwMXnvNvN5p/nzzNL2xY+Ffk/RFRERE5BGpMIm4qGzZYNYs2LEDnnwSbtyAgQOhVClYudLqdCIiIiKpgwqTiIurWBG2bYO5cyFHDjh2DBo3Nqfs/fmn1elEREREXJsKk0gq4OYG7dub0/T69jVP2/vpJwgJMafs3bhhdUIRERER16TCJJKKZMgAEybA/v1Qrx7ExsLo0VCsmDllzzCsTigiIiLiWlSYRFKh4sVh9WpYsgSCg+Gvv+DFF+Hpp+HAAavTiYiIiLgOFSaRVMpmg+bN4dAheP998PGBjRuhXDno0QOuXLE6oYiIiIjzU2ESSeV8fGDwYDh8GFq1Arsdpkwxx5DPmmV+LCIiIiJ3p8Ikkkbkywfffgtr15rDIC5fhs6doVo1d44cyWR1PBERERGnpMIkksbUqQN798KkSeaQiN273Rg48Ck6dXLn/Hmr04mIiIg4FxUmkTTIwwN69oSwMOjY0YHNZvDVV24UKWJO2YuNtTqhiIiIiHNQYRJJw7Jnh5kz7Ywbt5lKlRxcuwb9+0Pp0rBmjdXpRERERKynwiQiFC58lS1b7MyebZaoo0ehQQNzyt7x41anExEREbGOCpOIAODmBh07mqfp9e4N7u6wdKk5IGLIEIiKsjqhiIiIyOOnwiQiCWTIABMnwv795oCImBgYMQKKFTOn7BmG1QlFREREHh8VJhG5q5AQCA2F776DvHnh9Glo3Rrq1oWDB61OJyIiIvJ4qDCJSKJsNmjZ0rzp7ZAh4OUF69dDmTLQqxdcvWp1QhEREZGUpcIkIvfl6wvDh5vF6bnnwG6Hjz+GIkXg88/B4bA6oYiIiEjKUGESkSTLnx8WLzZHjhcrBpcuwWuvwZNPwvbtVqcTERERSX4qTCLywOrVg337zJvc+vvDzp1maerYES5csDqdiIiISPJRYRKRh+LpCX37mmPI27c3t82da56m99FHEBdnaTwRERGRZKHCJCKPJGdOsyj9/DNUqACRkdCnjzkYYu1aq9OJiIiIPBoVJhFJFlWqwI4dMGsWZM1qDoioV8+csnfihNXpRERERB6OCpOIJBs3N3MIRFgY9OgB7u7mkIjixc0pezdvWp1QRERE5MGoMIlIssuUyRw7vmcP1KoF0dEwbJhZnBYvBsOwOqGIiIhI0qgwiUiKKVXKvNHtokUQFAQnT5qn6NWvb56yJyIiIuLsVJhEJEXZbPD882ZBeu898PIyh0GULm1O2YuIsDqhiIiISOJUmETksUifHkaMgEOH4Nln4dYtmDgRihY1p+w5HFYnFBEREbmTCpOIPFYFCsDSpbBypXnPpgsXzBveVq1q3gBXRERExJmoMImIJRo2hAMHYNw48POD7duhcmVzyt7Fi1anExERETGpMImIZTw9oX9/OHoU2rY1p+d9/rl55OnjjyEuzuqEIiIiktapMImI5XLlgi++gK1boVw5cxBEr17m79evtzqdiIiIpGUqTCLiNKpVM69jmjkTsmSBgwehTh1zyt6pU1anExERkbRIhUlEnIq7O3TuDGFh0K0buLnBd99BsWLmlL3oaKsTioiISFqiwiQiTilzZpg6FXbvhqeegps3YcgQCAkxp+wZhtUJRUREJC1QYRIRp1amDGzcCF9/DblzQ3g4NG8OjRrBkSNWpxMREZHUToVJRJyezQYvvmgWpEGDzOl6q1dDqVLmlL3ISKsTioiISGqlwiQiLsPPD0aNModBPPMM3LoFEyZA0aLw5ZfgcFidUERERFIbFSYRcTmFCsFPP8Hy5VC4MJw/D+3aQfXq5jVPIiIiIslFhUlEXFbjxnDgAHzwAaRPD7/8AhUrQpcucPmy1elEREQkNVBhEhGX5uUFAwbA0aPw8svm9LxPPzWPPE2dap62JyIiIvKwVJhEJFXInRu++gq2bIGyZeHqVXjrLahQATZtsjqdiIiIuCoVJhFJVapXh99+g2nTzHs57d8PtWrBSy/BX39ZnU5ERERcjQqTiKQ67u7w5psQFmb+180NvvnGnKY3ejRER1udUERERFyFCpOIpFpZsphHmn77DapVg6goePddKFnSnLJnGFYnFBEREWenwiQiqV65cua1TV99BYGB8Oef8Oyz0KSJeRRKREREJDEqTCKSJths5hS9o0fNqXoeHrBypXm0acAAuHbN6oQiIiLijFSYRCRN8fc379v0++/QqBHExcG4ceb1TfPn6zQ9ERERSUiFSUTSpCJFYPly81qmAgXg3Dl45RWoUQP27LE6nYiIiDgLlypMmzdvpmnTpuTKlQubzcYPP/xgdSQRcWE2GzzzDBw8CKNGga8vbNtm3rvpzTfh77+tTigiIiJWc6nCdOPGDcqUKcMnn3xidRQRSUW8vWHQIDhyBF54wTwtb8YMKFzYnLJnt1udUERERKziUoWpUaNGjBw5kueee87qKCKSCgUFmfdr2rgRSpWCK1egWzfziNOWLVanExERESukszpASoqJiSEmJib+48jISADi4uKIi4uzKlaadfs913vvXLQud6paFbZvh08/dWPYMDf27bPx1FPwwgsOPvjATu7cKZ9B6+K8tDbOSevinLQuzknrYkrq128zDNecCWWz2ViyZAnNmzdPdJ9hw4YxfPjwO7YvWLAAX1/fFEwnIqlFRIQn8+cXJzQ0H4Zhw9v7Fs8/H8azz/6Jh4fD6ngiIiLykKKiomjTpg0REREEBAQkul+qLkx3O8IUFBTE5cuX7/mmSMqIi4sjNDSUevXq4eHhYXUc+R+tS9Ls3g29ernz66/mmcyFChl8+KGdRo1S5luo1sV5aW2ck9bFOWldnJPWxRQZGUnWrFnvW5hS9Sl5Xl5eeHl53bHdw8MjTf/hsJref+ekdbm3ypXh55/hq6/g7bfhjz9sNGuWjiZNYNIkKFQoZV5X6+K8tDbOSevinLQuzimtr0tSv3aXGvogImIlmw3atoWwMOjfHzw8zHs5lShhTtm7ft3qhCIiIpLcXKowXb9+nb1797J3714AwsPD2bt3L6dOnbI2mIikKf7+MG4cHDgADRpAbCyMGQPFisHXX5tjyUVERCR1cKnC9Ntvv1GuXDnKlSsHQJ8+fShXrhxDhgyxOJmIpEVFi8LKlfDDD5A/P5w5A23aQK1asG+f1elEREQkObhUYapVqxaGYdzxa+7cuVZHE5E0ymaDZs3g0CEYMQJ8fGDzZihf3ryH0z//WJ1QREREHoVLFSYREWfl7Q3vvQdHjkDr1uBwwLRpUKQIzJwJdrvVCUVERORhqDCJiCSjvHlh4UJYvx5KloS//4Y33oAnnjCn7ImIiIhrUWESEUkBtWvDnj3w8ceQIYN5H6dq1cwpe+fOWZ1OREREkkqFSUQkhaRLBz16mGPIX3vNvN7pq6/M0/TGjzen64mIiIhzU2ESEUlh2bPDrFmwfbt5A9zr182b35YqBatWWZ1ORERE7kWFSUTkMalUybyOac4cyJHDPPLUqJE5Ze/4cavTiYiIyN2oMImIPEZubtChAxw9Cn36mKft/fgjhITA4MFw44bVCUVEROTfVJhERCyQIQN8+CHs3w9160JMDIwcCcWLw6JFYBhWJxQRERFQYRIRsVTx4rBmDXz/PeTLB6dPwwsvQP367pw44W91PBERkTRPhUlExGI2G7RoAYcPw7Bh5k1wN21yo0+fWvTu7caVK1YnFBERSbtUmEREnISPDwwdahan555z4HC48ckn7hQpAp99Bna71QlFRETSHhUmEREnExwMCxfaGT78Z4oVM7h8GV5/3RxJ/uuvVqcTERFJW1SYREScVJkyl9i16xYTJ0JAAOzaBVWqmFP2zp+3Op2IiEjaoMIkIuLEPDygd2/znk0dO5rb5s2DIkVg4kSIi7M2n4iISGqnwiQi4gJy5IDZs81T8ipVgmvXoG9fKF0aQkOtTiciIpJ6qTCJiLiQ29cxff45ZMsGR45A/frmlL0TJ6xOJyIikvqoMImIuBg3N+jUyTxNr2dPcHeHJUvMezoNHQpRUVYnFBERST1UmEREXFTGjDBpEuzdC7VrQ3Q0vP++WZy+/x4Mw+KAIiIiqYAKk4iIiytZEtatg2+/hbx54dQpaNUK6tWDgwetTiciIuLaVJhERFIBm80sSYcPw5Ah4OVllqgyZcwpe1evWp1QRETENakwiYikIr6+MHy4WZyaNwe73Txtr2hRc8qew2F1QhEREdeiwiQikgrlz28Ogli92ixLFy/Cq6/Ck0/Cjh1WpxMREXEdKkwiIqlY/fqwfz9MmAD+/rBzpzmavFMnuHDB6nQiIiLOT4VJRCSV8/Q0b3J79Ci0a2dumzMHihQxT9eLi7M0noiIiFNTYRIRSSMCA2HePNi2DcqXh8hIcyBE2bLmgAgRERG5kwqTiEgaU7WqeR3Tp59C1qxw6BDUrWtO2Tt50up0IiIizkWFSUQkDXJ3h9dfh7Aw6N4d3NzMm90WK2ZO2bt50+qEIiIizkGFSUQkDcuUCaZMgT17oGZNiI6GYcMgJMScsmcYVicUERGxlgqTiIhQujRs2ADffAN58sCJE9CiBTRoYN7TSUREJK1SYRIREQBsNnjhBThyBN5915yuFxpqlqm+fc0hESIiImmNCpOIiCSQPj2MHGkOg2jaFG7dgokTzTHk8+aBw2F1QhERkcdHhUlERO6qYEH48UdYsQIKFzZvdNuhA1SrBrt2WZ1ORETk8VBhEhGRe2rUCH7/HcaOBT8/+PVXqFQJOneGS5esTiciIpKyVJhEROS+PD3h7bfh6FF45RVzet6sWeZpelOmmKftiYiIpEYqTCIikmS5csGXX8LWrVCuHFy9Cj16mL/fuNHqdCIiIslPhUlERB5YtWqwcyfMmAGZM5un7NWubU7ZO33a6nQiIiLJR4VJREQeirs7dOkCx45B167g5gaLFkHRouaUvehoqxOKiIg8OhUmERF5JJkzwyefwO7dUKMG3LwJgwdDSAgsXWpe7yQiIuKqVJhERCRZlCkDmzbBggWQOzeEh0Pz5uaUvaNHrU4nIiLycFSYREQk2dhs8NJLcOQIvPOOOV1v9WooVcqcsnftmtUJRUREHowKk4iIJDs/Pxg92hwG0aQJxMXB+PHmGPIvv9RpeiIi4jpUmEREJMUULgzLlpm/ChWC8+ehXTuoXt285klERMTZqTCJiEiKa9LEPNo0ejT4+sLPP0PFiuaUvcuXrU4nIiKSOBUmERF5LLy8zOuajh41r3MyDPj0U/M0vU8+gVu3rE4oIiJyJxUmERF5rPLkMSfpbdoEpUvDlSvQvTtUqACbN1udTkREJCEVJhERscRTT8GuXTB1KmTKBPv3Q82a5tGnv/6yOp2IiIhJhUlERCyTLh106wZhYeb1TDYbfPMNFCsGY8ZATIzVCUVEJK1TYRIREctlzQozZsBvv0HVqnDjBgwaBCVKmBP2RERErKLCJCIiTqN8edi61bxXU2Ag/PknNG1qTtk7dszqdCIikhapMImIiFOx2eCVV8xpev37g4cHrFhhHm0aOBCuX0/mF7TbYeNG+Ppr8792ezK/gIiIuDKXK0yffPIJwcHBeHt7U7lyZXbs2GF1JBERSQH+/jBuHBw4AA0bQlwcjB0LRYuaU/YMIxleZPFiCA6G2rWhTRvzv8HB5nYRERFcrDAtXLiQPn36MHToUHbv3k2ZMmVo0KABFy9etDqaiIikkKJFzSNMS5dCgQJw9iy8/LI5UW/fvkd44sWLoVWrO0fynTljbldpEhERXKwwTZw4kddff52OHTsSEhLCjBkz8PX1Zfbs2VZHExGRFGSzwbPPwsGDMHIk+PrCli3mNU9du8I//zzgE9rt0LPn3Q9T3d7Wq5dOzxMREdJZHSCpYmNj2bVrF++88078Njc3N+rWrcsvv/xy18fExMQQ86+ZtJGRkQDExcURFxeXsoHlDrffc733zkXr4py0Lnfn7g5vv23eq2ngQHe+/daN6dNh4UKD99938OqrDtzdk/BEW7fC33+Dj0/i+1y+bN5Jt3r1BJu1Ns5J6+KctC7OSetiSurXbzOMZDkLPMWdPXuW3Llz8/PPP1OlSpX47W+//TabNm1i+/btdzxm2LBhDB8+/I7tCxYswNfXN0XziohIyjtwIAuzZpXm1KkAAPLnv8rrrx8gJORBDzmJiEhaExUVRZs2bYiIiCAgICDR/VJ1YbrbEaagoCAuX758zzdFUkZcXByhoaHUq1cPDw8Pq+PI/2hdnJPWJelu3YJPP3Vj2DA3rl61AfDSSw7GjLGTK1ciD9q61ZxVfj/Ll9/1CJPWxvloXZyT1sU5aV1MkZGRZM2a9b6FyWVOycuaNSvu7u5cuHAhwfYLFy6QM2fOuz7Gy8sLLy+vO7Z7eHik6T8cVtP775y0Ls5J63J/Hh7m5Uht2sC778Jnn8HXX7vx449uDB5sXop0x18FTz0FWbKYAx7u9u+GNhvkyWPul8g5flob56R1cU5aF+eU1tclqV+7ywx98PT0pEKFCqxbty5+m8PhYN26dQmOOImISNqULRt8+ins2AFPPgk3bpj3bSpVClau/M/O7u7w8cfm7222hJ+7/fGkSYmWJRERSTtcpjAB9OnTh1mzZjFv3jwOHz7Mm2++yY0bN+jYsaPV0URExElUrAjbtsHcuZAjBxw7Bo0bQ9Om8Oef/9qxRQv47jvInTvhE+TJY25v0eJxxhYRESflUoXphRdeYMKECQwZMoSyZcuyd+9eVq1aRY4cOayOJiIiTsTNDdq3h7Aw6NsX0qWDZcsgJMQ8be/Gjf/t2KIFnDgBGzaYd8PdsAHCw1WWREQkXpIL09mzZ1MyR5J1796dkydPEhMTw/bt26lcubLVkURExEkFBMCECbB/P9SrB7GxMHo0FCsGCxf+7/Ild3eoVcucVV6rlk7DExGRBJJcmEqUKMGCBQtSMouIiEiKKF4cVq+GJUsgOBj++gtefBFq1zbLlIiISGKSXJhGjRpFly5deP755/nngW+pLiIiYi2bDZo3h0OHYPhw8PaGTZugXDl46y24csXqhCIi4oySXJi6du3K/v37+fvvvwkJCeGnn35KyVwiIiIpwscHhgyBI0egVStwOGDqVChSBGbNArvd6oQiIuJMHug+TPnz52f9+vVMnTqVFi1aULx4cdKlS/gUu3fvTtaAIiIiKSFfPvj2W1i3Dnr0MI88de4MM2fClCmgO1aIiAg8xI1rT548yeLFi8mUKRPNmjW7ozCJiIi4kjp1YO9emDYNhg6FXbugalVo1w7GjoVE7o0uIiJpxAO1nVmzZtG3b1/q1q3LwYMHyZYtW0rlEhEReWw8PKBnT3NQ3qBBMHs2fPGFOSRiyBDzCJSnp9UpRUTECkm+hqlhw4YMGDCAqVOnsnjxYpUlERFJdbJnh88+g+3b4Ykn4No16N8fSpeGNWusTiciIlZIcmGy2+3s37+fdu3apWQeERERy1WqBL/8Yh5pyp4djh6FBg3MKXvh4VanExGRxynJhSk0NJQ8efKkZBYRERGn4eYGHTtCWBj07m3ez3bpUihdOh0LFhQjKsrqhCIi8jgkuTCJiIikRRkywMSJ5g1u69SBmBgbixYVpXTpdHz3HRiG1QlFRCQlqTCJiIgkQUgIhIbCN9/cIlu2KE6dsvH881C3Lhw8aHU6ERFJKSpMIiIiSWSzQYsWBlOnrue99+x4e8P69VCmDPTqBVevWp1QRESSmwqTiIjIA/LysjNkiIPDh+G558Buh48/hiJF4PPPweGwOqGIiCQXFSYREZGHFBwMixebI8eLFYNLl+C116ByZfj1V6vTiYhIclBhEhEReUT16plDIT78EPz94bffoEoVc8rehQtWpxMRkUehwiQiIpIMPDygTx9zDHn79ua2uXPN0/QmToS4OEvjiYjIQ1JhEhERSUY5c5pF6eefoUIFiIyEvn3NwRBr11qdTkREHpQKk4iISAqoUgV27IBZsyBrVjh82Dx1r2VLOHHC6nQiIpJUKkwiIiIpxM3NHAIRFgY9eoC7uzkkonhxGDYMbt60OqGIiNyPCpOIiEgKy5TJHDu+Zw/UqgXR0TB8uFmcFi8Gw7A6oYiIJEaFSURE5DEpVcq80e3ChZAnD5w8aZ6iV78+HDpkdToREbkbFSYREZHHyGaD1q3hyBF47z3w8jKHQZQpY07Zi4iwOqGIiPybCpOIiIgF0qeHESPMI0vNmsGtW/DRR+YY8jlzwOGwOqGIiIAKk4iIiKUKFIAffoBVq6BoUbh4ETp1gqpVYedOq9OJiIgKk4iIiBNo0AD274fx48HPD7Zvh8qVzSl7Fy9anU5EJO1SYRIREXESnp7Qr585hrxtW3N63uefm6fpTZ5snrYnIiKPlwqTiIiIkwkMhC++gG3boHx5cxBEz55Qtixs2GB1OhGRtEWFSURExElVrQo7dsDMmZAlCxw8CE8/bU7ZO3XK6nQiImmDCpOIiIgTc3eHzp3h2DHo3h3c3ODbb6FYMXPKXnS01QlFRFI3FSYREREXkCkTTJkCe/bAU0/BzZswZAiEhJhT9gzD6oQiIqmTCpOIiIgLKV0aNm6Er7+G3LkhPByeew4aNjRvhisiIslLhUlERMTF2Gzw4otw9CgMGmRO11uzBkqVMqfsRUZanVBEJPVQYRIREXFR6dPDqFHmMIhnnjHHjn/4oXkD3C++AIfD6oQiIq5PhUlERMTFFSoEP/0Ey5dD4cJw/jy0bw/Vq8OuXVanExFxbSpMIiIiqUTjxnDgAHzwgXn06ZdfoFIlc8repUtWpxMRcU0qTCIiIqmIlxcMGGBe39SmjTk9b9YsKFIEpk41T9sTEZGkU2ESERFJhXLnhvnzYcsWKFMGrl6Ft96C8uVh0yar04mIuA4VJhERkVTs9nVM06ZB5szmKXu1aplT9k6ftjqdiIjzU2ESERFJ5dzd4c03ISzM/K+bGyxcCMWKmVP2oqOtTigi4rxUmERERNKILFnMI027dplHnqKi4L33oGRJc8qeYVidUETE+agwiYiIpDFly8LmzeY1TrlywZ9/wrPPQpMm5lEoERH5fypMIiIiaZDNZk7RO3LEnKrn4QErV5pHmwYMgGvXrE4oIuIcVJhERETSMH9/875NBw+a93GKi4Nx48zrm+bP12l6IiIqTCIiIkLhwrB8uXktU8GCcPYsvPIK1KgBe/ZYnU5ExDoqTCIiIhLvmWfg99/N6Xm+vrBtG1SsaE7X+/tvq9OJiDx+KkwiIiKSgLc3DBoER4+a92tyOGDGDPMo1LRpYLdbnVBE5PFRYRIREZG7ypMHvv4aNm6EUqXgyhXo1g0qVIAtW6xOJyLyeKgwiYiIyD3VrAm7d8PUqZAxI+zbB089ZU7ZO3PG6nQiIilLhUlERETuK1068+jSsWPQubM5lvzrr6FoUXPKXkyM1QlFRFKGCpOIiIgkWdasMHMm/PYbVK0KN27AO++Y929avtzqdCIiyc9lCtOoUaOoWrUqvr6+ZMyY0eo4IiIiaVr58rB1K3zxBeTMCX/8YU7Ye+YZ8/ciIqmFyxSm2NhYnn/+ed58802ro4iIiAjmaXlt25rT9Pr1M0/bW74cSpQwjzpdv251QhGRR+cyhWn48OH07t2bUqVKWR1FRERE/iUgAMaPhwMHoEEDiI01r2sqVsy8zskwrE4oIvLw0lkdICXFxMQQ86+rUCMjIwGIi4sjLi7Oqlhp1u33XO+9c9G6OCeti/PS2iSuYEH48Uf46Scb/fu7Ex5uo00bmD7dwcSJdsqUSbnX1ro4J62Lc9K6mJL69dsMw7X+3Wfu3Ln06tWLq1ev3nffYcOGMXz48Du2L1iwAF9f3xRIJyIiIgCxsW788EMhvvuuMLGx6XBzM2jYMJyXXjqCv3/a/iFNRJxDVFQUbdq0ISIigoCAgET3s7QwDRw4kLFjx95zn8OHD1OsWLH4jx+kMN3tCFNQUBCXL1++55siKSMuLo7Q0FDq1auHh4eH1XHkf7Quzknr4ry0Ng/m1CkYONCd774zrwLIksXg/fcddOrkwN09+V5H6+KctC7OSetiioyMJGvWrPctTJaekte3b186dOhwz30KFCjw0M/v5eWFl5fXHds9PDzS9B8Oq+n9d05aF+ekdXFeWpukKVgQvv0WNmyAHj3g999tdOvmzuefuzNlijmaPDlpXZyT1sU5pfV1SerXbmlhypYtG9myZbMygoiIiDwGtWvDnj0wbRoMHQq7d0O1avDKKzBuHAQGWp1QROTuXGZK3qlTp9i7dy+nTp3Cbrezd+9e9u7dy3XNLBUREXEJ6dKZR5nCwuC118yx5F99BUWKmFP2YmOtTigicieXKUxDhgyhXLlyDB06lOvXr1OuXDnKlSvHb7/9ZnU0EREReQDZssGsWbBjB1SubN6v6e23oXRpWL3a6nQiIgm5TGGaO3cuhmHc8atWrVpWRxMREZGHULEi/PwzzJ0LOXKYN8Bt2BCaNYPjx61OJyJicpnCJCIiIqmPmxu0b2+WpT59zNP2fvwRQkJg8GC4ccPqhCKS1qkwiYiIiOUyZIAPP4T9+6FePYiJgZEjoXhxWLQIXOuukSKSmqgwiYiIiNMoXty8jmnxYggOhtOn4YUX4Omn4cABq9OJSFqkwiQiIiJOxWaD556DQ4dg+HDw9oaNG6FcOXPK3pUrVicUkbREhUlEREScko8PDBkCR45Ay5Zgt8OUKeYY8lmzzI9FRFKaCpOIiIg4tXz54LvvYO1a85S9y5ehc2dzJPmvv1qdTkRSOxUmERERcQl16sC+fTBxIgQEwK5dUKUKdOgA589bnU5EUisVJhEREXEZHh7QuzeEhUHHjua2efOgRIl0/PBDQWJjrc0nIqmPCpOIiIi4nBw5YPZs85S8SpXg2jUbc+eWpEKFdISGWp1ORFITFSYRERFxWbevY5o58xYZMsRw9KiN+vWhRQsID7c6nYikBipMIiIi4tLc3KBjR4NPPlnLW2/ZcXeHJUsgJASGDoWoKKsTiogrU2ESERGRVMHP7xYffuhg3z7zRrfR0fD+++Zkve++A8OwOqGIuCIVJhEREUlVSpQwR5B/9x3kzQunTsHzz0O9enDwoNXpRMTVqDCJiIhIqmOzmTe7PXzYvPmtlxesWwdlyphT9q5etTqhiLgKFSYRERFJtXx9Yfhwszg1bw52O0yaBEWLmlP2HA6rE4qIs1NhEhERkVQvf35zEMTq1VCsGFy8CK++Ck8+CTt2WJ1ORJyZCpOIiIikGfXrw759MGEC+PvDzp3maPJXX4ULF6xOJyLOSIVJRERE0hRPT+jbF8LCoH17c9vs2VCkiHm6XlycpfFExMmoMImIiEialDMnzJ0LP/8MFSpAZKQ5EKJsWXNAhIgIqDCJiIhIGlelCmzfDrNmQdascOgQ1K1rTtk7ccLqdCJiNRUmERERSfPc3eG118zT9N56C9zcYPFi86a3w4fDzZtWJxQRq6gwiYiIiPxPpkwweTLs3Qs1a0J0NAwbBiEh5pQ9w7A6oYg8bipMIiIiIv9RqhRs2AALF0KePOapeS1amFP2Dh+2Op2IPE4qTCIiIiJ3YbNB69Zw5Ai8+645XW/tWihd2pyyFxlpdUIReRxUmERERETuIX16GDnSHAbRtCncugUTJ5pjyOfNA4fD6oQikpJUmERERESSoGBB+PFHWLHCLEsXLkCHDlCtGvz2m9XpRCSlqDCJiIiIPIBGjeDAARg7Fvz84Ndf4Ykn4PXX4dIlq9OJSHJTYRIRERF5QJ6e8PbbcPQovPKKOT3vs8+gcGFzyt6tW1YnFJHkosIkIiIi8pBy5YIvv4StW6FsWYiIgJ49oVw52LjR6nQikhxUmEREREQe0e3rmGbMgMyZ4fffoXZteOEFOH3a6nQi8ihUmERERESSgbs7dOkCx45B167g5gaLFkHRouaUvehoqxOKyMNQYRIRERFJRpkzwyefwO7dUKMG3LwJgwdDiRLmlD3DsDqhiDwIFSYRERGRFFCmDGzaBAsWQO7ccPw4NGsGjRubwyJExDWoMImIiIikEJsNXnoJjhyBd94xp+utWgWlSplT9q5dszqhiNyPCpOIiIhICvPzg9Gj4eBBeOYZiIuD8ePNG+B++aVO0xNxZipMIiIiIo9JoULw00+wfLn5+/PnoV07qF7dvOZJRJyPCpOIiIjIY9a4sTl6fMwYSJ8efv4ZKlY0p+xdvmx1OhH5NxUmEREREQt4ecHAgeYAiJdeMk/L+/RT8zS9Tz6BW7esTigioMIkIiIiYqncuc1Jeps2mZP1rlyB7t2hQgVzm4hYS4VJRERExAk89RT89pt5dClTJti/H2rVMo8+/fWX1elE0i4VJhEREREnkS4ddO0KYWHm9Uw2G3zzDRQtak7Zi4mxOqFI2qPCJCIiIuJksmaFGTNg1y6oVg2iouDdd6FECVi2zOp0ImmLCpOIiIiIkypXDrZsMe/VFBgIf/4JTZtCkybmUSgRSXkqTCIiIiJOzGaDV14xp+n17w8eHrBiBZQsaU7Zu37d6oQiqZsKk4iIiIgL8PeHcePgwAFo2BDi4mDsWPP6pgULzLHkIpL8VJhEREREXEjRouYRpqVLoUABOHsWXn7ZnLK3d6/V6URSHxUmERERERdjs8Gzz8LBgzByJPj6wtat5r2bunaFv/+2OqFI6qHCJCIiIuKivL3N6XlHjkDr1uBwwPTpUKSIOWXPbrc6oYjrU2ESERERcXFBQbBwIWzYAKVKwT//wJtvQsWK5pEnEXl4KkwiIiIiqUStWrB7N0yZAhkzmtc01ahhTtk7c8bicCIuyiUK04kTJ3j11VfJnz8/Pj4+FCxYkKFDhxIbG2t1NBERERGnki4ddO9u3qepc2fzeqf5881hEWPHQkyM1QlFXItLFKYjR47gcDiYOXMmBw8e5KOPPmLGjBkMGjTI6mgiIiIiTilbNpg5E3buhCpV4MYN875NpUrBypVWpxNxHS5RmBo2bMicOXOoX78+BQoU4Nlnn6Vfv34sXrzY6mgiIiIiTq1CBfM6pnnzIEcOOHYMGjeGpk3hjz+sTifi/NJZHeBhRUREkDlz5nvuExMTQ8y/jjtHRkYCEBcXR1xcXIrmkzvdfs/13jsXrYtz0ro4L62Nc9K63N9LL0GTJjB6tBuTJ7uxbJmNNWsMevd2MHCgg/Tpk/81tS7OSetiSurXbzMM17sv9B9//EGFChWYMGECr7/+eqL7DRs2jOHDh9+xfcGCBfj6+qZkRBERERGn9ddffnz2WSn27s0OQJYsN+nQ4SDVq5/BZrM4nMhjEhUVRZs2bYiIiCAgICDR/SwtTAMHDmTs2LH33Ofw4cMUK1Ys/uMzZ85Qs2ZNatWqxWeffXbPx97tCFNQUBCXL1++55siKSMuLo7Q0FDq1auHh4eH1XHkf7Quzknr4ry0Ns5J6/LgDAN+/NFG//7unDhhtqSnnnIwcaKd0qWT5zW0Ls5J62KKjIwka9as9y1Mlp6S17dvXzp06HDPfQoUKBD/+7Nnz1K7dm2qVq3Kp59+et/n9/LywsvL647tHh4eafoPh9X0/jsnrYtz0ro4L62Nc9K6PJhWrczT9CZMgDFjYPNmN554wo2uXWH4cLjP1Q9JpnVxTml9XZL6tVtamLJly0a2bNmStO+ZM2eoXbs2FSpUYM6cObi5ucS8ChERERGn5uMDgwdDu3bQvz98+y1MnQpffw2jR8Orr4K7u9UpRazjEq3jzJkz1KpVi7x58zJhwgQuXbrE+fPnOX/+vNXRRERERFKFfPlg0SJYtw5KlIC//4YuXeCJJ+CXX6xOJ2IdlyhMoaGh/PHHH6xbt448efIQGBgY/0tEREREks/TT8OePTBpEmTIALt3Q9Wq0L49nDtndTqRx88lClOHDh0wDOOuv0REREQkeXl4QM+eEBZmnpJns8EXX0DRoub1TrGxVicUeXxcojCJiIiIyOOXPTt89hls326emnftmnmdU+nSsHq11elEHg8VJhERERG5p0qVzOuYZs82S9TRo9CwITRvDsePW51OJGWpMImIiIjIfbm5QceO5ml6vXubk/OWLoWQEBgyBKKirE4okjJUmEREREQkyTJkgIkTYf9+qFMHYmJgxAgoVswcSa5LzCW1UWESERERkQcWEgKhofD99+ZI8tOnoXVrs0QdPGh1OpHko8IkIiIiIg/FZoMWLeDQIRg6FLy9YcMGKFPGnLJ39arVCUUenQqTiIiIiDwSX18YNgwOH4bnngO7HSZPhhIl0hEamheHw+qEIg9PhUlEREREkkVwMCxeDGvWQPHicOmSjU8+KUf16u5s3251OpGHo8IkIiIiIsmqXj3Ytw/Gj7fj6xvHb7+58eST5pS9CxesTifyYFSYRERERCTZeXhAz54OPvlkHe3amefkzZ0LRYqYU/bi4qzNJ5JUKkwiIiIikmIyZYrhs8/s/PILVKwIkZHQt685GGLtWqvTidyfCpOIiIiIpLgnn4Tt2+GzzyBbNnNARL160LIlnDhhdTqRxKkwiYiIiMhj4eYGr74KYWHQowe4u5tDIooXN6fs3bxpdUKRO6kwiYiIiMhjlTEjfPwx7N0LtWpBdDQMH24Wp++/B8OwOKDIv6gwiYiIiIglSpaE9eth0SIICoKTJ6FVK/NUvUOHrE4nYlJhEhERERHL2Gzw/PPmNU3vvQdeXrBuHZQuDb17Q0SE1QklrVNhEhERERHLpU8PI0aYR5aaNQO7HSZNMseQz5kDDofVCSWtUmESEREREadRoAD88AOsXGmWpYsXoVMnqFIFdu60Op2kRSpMIiIiIuJ0GjaEAwdg/Hjw84MdO+CJJ8wpexcvWp1O0hIVJhERERFxSp6e0K+fOYa8bVtz2+zZ5pGnjz+GuDhr80naoMIkIiIiIk4tMBC++AK2bYPy5c1BEL16QblysGGD1ekktVNhEhERERGXULWqeWrezJmQJQscPAhPPw2tW8OpU1ank9RKhUlEREREXIa7O3TuDMeOQffu4OYG334LxYqZU/aio61OKKmNCpOIiIiIuJxMmWDKFNizB2rWhJs3YcgQCAmBpUvBMKxOKKmFCpOIiIiIuKzSpc3rmL75BvLkgfBwaN4cGjWCI0esTiepgQqTiIiIiLg0mw1eeMEsSIMGmdP1Vq+GUqWgf3+IjLQ6obgyFSYRERERSRXSp4dRo+DQIWjaFG7dggkToGhRc8qew2F1QnFFKkwiIiIikqoULAg//ggrVkDhwnD+PLRvD9Wrw65dVqcTV6PCJCIiIiKpUqNGcOAAfPCBefTpl1+gUiVzyt6lS1anE1ehwiQiIiIiqZaXFwwYAGFh8PLL5vS8WbOgSBFzyt6tW1YnFGenwiQiIiIiqV6uXPDVV7BlC5QtC1evQo8eUL48bNxocThxaipMIiIiIpJmVK8Ov/0G06dD5szmKXu1a5tT9k6ftjqdOCMVJhERERFJU9zd4Y03zNP03nwT3Nxg0SIoVsycshcdbXVCcSYqTCIiIiKSJmXJAtOmmZPzqleHqCh47z0oUQJ++sm83klEhUlERERE0rSyZWHzZpg/37zW6fhxePZZaNzYPAolaZsKk4iIiIikeTYbtGkDR46YU/U8PGDVKihZ0vz42jWrE4pVVJhERERERP7H39+8b9Pvv5v3cYqLg3HjoGhR8wiUTtNLe1SYRERERET+o0gRWL7cvJapYEE4dw5eeQVq1IA9e6xOJ4+TCpOIiIiIyF3YbPDMM+bRptGjwdcXtm2DChXM6Xp//211QnkcVJhERERERO7B2xveeQeOHoWXXjJPy5sxAwoXNqfs2e1WJ5SUpMIkIiIiIpIEefLAggWwaROULg1XrkC3buYRpy1brE4nKUWFSURERETkATz1lHnvpqlTIVMm2LfP3NamDZw5Y3U6SW4qTCIiIiIiDyhdOvPoUlgYdOliXu/09dfmNL0PPoCYGKsTSnJRYRIREREReUhZs5rXM/32G1StCjdumNc7lSoFK1ZYnU6SgwqTiIiIiMgjKl8etm6FL76AnDnh2DFo0sScsvfHH1ank0ehwiQiIiIikgxsNmjb1jxNr39/8PAw7+VUooR51On6dasTysNQYRIRERERSUb+/jBuHBw4AA0aQGyseV1T0aLmlD3DsDqhPAgVJhERERGRFFC0KKxcCUuXQv78cPYsvPwy1KxpTtYT16DCJCIiIiKSQmw2ePZZOHQIRowAHx/znk3ly5tT9v75x+qEcj8qTCIiIiIiKczbG957D44cgdatweGAadOgcGFzyp7dbnVCSYzLFKZnn32WvHnz4u3tTWBgIG3btuXs2bNWxxIRERERSbK8eWHhQli/HkqWNI8wvfkmVKoE27ZZnU7uxmUKU+3atVm0aBFHjx7l+++/588//6RVq1ZWxxIREREReWC1a8OePfDxx5Ahg/n76tXNKXvnzlmdTv7NZQpT7969efLJJ8mXLx9Vq1Zl4MCB/Prrr8TFxVkdTURERETkgaVLBz16mPdseu0183qnr76CIkVg/Hhzup5YL53VAR7GP//8w/z586latSoeHh6J7hcTE0NMTEz8x5GRkQDExcWpaFng9nuu9965aF2ck9bFeWltnJPWxTlpXZImY0bzeqZOnWz06uXGjh1uvP02zJplMHGinQYNkncOudbFlNSv32YYrjMJfsCAAUydOpWoqCiefPJJli1bRpYsWRLdf9iwYQwfPvyO7QsWLMDX1zclo4qIiIiIPDCHAzZuDOKLL0K4etUbgCeeOEenTr+TM2eUxelSl6ioKNq0aUNERAQBAQGJ7mdpYRo4cCBjx4695z6HDx+mWLFiAFy+fJl//vmHkydPMnz4cDJkyMCyZcuw2Wx3fezdjjAFBQVx+fLle74pkjLi4uIIDQ2lXr169zwyKI+X1sU5aV2cl9bGOWldnJPW5eFFRMDo0W5MmeLGrVs2vLwMevd2MGCAg/TpH+25tS6myMhIsmbNet/CZOkpeX379qVDhw733KdAgQLxv8+aNStZs2alSJEiFC9enKCgIH799VeqVKly18d6eXnh5eV1x3YPD480/YfDanr/nZPWxTlpXZyX1sY5aV2ck9blwWXNChMnwuuvQ8+eEBpq44MP3Jk/350JE+D5581rnh5FWl+XpH7tlhambNmykS1btod6rMPhAEhwBElEREREJDUpXhxWr4alS6F3bzhxAl54AaZPh8mToVQpqxOmfi4xJW/79u1MnTqVvXv3cvLkSdavX89LL71EwYIFEz26JCIiIiKSGths0Lw5HDoEw4ebN8HduBHKlTOn7F25YnXC1M0lCpOvry+LFy+mTp06FC1alFdffZXSpUuzadOmu55yJyIiIiKS2vj4wJAhcOQItGwJdjtMmWKOIf/sM/NjSX4uMVa8VKlSrF+/3uoYIiIiIiKWy5cPvvsO1q2Dt96Cw4fNa51mzICpU+HJJ61OmLq4xBEmERERERFJqE4d2LcPPvoIAgJg1y6oUgU6dIDz561Ol3qoMImIiIiIuCgPD+jVC8LCoGNHc9u8eeZpeh9+CLGxlsZLFVSYRERERERcXI4cMHs2/PorVKoE165Bv35QpgysWWN1OtemwiQiIiIikkpUrmyWps8/h2zZzAERDRrAc89BeLjV6VyTCpOIiIiISCri5gadOpmn6fXsCe7u8MMP5j2dhgyBqCirE7oWFSYRERERkVQoY0aYNMkcDPH00xATAyNGQOnS6fj550AMw+qErkGFSUREREQkFStRAtauhW+/hbx54dQpG+PGPUHDhu4cPGh1OuenwiQiIiIiksrZbNCqlXnPpnfftePhYWfDBjfKlDGn7F29anVC56XCJCIiIiKSRvj6wtChDqZOXc+zzzqw2+Hjj80x5J9/Dg6H1QmdjwqTiIiIiEgakyNHFN99Z2f1aihWDC5dgtdegyefhB07rE7nXFSYRERERETSqPr1zaEQEyaAvz/s3GmOJu/UCS5csDqdc1BhEhERERFJwzw9oW9fcwx5+/bmtjlzzNP0PvoI4uKszWc1FSYRERERESFnTpg7F375BSpWhMhI6NMHypaFdeusTmcdFSYREREREYn35JOwfTvMmgVZs8KhQ1C3rjll7+RJq9M9fipMIiIiIiKSgJubOQQiLAzeegvc3eH7780BEcOHw82bVid8fFSYRERERETkrjJlgsmTYc8eqFULoqNh2DAICYHFi8EwrE6Y8lSYRERERETknkqVgvXrYeFCyJMHTpyAli3NKXuHD1udLmWpMImIiIiIyH3ZbNC6NRw5Au+9Z07XW7sWSpc2p+xFRlqdMGWoMImIiIiISJKlTw8jRpjDIJ59Fm7dgokTzTHkc+eCw2F1wuSlwiQiIiIiIg+sYEFYuhRWrjTL0oUL0LEjVK1q3gA3tVBhEhERERGRh9awIRw4AOPGgZ+fOZK8cmVzyt7Fi1ane3QqTCIiIiIi8kg8PaF/fzh6FF55xZye9/nn5pGnyZPN0/ZclQqTiIiIiIgki1y54MsvYetWKFcOIiKgZ08oWxY2bLA63cNRYRIRERERkWRVrZp5HdOMGZAlCxw8CE8/bU7ZO3XK6nQPRoVJRERERESSnbs7dOkCYWHQtSu4ucG335qn7LkSFSYREREREUkxmTPDJ5/A7p12apa5yri6a2DjRrDbrY6WJOmsDiAiIiIiIqnc4sWU6dmTDX/9hW3f/7blyQMffwwtWlga7X50hElERERERFLO4sXQqhX89Re2f28/c8bcvnixVcmSRIVJRERERERSht1ujskzjDs/d3tbr15OfXqeCpOIiIiIiKSMLVvgr78S/7xhwOnT5n5OSoVJRERERERSxrlzybufBVSYREREREQkZQQGJu9+FlBhEhERERGRlFGjhjkNz2a7++dtNggKMvdzUipMIiIiIiKSMtzdzdHhcGdpuv3xpEnmfk5KhUlERERERFJOixbw3XeQO3fC7XnymNud/D5MunGtiIiIiIikrBYtoFkzcxreuXPmNUs1ajj1kaXbVJhERERERCTlubtDrVpWp3hgOiVPREREREQkESpMIiIiIiIiiVBhEhERERERSYQKk4iIiIiISCJUmERERERERBKhwiQiIiIiIpIIFSYREREREZFEqDCJiIiIiIgkQoVJREREREQkESpMIiIiIiIiiVBhEhERERERSYQKk4iIiIiISCJUmERERERERBKRzuoAj5NhGABERkZanCRtiouLIyoqisjISDw8PKyOI/+jdXFOWhfnpbVxTloX56R1cU5aF9PtTnC7IyQmTRWma9euARAUFGRxEhERERERcQbXrl0jQ4YMiX7eZtyvUqUiDoeDs2fP4u/vj81mszpOmhMZGUlQUBCnT58mICDA6jjyP1oX56R1cV5aG+ekdXFOWhfnpHUxGYbBtWvXyJUrF25uiV+plKaOMLm5uZEnTx6rY6R5AQEBafp/TmeldXFOWhfnpbVxTloX56R1cU5aF+55ZOk2DX0QERERERFJhAqTiIiIiIhIIlSY5LHx8vJi6NCheHl5WR1F/kXr4py0Ls5La+OctC7OSevinLQuDyZNDX0QERERERF5EDrCJCIiIiIikggVJhERERERkUSoMImIiIiIiCRChUlERERERCQRKkzyWJw5c4ZXXnmFLFmy4OPjQ6lSpfjtt9+sjpWmBQcHY7PZ7vjVrVs3q6OlaXa7ncGDB5M/f358fHwoWLAgI0aMQPN5rHft2jV69epFvnz58PHxoWrVquzcudPqWGnK5s2badq0Kbly5cJms/HDDz8k+LxhGAwZMoTAwEB8fHyoW7cux44dsyZsGnK/dVm8eDH169cnS5Ys2Gw29u7da0nOtOheaxMXF8eAAQMoVaoU6dOnJ1euXLRr146zZ89aF9hJqTBJirty5QrVqlXDw8ODlStXcujQIT788EMyZcpkdbQ0befOnZw7dy7+V2hoKADPP/+8xcnStrFjxzJ9+nSmTp3K4cOHGTt2LOPGjWPKlClWR0vzXnvtNUJDQ/nyyy85cOAA9evXp27dupw5c8bqaGnGjRs3KFOmDJ988sldPz9u3DgmT57MjBkz2L59O+nTp6dBgwZER0c/5qRpy/3W5caNG1SvXp2xY8c+5mRyr7WJiopi9+7dDB48mN27d7N48WKOHj3Ks88+a0FS56ax4pLiBg4cyLZt29iyZYvVUeQeevXqxbJlyzh27Bg2m83qOGnWM888Q44cOfj888/jt7Vs2RIfHx+++uorC5OlbTdv3sTf35+lS5fSpEmT+O0VKlSgUaNGjBw50sJ0aZPNZmPJkiU0b94cMI8u5cqVi759+9KvXz8AIiIiyJEjB3PnzuXFF1+0MG3a8d91+bcTJ06QP39+9uzZQ9myZR97trTuXmtz286dO3niiSc4efIkefPmfXzhnJyOMEmK+/HHH6lYsSLPP/882bNnp1y5csyaNcvqWPIvsbGxfPXVV3Tq1EllyWJVq1Zl3bp1hIWFAbBv3z62bt1Ko0aNLE6Wtt26dQu73Y63t3eC7T4+PmzdutWiVPJv4eHhnD9/nrp168Zvy5AhA5UrV+aXX36xMJmI64iIiMBms5ExY0arozgVFSZJccePH2f69OkULlyY1atX8+abb9KjRw/mzZtndTT5nx9++IGrV6/SoUMHq6OkeQMHDuTFF1+kWLFieHh4UK5cOXr16sXLL79sdbQ0zd/fnypVqjBixAjOnj2L3W7nq6++4pdffuHcuXNWxxPg/PnzAOTIkSPB9hw5csR/TkQSFx0dzYABA3jppZcICAiwOo5TSWd1AEn9HA4HFStWZPTo0QCUK1eO33//nRkzZtC+fXuL0wnA559/TqNGjciVK5fVUdK8RYsWMX/+fBYsWECJEiXYu3cvvXr1IleuXPr/xWJffvklnTp1Infu3Li7u1O+fHleeukldu3aZXU0EZFHEhcXR+vWrTEMg+nTp1sdx+noCJOkuMDAQEJCQhJsK168OKdOnbIokfzbyZMnWbt2La+99prVUQTo379//FGmUqVK0bZtW3r37s2YMWOsjpbmFSxYkE2bNnH9+nVOnz7Njh07iIuLo0CBAlZHEyBnzpwAXLhwIcH2CxcuxH9ORO50uyydPHmS0NBQHV26CxUmSXHVqlXj6NGjCbaFhYWRL18+ixLJv82ZM4fs2bMnuJBdrBMVFYWbW8Jvze7u7jgcDosSyX+lT5+ewMBArly5wurVq2nWrJnVkQTInz8/OXPmZN26dfHbIiMj2b59O1WqVLEwmYjzul2Wjh07xtq1a8mSJYvVkZySTsmTFNe7d2+qVq3K6NGjad26NTt27ODTTz/l008/tTpamudwOJgzZw7t27cnXTp9O3AGTZs2ZdSoUeTNm5cSJUqwZ88eJk6cSKdOnayOluatXr0awzAoWrQof/zxB/3796dYsWJ07NjR6mhpxvXr1/njjz/iPw4PD2fv3r1kzpyZvHnz0qtXL0aOHEnhwoXJnz8/gwcPJleuXPecCiaP7n7r8s8//3Dq1Kn4+/vc/kfUnDlz6uhfCrvX2gQGBtKqVSt2797NsmXLsNvt8df7Zc6cGU9PT6tiOx9D5DH46aefjJIlSxpeXl5GsWLFjE8//dTqSGIYxurVqw3AOHr0qNVR5H8iIyONnj17Gnnz5jW8vb2NAgUKGO+++64RExNjdbQ0b+HChUaBAgUMT09PI2fOnEa3bt2Mq1evWh0rTdmwYYMB3PGrffv2hmEYhsPhMAYPHmzkyJHD8PLyMurUqaPvb4/B/dZlzpw5d/380KFDLc2dFtxrbcLDw+/6OcDYsGGD1dGdiu7DJCIiIiIikghdwyQiIiIiIpIIFSYREREREZFEqDCJiIiIiIgkQoVJREREREQkESpMIiIiIiIiiVBhEhERERERSYQKk4iIiIiISCJUmERERERERBKhwiQiIiIiIpIIFSYREUn17HY7VatWpUWLFgm2R0REEBQUxLvvvmtRMhERcXY2wzAMq0OIiIiktLCwMMqWLcusWbN4+eWXAWjXrh379u1j586deHp6WpxQRESckQqTiIikGZMnT2bYsGEcPHiQHTt28Pzzz7Nz507KlCljdTQREXFSKkwiIpJmGIbB008/jbu7OwcOHOCtt97ivffeszqWiIg4MRUmERFJU44cOULx4sUpVaoUu3fvJl26dFZHEhERJ6ahDyIikqbMnj0bX19fwsPD+euvv6yOIyIiTk5HmEREJM34+eefqVmzJmvWrGHkyJEArF27FpvNZnEyERFxVjrCJCIiaUJUVBQdOnTgzTffpHbt2nz++efs2LGDGTNmWB1NREScmI4wiYhImtCzZ09WrFjBvn378PX1BWDmzJn069ePAwcOEBwcbG1AERFxSipMIiKS6m3atIk6deqwceNGqlevnuBzDRo04NatWzo1T0RE7kqFSUREREREJBG6hklERERERCQRKkwiIiIiIiKJUGESERERERFJhAqTiIiIiIhIIlSYREREREREEqHCJCIiIiIikggVJhERERERkUSoMImIiIiIiCRChUlERERERCQRKkwiIiIiIiKJUGESERERERFJxP8BCSokUT/M26wAAAAASUVORK5CYII=\n"
                },
                "metadata": {}
              }
            ]
          }
        },
        "7b0543fabc394f268d569ac187777697": {
          "model_module": "@jupyter-widgets/base",
          "model_name": "LayoutModel",
          "model_module_version": "1.2.0",
          "state": {
            "_model_module": "@jupyter-widgets/base",
            "_model_module_version": "1.2.0",
            "_model_name": "LayoutModel",
            "_view_count": null,
            "_view_module": "@jupyter-widgets/base",
            "_view_module_version": "1.2.0",
            "_view_name": "LayoutView",
            "align_content": null,
            "align_items": null,
            "align_self": null,
            "border": null,
            "bottom": null,
            "display": null,
            "flex": null,
            "flex_flow": null,
            "grid_area": null,
            "grid_auto_columns": null,
            "grid_auto_flow": null,
            "grid_auto_rows": null,
            "grid_column": null,
            "grid_gap": null,
            "grid_row": null,
            "grid_template_areas": null,
            "grid_template_columns": null,
            "grid_template_rows": null,
            "height": null,
            "justify_content": null,
            "justify_items": null,
            "left": null,
            "margin": null,
            "max_height": null,
            "max_width": null,
            "min_height": null,
            "min_width": null,
            "object_fit": null,
            "object_position": null,
            "order": null,
            "overflow": null,
            "overflow_x": null,
            "overflow_y": null,
            "padding": null,
            "right": null,
            "top": null,
            "visibility": null,
            "width": null
          }
        },
        "c0b430c8455948888f93f604506ed909": {
          "model_module": "@jupyter-widgets/base",
          "model_name": "LayoutModel",
          "model_module_version": "1.2.0",
          "state": {
            "_model_module": "@jupyter-widgets/base",
            "_model_module_version": "1.2.0",
            "_model_name": "LayoutModel",
            "_view_count": null,
            "_view_module": "@jupyter-widgets/base",
            "_view_module_version": "1.2.0",
            "_view_name": "LayoutView",
            "align_content": null,
            "align_items": null,
            "align_self": null,
            "border": null,
            "bottom": null,
            "display": null,
            "flex": null,
            "flex_flow": null,
            "grid_area": null,
            "grid_auto_columns": null,
            "grid_auto_flow": null,
            "grid_auto_rows": null,
            "grid_column": null,
            "grid_gap": null,
            "grid_row": null,
            "grid_template_areas": null,
            "grid_template_columns": null,
            "grid_template_rows": null,
            "height": null,
            "justify_content": null,
            "justify_items": null,
            "left": null,
            "margin": null,
            "max_height": null,
            "max_width": null,
            "min_height": null,
            "min_width": null,
            "object_fit": null,
            "object_position": null,
            "order": null,
            "overflow": null,
            "overflow_x": null,
            "overflow_y": null,
            "padding": null,
            "right": null,
            "top": null,
            "visibility": null,
            "width": null
          }
        },
        "3b27133461984be4933e74a6a3240227": {
          "model_module": "@jupyter-widgets/controls",
          "model_name": "SliderStyleModel",
          "model_module_version": "1.5.0",
          "state": {
            "_model_module": "@jupyter-widgets/controls",
            "_model_module_version": "1.5.0",
            "_model_name": "SliderStyleModel",
            "_view_count": null,
            "_view_module": "@jupyter-widgets/base",
            "_view_module_version": "1.2.0",
            "_view_name": "StyleView",
            "description_width": "",
            "handle_color": null
          }
        },
        "30050bf7420f42f0a82dae9eb91d62e9": {
          "model_module": "@jupyter-widgets/base",
          "model_name": "LayoutModel",
          "model_module_version": "1.2.0",
          "state": {
            "_model_module": "@jupyter-widgets/base",
            "_model_module_version": "1.2.0",
            "_model_name": "LayoutModel",
            "_view_count": null,
            "_view_module": "@jupyter-widgets/base",
            "_view_module_version": "1.2.0",
            "_view_name": "LayoutView",
            "align_content": null,
            "align_items": null,
            "align_self": null,
            "border": null,
            "bottom": null,
            "display": null,
            "flex": null,
            "flex_flow": null,
            "grid_area": null,
            "grid_auto_columns": null,
            "grid_auto_flow": null,
            "grid_auto_rows": null,
            "grid_column": null,
            "grid_gap": null,
            "grid_row": null,
            "grid_template_areas": null,
            "grid_template_columns": null,
            "grid_template_rows": null,
            "height": null,
            "justify_content": null,
            "justify_items": null,
            "left": null,
            "margin": null,
            "max_height": null,
            "max_width": null,
            "min_height": null,
            "min_width": null,
            "object_fit": null,
            "object_position": null,
            "order": null,
            "overflow": null,
            "overflow_x": null,
            "overflow_y": null,
            "padding": null,
            "right": null,
            "top": null,
            "visibility": null,
            "width": null
          }
        },
        "342e0c05e0624d248004de35b0567668": {
          "model_module": "@jupyter-widgets/controls",
          "model_name": "SliderStyleModel",
          "model_module_version": "1.5.0",
          "state": {
            "_model_module": "@jupyter-widgets/controls",
            "_model_module_version": "1.5.0",
            "_model_name": "SliderStyleModel",
            "_view_count": null,
            "_view_module": "@jupyter-widgets/base",
            "_view_module_version": "1.2.0",
            "_view_name": "StyleView",
            "description_width": "",
            "handle_color": null
          }
        },
        "23c5760b8bf147dd9be28781f6ec275f": {
          "model_module": "@jupyter-widgets/base",
          "model_name": "LayoutModel",
          "model_module_version": "1.2.0",
          "state": {
            "_model_module": "@jupyter-widgets/base",
            "_model_module_version": "1.2.0",
            "_model_name": "LayoutModel",
            "_view_count": null,
            "_view_module": "@jupyter-widgets/base",
            "_view_module_version": "1.2.0",
            "_view_name": "LayoutView",
            "align_content": null,
            "align_items": null,
            "align_self": null,
            "border": null,
            "bottom": null,
            "display": null,
            "flex": null,
            "flex_flow": null,
            "grid_area": null,
            "grid_auto_columns": null,
            "grid_auto_flow": null,
            "grid_auto_rows": null,
            "grid_column": null,
            "grid_gap": null,
            "grid_row": null,
            "grid_template_areas": null,
            "grid_template_columns": null,
            "grid_template_rows": null,
            "height": null,
            "justify_content": null,
            "justify_items": null,
            "left": null,
            "margin": null,
            "max_height": null,
            "max_width": null,
            "min_height": null,
            "min_width": null,
            "object_fit": null,
            "object_position": null,
            "order": null,
            "overflow": null,
            "overflow_x": null,
            "overflow_y": null,
            "padding": null,
            "right": null,
            "top": null,
            "visibility": null,
            "width": null
          }
        }
      }
    }
  },
  "cells": [
    {
      "cell_type": "markdown",
      "metadata": {
        "id": "view-in-github",
        "colab_type": "text"
      },
      "source": [
        "<a href=\"https://colab.research.google.com/github/Vidcito/Metodos_Numericos/blob/main/LinearRegression.ipynb\" target=\"_parent\"><img src=\"https://colab.research.google.com/assets/colab-badge.svg\" alt=\"Open In Colab\"/></a>"
      ]
    },
    {
      "cell_type": "markdown",
      "source": [
        "# LINEAR REGRESSION\n",
        "## David Alejandro Puga Novoa\n",
        "### 14/12/2024"
      ],
      "metadata": {
        "id": "CICOQYgfchbz"
      }
    },
    {
      "cell_type": "code",
      "execution_count": 1,
      "metadata": {
        "id": "ovj8OdrCTO9h"
      },
      "outputs": [],
      "source": [
        "p1 = (5.4, 3.2)\n",
        "p2_i = (9.5, 0.7)\n",
        "p3 = (12.3, -3.6)"
      ]
    },
    {
      "cell_type": "code",
      "source": [
        "from ipywidgets import interact\n",
        "import matplotlib.pyplot as plt\n",
        "\n",
        "m = -1\n",
        "b = 8\n",
        "\n",
        "def update_plot(p2_x, p2_y):\n",
        "    x_coords = [p1[0], p2_x, p3[0]]\n",
        "    y_coords = [p1[1], p2_y, p3[1]]\n",
        "\n",
        "    plt.figure(figsize=(10, 6))\n",
        "    plt.scatter(x_coords, y_coords, color=\"red\")\n",
        "\n",
        "    x_line = [min(x_coords), max(x_coords)]\n",
        "    y_line = [m * x + b for x in x_line]\n",
        "    plt.plot(x_line, y_line, color=\"blue\")\n",
        "\n",
        "    plt.xlabel(\"X\")\n",
        "    plt.ylabel(\"Y\")\n",
        "    plt.title(\"Points and Line Plot\")\n",
        "    plt.show()\n",
        "\n",
        "\n",
        "_ = interact(update_plot, p2_x=(5.5, 12.3, 0.1), p2_y=(-10.0, 10.0, 0.1))"
      ],
      "metadata": {
        "colab": {
          "base_uri": "https://localhost:8080/",
          "height": 628,
          "referenced_widgets": [
            "3205cdd007bc4acdae23a7d45aa01d00",
            "da84b79864404f30944cb685cc402646",
            "f6cfa6cef2ff4fd6947bfbd514202626",
            "a863bc33f67b49178487712b4a5665f9",
            "3cd6fd409da74a92bfb3b854095a1776",
            "378036500fe3416b94649c0933be4319",
            "fd0ba9ffcb2c4cd4b47bc0da2bfcb4f1",
            "8322fd851f39435d91a3ad9ab8b1725e",
            "5ffb68fb1d204e319a7c1c32b9f6600f",
            "add026844c5a4e9bb5748f2dc0146be7"
          ]
        },
        "id": "OK5mFr7hXn3M",
        "outputId": "572637c8-21e1-4b1d-b469-a4d57859c0d8"
      },
      "execution_count": 7,
      "outputs": [
        {
          "output_type": "display_data",
          "data": {
            "text/plain": [
              "interactive(children=(FloatSlider(value=8.9, description='p2_x', max=12.3, min=5.5), FloatSlider(value=0.0, de…"
            ],
            "application/vnd.jupyter.widget-view+json": {
              "version_major": 2,
              "version_minor": 0,
              "model_id": "3205cdd007bc4acdae23a7d45aa01d00"
            }
          },
          "metadata": {}
        }
      ]
    },
    {
      "cell_type": "markdown",
      "source": [
        "Código with polyfit"
      ],
      "metadata": {
        "id": "9JSvifrccouR"
      }
    },
    {
      "cell_type": "code",
      "source": [
        "from ipywidgets import interact\n",
        "import matplotlib.pyplot as plt\n",
        "import numpy as np\n",
        "\n",
        "p1 = (5.4, 3.2)\n",
        "p3 = (12.3, -3.6)\n",
        "\n",
        "def update_plot(p2_x, p2_y):\n",
        "    x_coords = [p1[0], p2_x, p3[0]]\n",
        "    y_coords = [p1[1], p2_y, p3[1]]\n",
        "\n",
        "    coef = np.polyfit(x_coords, y_coords, 1)\n",
        "    m, b = coef\n",
        "\n",
        "    x_line = np.linspace(min(x_coords), max(x_coords), 100)\n",
        "    y_line = m * x_line + b\n",
        "\n",
        "    plt.figure(figsize=(10, 6))\n",
        "    plt.scatter(x_coords, y_coords, color=\"red\", label=\"Data Points\")\n",
        "    plt.plot(x_line, y_line, color=\"blue\", label=f\"Regression Line: y = {m:.2f}x + {b:.2f}\")\n",
        "\n",
        "    plt.xlabel(\"X\")\n",
        "    plt.ylabel(\"Y\")\n",
        "    plt.title(\"Linear Regression Line\")\n",
        "    plt.legend()\n",
        "    plt.grid(True)\n",
        "    plt.show()\n",
        "\n",
        "_ = interact(update_plot, p2_x=(5.5, 12.3, 0.1), p2_y=(-10.0, 10.0, 0.1))"
      ],
      "metadata": {
        "colab": {
          "base_uri": "https://localhost:8080/",
          "height": 628,
          "referenced_widgets": [
            "6b2fabcdb8724176b6193514bd44df21",
            "c03d412efac348b780cdb53b9f4861f5",
            "bbef45c6eb4a4962ad8d032370a2d7a4",
            "3bf41dcdcf954e839673f5d1b8944d08",
            "7b0543fabc394f268d569ac187777697",
            "c0b430c8455948888f93f604506ed909",
            "3b27133461984be4933e74a6a3240227",
            "30050bf7420f42f0a82dae9eb91d62e9",
            "342e0c05e0624d248004de35b0567668",
            "23c5760b8bf147dd9be28781f6ec275f"
          ]
        },
        "id": "bu8-5ZWkcKRk",
        "outputId": "53dd72d3-ae4b-4ee5-fc66-240fcdd4bb6d"
      },
      "execution_count": 12,
      "outputs": [
        {
          "output_type": "display_data",
          "data": {
            "text/plain": [
              "interactive(children=(FloatSlider(value=8.9, description='p2_x', max=12.3, min=5.5), FloatSlider(value=0.0, de…"
            ],
            "application/vnd.jupyter.widget-view+json": {
              "version_major": 2,
              "version_minor": 0,
              "model_id": "6b2fabcdb8724176b6193514bd44df21"
            }
          },
          "metadata": {}
        }
      ]
    },
    {
      "cell_type": "markdown",
      "source": [
        "https://github.com/BelenRaura/ProyectoMetodos/blob/main/LinearRegression.ipynb"
      ],
      "metadata": {
        "id": "2_3-2nFzdjkX"
      }
    }
  ]
}